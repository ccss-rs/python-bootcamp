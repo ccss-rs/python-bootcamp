{
  "nbformat": 4,
  "nbformat_minor": 0,
  "metadata": {
    "colab": {
      "name": "Advanced Python Bootcamp.ipynb",
      "provenance": [],
      "collapsed_sections": []
    },
    "kernelspec": {
      "name": "python3",
      "display_name": "Python 3"
    },
    "language_info": {
      "name": "python"
    }
  },
  "cells": [
    {
      "cell_type": "markdown",
      "source": [
        "# Advanced Topics: Common Pitfalls and Dealing with Errors\n",
        "\n",
        "**Welcome**\n",
        "\n",
        "Learning Objectives:\n",
        "\n",
        "\n",
        "* Learn how to read Python error messages\n",
        "* Practice using Python error messages to track down problems in your code\n",
        "* Know about some of the (non-error) mistakes that are easy to make in Python and learn ways to avoid them\n",
        "\n",
        "\n",
        "\n",
        "\n"
      ],
      "metadata": {
        "id": "UCwhQJWJLGbI"
      }
    },
    {
      "cell_type": "markdown",
      "source": [
        "## The basics of error messages\n",
        "\n",
        "At various points throughout this workshop series, we've shown you examples of code that will cause errors. You may have noticed that attempting to run such code causes Python to print out a message, known as an *error message*, that explains exactly what the error was. As a reminder, let's look at the following piece of code that attempts to add an integer and a string without casting:\n",
        "\n",
        "\n"
      ],
      "metadata": {
        "id": "12Q28Bnl8cVk"
      }
    },
    {
      "cell_type": "code",
      "source": [
        "print(1 + \"2\")"
      ],
      "metadata": {
        "id": "hi2gGQYP9D3z"
      },
      "execution_count": null,
      "outputs": []
    },
    {
      "cell_type": "markdown",
      "source": [
        "This error message contains two important parts. First, there is an arrow pointing to the line of code that caused the error:\n",
        "\n",
        "```\n",
        "----> 1 print(1 + \"2\")\n",
        "```\n",
        "And second, there is a description of what the error was:\n",
        "```\n",
        "TypeError: unsupported operand type(s) for +: 'int' and 'str'\n",
        "```\n",
        "While there is a little bit of technical jargon here, you can still get a sense of what the error is by looking at some keywords. We see that the error is called a \"TypeError\", which tells us that the error has something to do with *types*. Then, we see that the types \"int\" and \"str\" are specifically mentioned. We know what these are referring to in the line of code the arrow is pointing to, because there is only one int in that line (the 1) and only one str (the \"2\"). Putting all of this information together, we can guess that the way to fix this is to change one of the types using casting:"
      ],
      "metadata": {
        "id": "uZNKaJLZ9PAA"
      }
    },
    {
      "cell_type": "code",
      "source": [
        "print(1 + int(\"2\"))"
      ],
      "metadata": {
        "id": "xYP4eG5m-riA"
      },
      "execution_count": null,
      "outputs": []
    },
    {
      "cell_type": "markdown",
      "source": [
        "And indeed, that worked!\n",
        "\n",
        "One important thing to notice is that error messages do not tell you exactly what you need to do to fix the error. This is because most of the time, there is more than one possible solution! For example, instead of casting the \"2\" to an int, we could have casted the 1 to a str:"
      ],
      "metadata": {
        "id": "rUS7UXFK-uBx"
      }
    },
    {
      "cell_type": "code",
      "source": [
        "print(str(1) + \"2\")"
      ],
      "metadata": {
        "id": "n_DIWXUQ-tKJ"
      },
      "execution_count": null,
      "outputs": []
    },
    {
      "cell_type": "markdown",
      "source": [
        "As a result, reading an error message and using it to solve the error is not a completely straightforward process. It requires some knowledge to fill in the gaps. In this case, the error message only told us that int and str caused problems when we tried to use them together in that line of code. To finish solving the problem, we needed to apply our Python knowledge that we learned earlier in this workshop series, remembering that the \"+\" operator can either perform addition on two ints or concatenation on two strs."
      ],
      "metadata": {
        "id": "Bcr6-3om_C71"
      }
    },
    {
      "cell_type": "markdown",
      "source": [
        "## Exercise\n",
        "\n",
        "The following code attempts to change the 5th item in a list of hometowns to \"Ithaca\", but it contains an error. What error message do you get? What should you do to fix it?"
      ],
      "metadata": {
        "id": "e05xpL3S_-j9"
      }
    },
    {
      "cell_type": "code",
      "source": [
        "hometowns = [\"Brooklyn\", \"Atlanta\", \"Hampton\", \"Brentwood\", \"Lexington\"]\n",
        "hometowns[5] = \"Ithaca\"\n",
        "print(hometowns)"
      ],
      "metadata": {
        "id": "1JIeflhHAJe7"
      },
      "execution_count": null,
      "outputs": []
    },
    {
      "cell_type": "markdown",
      "source": [
        "## Functions and tracebacks\n",
        "\n",
        "Error messages get more complicated when functions are involved. This is because an error can happen *inside* a function. When this happens, Python will illustrate this through what is known as a *traceback*, showing **all** relevant lines of code leading up to the eventual error, as shown in the below example:"
      ],
      "metadata": {
        "id": "tUROI1PT_ypo"
      }
    },
    {
      "cell_type": "code",
      "source": [
        "def addFive(x):\n",
        "    print(x + 5)\n",
        "\n",
        "addFive(\"10\")"
      ],
      "metadata": {
        "id": "UsaJYj1M_A5L"
      },
      "execution_count": null,
      "outputs": []
    },
    {
      "cell_type": "markdown",
      "source": [
        "As we can see, there are now *two* arrows! The first one points to `addFive(10)`, which is the line where we call the function. The second one points to `print(x + 5)`, which is the part of the function where the TypeError happens. This information is extremely useful, because in fact both lines of code contributed to the error! The TypeError here happened for the same reason as the first example: we tried to add a string to an int. But the string came from a different line of code (the first arrow) than the actual addition (the second arrow).\n",
        "\n",
        "Once again there are multiple possible solutions to the error, depending on what we, as the authors of the code, actually intended. If we intended addFive to be a function that only works on ints, then the problem is that we gave it a string when we called it, so the solution is to fix the line where we call the function so that we give it an int instead:"
      ],
      "metadata": {
        "id": "A1HXHKE9BGoY"
      }
    },
    {
      "cell_type": "code",
      "source": [
        "def addFive(x):\n",
        "    print(x + 5)\n",
        "\n",
        "addFive(10)"
      ],
      "metadata": {
        "id": "FAiCaCJtBCud"
      },
      "execution_count": null,
      "outputs": []
    },
    {
      "cell_type": "markdown",
      "source": [
        "On the other hand, if we intended addFive to be a function that can take non-int values, then the solution is to always cast the parameter x to an int:"
      ],
      "metadata": {
        "id": "Ei7i3M9DDF3d"
      }
    },
    {
      "cell_type": "code",
      "source": [
        "def addFive(x):\n",
        "    print(int(x) + 5)\n",
        "\n",
        "addFive(\"10\")"
      ],
      "metadata": {
        "id": "_XNAdATzDEja"
      },
      "execution_count": null,
      "outputs": []
    },
    {
      "cell_type": "markdown",
      "source": [
        "Of course, we had multiple options here because addFive was a function that we wrote ourselves. But in practice, most code we write will use functions that *someone else* wrote - that is, functions from a package. Sometimes errors can arise when using a function that you imported from a package, and in this case the traceback might show you where in the package function the error happened, just like in our addFive example:"
      ],
      "metadata": {
        "id": "_AfjN3MUEwcp"
      }
    },
    {
      "cell_type": "code",
      "source": [
        "import numpy as np\n",
        "print(np.max([10, 3, 8, 21, \"47\", 50]))"
      ],
      "metadata": {
        "id": "vjzj0dIoDjxL"
      },
      "execution_count": null,
      "outputs": []
    },
    {
      "cell_type": "markdown",
      "source": [
        "Like in the addFive example, here the error happens because a line inside the np.max function does not work with the argument we gave when calling np.max (a list with ints and strs). But in this case, we did not write the np.max function ourselves, which means we cannot change anything inside the function - we have to obey the package author's intent! And in this case the package author's intent is that np.max cannot be used on lists that have mixed types. So the only solution we have is to change the code where we called the function, to give it an argument that is allowed, such as a list of only ints."
      ],
      "metadata": {
        "id": "hLjuUNriFIS8"
      }
    },
    {
      "cell_type": "code",
      "source": [
        "import numpy as np\n",
        "print(np.max([10, 3, 8, 21, 47, 50]))"
      ],
      "metadata": {
        "id": "3yhKK7YWEAPd"
      },
      "execution_count": null,
      "outputs": []
    },
    {
      "cell_type": "markdown",
      "source": [
        "One last thing to know about tracebacks is that they can get very \"deep\"; that is, you can get a traceback that points to *many* lines of code, not just one or two. This happens when you have a lot of functions calling other functions. Here's a modified version of our addFive example involving multiple function calls:"
      ],
      "metadata": {
        "id": "aw6LxnU_rbey"
      }
    },
    {
      "cell_type": "code",
      "source": [
        "netIDs = {\"Jonathan\": \"jpc362\", \"Sam\": \"sd567\"}\n",
        "\n",
        "def addFive(x):\n",
        "    print(x + 5)\n",
        "\n",
        "def add_netid_number(netid):\n",
        "    number = netid[-3:]\n",
        "    addFive(number)\n",
        "\n",
        "def add_to_name(name):\n",
        "    netid = netIDs[name]\n",
        "    add_netid_number(netid)\n",
        "\n",
        "add_to_name(\"Jonathan\")"
      ],
      "metadata": {
        "id": "zAzScjQZsMsk"
      },
      "execution_count": null,
      "outputs": []
    },
    {
      "cell_type": "markdown",
      "source": [
        "As we can see, the resulting traceback has arrows pointing to 4 lines of code. Here's a walkthrough of what happened:\n",
        "\n",
        "1.   We called the add_to_name function with the argument \"Jonathan\".\n",
        "2.   add_to_name looked up Jonathan's netID, \"jpc362\", and then called add_netid_number with that string as the argument.\n",
        "3.   add_netid_number extracted the number part of Jonathan's netID, which is \"362\" (but importantly, because this was done using string slicing, it is still a string!). It then called addFive with \"362\" as the argument.\n",
        "4.   addFive tried to add the string \"362\" to the int 5, causing a TypeError.\n",
        "\n",
        "Like before, the solution would be to cast the string \"362\" to an int, either by always casting the argument x in addFive, or by casting the variable number inside the add_netid_number function.\n",
        "\n"
      ],
      "metadata": {
        "id": "VTBnVAZOtEkB"
      }
    },
    {
      "cell_type": "markdown",
      "source": [
        "## Challenge\n",
        "\n",
        "The code below, which attempts to compute the median age of all non-underaged participants in a dataset, involves a large number of function calls and eventually causes an error. Answer the following questions:\n",
        "\n",
        "1.   What error occurs, and inside which function?\n",
        "2.   What is the reason for the error (for example, in the addFive example, the reason for the error was that we tried to add two things of different types)\n",
        "3.   How can the error be fixed? (There may be multiple valid solutions)\n",
        "\n",
        "HINT: Remember that if you are ever unsure of the type of a variable, you can use the type() function to find out what it is."
      ],
      "metadata": {
        "id": "ollPC9Wi6MIC"
      }
    },
    {
      "cell_type": "code",
      "source": [
        "ages = [15, 23, 54, 17, 77, 42, 35, 16, 33, 72, 80, 22, 27, 45]\n",
        "\n",
        "def get_middle_index(the_list):\n",
        "    number_of_items = len(the_list)\n",
        "    return number_of_items / 2\n",
        "\n",
        "def get_nth_sorted_item(the_list, n):\n",
        "    sorted_list = sorted(the_list) # note: the sorted() function returns a sorted version of the list\n",
        "    return sorted_list[n]\n",
        "\n",
        "def median_with_age_limit(list_of_ages, age_limit):\n",
        "    valid_ages = []\n",
        "    for age in list_of_ages:\n",
        "        if age > age_limit:\n",
        "            valid_ages.append(age)\n",
        "    middle_index = get_middle_index(valid_ages)\n",
        "    return get_nth_sorted_item(valid_ages, middle_index)\n",
        "\n",
        "def median_adult_age(list_of_ages):\n",
        "    age = median_with_age_limit(list_of_ages, 18)\n",
        "    print(age)\n",
        "\n",
        "median_adult_age(ages)"
      ],
      "metadata": {
        "id": "ozS57E9I61mP"
      },
      "execution_count": null,
      "outputs": []
    },
    {
      "cell_type": "markdown",
      "source": [
        "## Common pitfalls (and how to avoid them)\n",
        "\n",
        "Thus far, we have discussed *errors* which are problems so severe that Python will be completely unable to run the affected code. As we have seen, when errors happen, you can use the error message to track down the exact problem and fix it. Error messages are not always straightforward, but they are better than nothing!\n",
        "\n",
        "Unfortunately, you will also often find yourself facing problems that are *not* errors. That is, your code will run perfectly fine but it will not behave the way you were expecting. These are caused by *human* mistakes - for example, maybe you use the wrong comparison in an if statement, like using < instead of >. And because no actual error occurs, Python will not tell you anything is wrong (because from its perspective, **there is nothing wrong**), which can make these problems very difficult to track down! \n",
        "\n",
        "Solving these problems is more of an art than a science, so sadly there is no step-by-step guide we can offer for solving every single possible issue. But instead what we can offer is an overview of some common pitfalls that are easy to fall into when writing Python code. If you are not aware of these pitfalls, you can easily end up writing code that produces unexpected behavior! As such, if facing code that is not working the way you expect, one first step might be to check that you are not making any of these easy-to-make mistakes."
      ],
      "metadata": {
        "id": "HWCh2hBpJKda"
      }
    },
    {
      "cell_type": "markdown",
      "source": [
        "## Pitfall 1: The consequences of mutability\n",
        "In Python, some types of objects are \"mutable\" and others are \"immutable\". \"Immutable\" means that the object cannot be changed after creation, \"mutable\" means that the object can be changed.\n",
        "\n",
        "A good example to illustrate the difference is strings versus lists. Strings are immutable while lists are mutable. Therefore, even though strings and lists work similarly in terms of indexing, there are certain things you can do with lists that you cannot do with strings. You can change the items in a list, because lists are mutable:"
      ],
      "metadata": {
        "id": "z1krpCzfe8pg"
      }
    },
    {
      "cell_type": "code",
      "source": [
        "Hometown_list = [\"Brooklyn\", \"Atlanta\", \"Hampton\", \"Brentwood\", \"Lexington\"]\n",
        "Hometown_list[0] = \"Ithaca\"\n",
        "print('Hometown List is now:', Hometown_list)"
      ],
      "metadata": {
        "id": "A-bbfLvPCm8n"
      },
      "execution_count": null,
      "outputs": []
    },
    {
      "cell_type": "markdown",
      "source": [
        "By contrast, you cannot change the characters in a string the same way:"
      ],
      "metadata": {
        "id": "PWFJQQZtgR0U"
      }
    },
    {
      "cell_type": "code",
      "source": [
        "mystring = \"Donut\"\n",
        "mystring[0] = 'C' # this will cause an error"
      ],
      "metadata": {
        "id": "zX-MGp97Cln6"
      },
      "execution_count": null,
      "outputs": []
    },
    {
      "cell_type": "markdown",
      "source": [
        "Other examples of mutable types include dictionaries and sets, while other examples of immutable types include tuples."
      ],
      "metadata": {
        "id": "EsXVNmy8xLbj"
      }
    },
    {
      "cell_type": "markdown",
      "source": [
        "**Mutability has consequences!**\n",
        "\n",
        "The fact that lists are mutable  means that any other variables pointing to a list will also be changed if that list gets changed. This can cause a lot of confusion if you're not expecting it! \n",
        "\n",
        "In the following example, the variables Hometown_list and new_list both refer to the same list value, and as a result when we change Hometown_list, new_list also gets changed."
      ],
      "metadata": {
        "id": "yZ-cXW6P6Opk"
      }
    },
    {
      "cell_type": "code",
      "source": [
        "new_list = Hometown_list\n",
        "print(\"original list: \", Hometown_list)\n",
        "print(\"new list: \", new_list)\n",
        "print()\n",
        "\n",
        "Hometown_list[0] = \"Jersey\"\n",
        "print(\"original list: \", Hometown_list)\n",
        "print(\"new list: \", new_list)"
      ],
      "metadata": {
        "id": "EVP5mQ1R6Tl6"
      },
      "execution_count": null,
      "outputs": []
    },
    {
      "cell_type": "markdown",
      "source": [
        "Furthermore, mutability goes both ways! Continuing off the previous example, changing new_list will also change the original Hometown_list:"
      ],
      "metadata": {
        "id": "kYlABgsC6VQb"
      }
    },
    {
      "cell_type": "code",
      "source": [
        "new_list[0] = \"Pasadena\"\n",
        "print(\"original list: \", Hometown_list)\n",
        "print(\"new list: \", new_list)"
      ],
      "metadata": {
        "id": "4ywvuaZx6Ws1"
      },
      "execution_count": null,
      "outputs": []
    },
    {
      "cell_type": "markdown",
      "source": [
        "**What if we don't want to change the original variable?**\n",
        "\n",
        "Mutability can be extremely useful, since it lets you modify data throughout your code. But as we have seen, it can sometimes cause problems too. What if you actually want to make a new variable that doesn't affect the original one? In this case, to avoid the consequences of mutability, we would need to make a *copy* of the object.\n",
        "\n",
        "For lists, slicing automatically makes a copy of the data:"
      ],
      "metadata": {
        "id": "g0z8mSwz6ZvH"
      }
    },
    {
      "cell_type": "code",
      "source": [
        "Hometown_list = [\"Brooklyn\", \"Atlanta\", \"Hampton\", \"Brentwood\", \"Lexington\"] # here's our original hometown list again...\n",
        "\n",
        "derived_list = Hometown_list[0:5] # a trick for making a copy of a list: make a slice that contains all indices from the list!\n",
        "print(\"derived_list is originally: \", derived_list)\n",
        "\n",
        "Hometown_list[0] = \"Pensacola\"\n",
        "print(\"changed Hometown_list: \", Hometown_list)\n",
        "\n",
        "\n",
        "\n",
        "print(\"unchanged derived_list:\", derived_list)"
      ],
      "metadata": {
        "id": "bml8Rpea6b83"
      },
      "execution_count": null,
      "outputs": []
    },
    {
      "cell_type": "markdown",
      "source": [
        "For other types of objects, you can use the `copy` package, which is a default package in Python, to easily make copies. Here's a demonstration with dictionaries:"
      ],
      "metadata": {
        "id": "AFwbECfCxZTG"
      }
    },
    {
      "cell_type": "code",
      "source": [
        "import copy\n",
        "\n",
        "original_dict = {'a': 1, 'b': 42, 'c': 99}\n",
        "new_dict = original_dict # using regular variable assignment, the new variable new_dict will be affected by changes to original_dict\n",
        "copy_dict = copy.copy(original_dict) # using copy, the new variable copy_dict will NOT be affected by changes to original_dict\n",
        "\n",
        "original_dict['a'] = -99\n",
        "print(\"original_dict is now:\", original_dict)\n",
        "print(\"new_dict is also affected, because dicts are mutable:\", new_dict)\n",
        "print(\"copy_dict is NOT affected, because it is a copy:\", copy_dict)"
      ],
      "metadata": {
        "id": "srYPk77OxW0h"
      },
      "execution_count": null,
      "outputs": []
    },
    {
      "cell_type": "markdown",
      "source": [
        "## Pitfall 2: Mutating iterators\n",
        "\n",
        "So far, we have seen that lists are mutable and this can lead to confusing behavior. You may recall that a common use of lists is to use them as collections in a loop. So you might wonder: what happens if you modify a list *while* you're iterating on it?\n",
        "\n",
        "To see why doing this can be a pitfall, consider the following example that modifies the last item in a list while it is looping. What will be the last thing that gets printed out: \"ITH\" or \"SYR\"?"
      ],
      "metadata": {
        "id": "ShcMzOnY8ZLu"
      }
    },
    {
      "cell_type": "code",
      "source": [
        "upstate_airports = [\"ELM\", \"BUF\", \"SYR\"]\n",
        "for i in upstate_airports:\n",
        "    upstate_airports[-1] = \"ITH\"\n",
        "    print(i)"
      ],
      "metadata": {
        "id": "o4ICszou85xN"
      },
      "execution_count": null,
      "outputs": []
    },
    {
      "cell_type": "markdown",
      "source": [
        "As we can see, \"ITH\" gets printed. This is because the change to the list takes effect immediately, even though the list is currently being used in a loop.\n",
        "\n",
        "This can get even more confusing when you change the *number of items* in a list while you're looping over it. For example, suppose instead of changing the last item in the list, we deleted it. How many things would get printed out, 2 or 3?"
      ],
      "metadata": {
        "id": "mVuHrz8K9OZh"
      }
    },
    {
      "cell_type": "code",
      "source": [
        "upstate_airports = [\"ELM\", \"BUF\", \"SYR\"]\n",
        "for i in upstate_airports:\n",
        "    del upstate_airports[-1]\n",
        "    print(i)"
      ],
      "metadata": {
        "id": "hUqHLOJp9oZK"
      },
      "execution_count": null,
      "outputs": []
    },
    {
      "cell_type": "markdown",
      "source": [
        "Again, the change takes place immediately. This is something you need to be extremely careful about, because it means that if you keep making a list *longer* while you are iterating on it, your loop might never finish running! This is what's known as an *infinite loop*.\n",
        "\n",
        "It is therefore a good idea to avoid modifying a list while you're iterating on it, unless absolutely necessary...and you should *never* add or remove items from the list while iterating on it!"
      ],
      "metadata": {
        "id": "Jvr29DJS9wEC"
      }
    },
    {
      "cell_type": "markdown",
      "source": [
        "## Pitfall 3: Scope and naming conflicts"
      ],
      "metadata": {
        "id": "80QkNZbUFkS1"
      }
    },
    {
      "cell_type": "markdown",
      "source": [
        "**The scope** \n",
        "\n",
        "**Scope** refers to the part of the program where a name (variable or function) is accessible. Python has 4 types of scopes (global, local, non local, and built-in). We will focus on the first two:\n",
        "\n",
        "**The Global Scope**\n",
        "\n",
        "Global scope is the main body of the program. Any variables or functions we define here will be available to all code. In other words, if a variable is defined in the global score, modifying that variable anywhere in our code will impact that same variable wherever else it is found on the code. As you can imagine, this might get very messy! So we try to avoid using the global scope, which would be hard to debug later on. \n",
        "\n",
        "**The Local Scope**\n",
        "\n",
        "Local scope is the breadth of a function. More specifically, every function has its own unique local scope. The variables defined inside a function are only available inside that function. In other words, they exist only when the function is executed. These variables are created each time we CALL the function, rather than when we define them. \n",
        "\n",
        "Let's see an example of using a variable in the global scope:"
      ],
      "metadata": {
        "id": "pasIsyUW6yOh"
      }
    },
    {
      "cell_type": "code",
      "source": [
        "country = \"Argentina\" #A global variable\n",
        "\n",
        "def python_welcome(): #A function calling a global variable\n",
        "    welcome = \"Welcome to\"\n",
        "    print(welcome, country,\"!\")\n",
        "python_welcome()\n",
        "\n",
        "def nationality_name(name): #Another function calling a global variable\n",
        "    print(name, \"is from\", country)\n",
        "nationality_name(\"sam\")"
      ],
      "metadata": {
        "id": "XjR6RCHG9IMB"
      },
      "execution_count": null,
      "outputs": []
    },
    {
      "cell_type": "markdown",
      "source": [
        "As we can see, we were able to access the variable \"country\" inside multiple functions. This is because \"country\" was defined outside the functions, and is therefore in global scope, which means that it can be accessed anywhere in our code."
      ],
      "metadata": {
        "id": "2wOjLPcR5exY"
      }
    },
    {
      "cell_type": "markdown",
      "source": [
        "And now let's see an example of using a variable in a local scope:"
      ],
      "metadata": {
        "id": "mZoPp_QY_8v1"
      }
    },
    {
      "cell_type": "code",
      "source": [
        "def a_local_value(): #A function with a local variable in it\n",
        "    value = 1 #A local variable\n",
        "    print(\"The value defined is: \", value)\n",
        "a_local_value()"
      ],
      "metadata": {
        "id": "yWjK3BWxABYQ"
      },
      "execution_count": null,
      "outputs": []
    },
    {
      "cell_type": "markdown",
      "source": [
        "What do you think would happen if I call a variable named inside a function, outside of this function?\n",
        "\n",
        "Try the following code to test your guess:"
      ],
      "metadata": {
        "id": "axWAomrLAbpK"
      }
    },
    {
      "cell_type": "code",
      "source": [
        "def a_local_value(): #A function with a local variable in it\n",
        "    value = 1 #A local variable\n",
        "print(\"The value defined is: \", value)"
      ],
      "metadata": {
        "id": "DMbZb8tXAgV6"
      },
      "execution_count": null,
      "outputs": []
    },
    {
      "cell_type": "markdown",
      "source": [
        "Sometimes we will need to call on a local variable as if it were global, or viceversa, that is, we will want to modify their behavior. \n",
        "\n",
        "The keyworks global and local will let us do that."
      ],
      "metadata": {
        "id": "ugK8itsiDPOZ"
      }
    },
    {
      "cell_type": "markdown",
      "source": [
        "For example, the error in the prior code block, we could fix as follows:"
      ],
      "metadata": {
        "id": "isb3awSQD74G"
      }
    },
    {
      "cell_type": "code",
      "source": [
        "#Creating a variable called another_value within a function, but modifying its behavior with keyword global\n",
        "def a_local_value(): \n",
        "    global another_value\n",
        "    another_value = 3\n",
        "    print(\"In Function value is: \", another_value)\n",
        "a_local_value()\n",
        "\n",
        "#Calling that variable from the global scope\n",
        "print(\"Outside Function value is: \", another_value)"
      ],
      "metadata": {
        "id": "PLx8dgCWECAc"
      },
      "execution_count": null,
      "outputs": []
    },
    {
      "cell_type": "markdown",
      "source": [
        "By using the global keyword, we were able to force the variable \"another_value\" to be in global scope, even though it was defined inside a function. Making it global allowed us to access it outside the function."
      ],
      "metadata": {
        "id": "Ii60rg8r6MPK"
      }
    },
    {
      "cell_type": "markdown",
      "source": [
        "The pitfall you need to be very careful about is what happens when the *same* name appears in multiple scopes! For example, consider the following code which defines a variable called \"my_name\" in the global scope, then defines *another* variable *also* called \"my_name\" in a function's local scope. What do you think will be printed out, \"Jonathan\" or \"Sam\"?"
      ],
      "metadata": {
        "id": "GQ_Xksh36Xx-"
      }
    },
    {
      "cell_type": "code",
      "source": [
        "my_name = \"Jonathan\" # Defining my_name in global scope\n",
        "\n",
        "def say_my_name():\n",
        "    my_name = \"Sam\" # Defining my_name in local scope\n",
        "    print(my_name)\n",
        "\n",
        "say_my_name() # What gets printed?"
      ],
      "metadata": {
        "id": "QfPjn8-x6tuc"
      },
      "execution_count": null,
      "outputs": []
    },
    {
      "cell_type": "markdown",
      "source": [
        "As we can see, \"Sam\" got printed. This is because the local scope takes priority. Also, because the local version of my_name is different from the global one, accessing my_name outside the function will *still* print \"Jonathan\":"
      ],
      "metadata": {
        "id": "S9fXys8l6_P0"
      }
    },
    {
      "cell_type": "code",
      "source": [
        "print(my_name)"
      ],
      "metadata": {
        "id": "B8ihYNrU7TjM"
      },
      "execution_count": null,
      "outputs": []
    },
    {
      "cell_type": "markdown",
      "source": [
        "If we had actually wanted to change the global variable my_name inside the function, we would need to use the global keyword as we discussed before. But remember, what this is doing is telling Python to treat my_name as the global version, so any changes we make this way will also affect things outside the function!"
      ],
      "metadata": {
        "id": "5ImldI9w7Wfz"
      }
    },
    {
      "cell_type": "code",
      "source": [
        "my_name = \"Jonathan\"\n",
        "\n",
        "def say_my_name():\n",
        "    global my_name # force the function to access the global version of my_name\n",
        "    my_name = \"Sam\"\n",
        "    print(\"Inside function:\", my_name)\n",
        "\n",
        "say_my_name()\n",
        "print(\"Outside function:\", my_name)"
      ],
      "metadata": {
        "id": "IoH8LaTG7WFR"
      },
      "execution_count": null,
      "outputs": []
    },
    {
      "cell_type": "markdown",
      "source": [
        "You can see how this will get extremely confusing! To avoid confusion, try to do the following when you write code:\n",
        "\n",
        "*   Avoid defining variables in the global scope\n",
        "*   If you must create global variables, give them unique names; you want to avoid using the same names for local variables!\n",
        "\n"
      ],
      "metadata": {
        "id": "7PXb7jVHJTwJ"
      }
    }
  ]
}
