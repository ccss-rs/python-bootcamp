{
 "cells": [
  {
   "cell_type": "markdown",
   "metadata": {
    "id": "p6_4TinLknV1"
   },
   "source": [
    "# Python Series Part 2: Understanding The Python Package Ecosystem\n",
    "\n",
    "Welcome to part 2 of our Python workshop series! In this workshop, we'll be covering one of the most useful parts of Python: its extensive ecosystem of helpful *packages*. These packages are an incredibly valuable resource to researchers, as they can perform a lot of the common tasks you'll frequently encounter when doing data science.\n",
    "\n",
    "This guided tutorial is presented as an interactive Jupyter notebook, and you are invited to follow along by running the code in your own notebook.\n",
    "\n",
    "Learning objectives:\n",
    "*   Understand what packages are and how to use them\n",
    "*   Understand the process of installing new packages through PyPI and `pip`\n",
    "*   Familiarize yourself with the list of commonly used data science packages, and know which package to use for each specific task you might need in your own research\n",
    "*   Get hands-on experience with `numpy`, the package that forms the basis of most of the Python data science ecosystem\n",
    "\n"
   ]
  },
  {
   "cell_type": "markdown",
   "metadata": {
    "id": "mwId5CGhndTe"
   },
   "source": [
    "## 1. What are packages?\n",
    "\n",
    "A *package* is a collection of premade functions designed to help with specific tasks. For example, in the social sciences we often need to generate random numbers (for example, when running a simulation), and there is a package called `random` (https://docs.python.org/3.8/library/random.html) that provides functions for doing this.\n",
    "\n",
    "To use the functions in a package, we first need to tell Python that we want to use the package. To do this, we use the `import` syntax:"
   ]
  },
  {
   "cell_type": "code",
   "execution_count": null,
   "metadata": {
    "id": "LFtsuA11kKbJ"
   },
   "outputs": [],
   "source": [
    "import random"
   ]
  },
  {
   "cell_type": "markdown",
   "metadata": {
    "id": "OOgst1-po1a1"
   },
   "source": [
    "Once we have imported the package, we can access its functions using the \".\" syntax, the same syntax used to access methods.\n",
    "\n",
    "Let's explore this by playing with some of the functions from the `random` package. We'll look at two functions:\n",
    "*   `randint(a,b)`: generates a random integer that is greater than or equal to `a` but smaller than `b`\n",
    "*   `choice(l)`: picks a random value from the list `l`"
   ]
  },
  {
   "cell_type": "code",
   "execution_count": null,
   "metadata": {
    "colab": {
     "base_uri": "https://localhost:8080/"
    },
    "id": "jg8jeMoRouV4",
    "outputId": "7653f294-1a5e-427e-8043-b53b6970f966"
   },
   "outputs": [],
   "source": [
    "rand_int1 = random.randint(0, 10) # create and print 3 random integers\n",
    "rand_int2 = random.randint(0, 10)\n",
    "rand_int3 = random.randint(20, 100)\n",
    "print(rand_int1, rand_int2, rand_int3)"
   ]
  },
  {
   "cell_type": "code",
   "execution_count": null,
   "metadata": {
    "colab": {
     "base_uri": "https://localhost:8080/"
    },
    "id": "-Nd1ud-fq1el",
    "outputId": "987ee14f-7c74-4663-8e44-171a9d2a5d35"
   },
   "outputs": [],
   "source": [
    "names = ['Jonathan', 'Samantha', 'Xiaomeng', 'Aishat', 'Florio', 'Jacob']\n",
    "print(random.choice(names)) # pick a random name"
   ]
  },
  {
   "cell_type": "markdown",
   "metadata": {
    "id": "aihVl7v8rlgm"
   },
   "source": [
    "If you know that you only need a few specific functions from a package, instead of importing the whole package you can only import those specific functions. This is convenient because you can then use those functions without the \".\" syntax. To import a specific function, use the syntax `from [package name] import [function]`:"
   ]
  },
  {
   "cell_type": "code",
   "execution_count": null,
   "metadata": {
    "colab": {
     "base_uri": "https://localhost:8080/"
    },
    "id": "YzDQb3JfrbYT",
    "outputId": "7178c82e-f3be-48a2-c1b0-c10d690aa4c5"
   },
   "outputs": [],
   "source": [
    "from random import randint, choice\n",
    "# now we can use randint and choice without having to type \"random.\" first\n",
    "print(randint(0, 10))\n",
    "print(choice(names))"
   ]
  },
  {
   "cell_type": "markdown",
   "metadata": {
    "id": "QW5X59TAsl34"
   },
   "source": [
    "## 2. Installing packages: PyPI and pip\n",
    "\n",
    "Some packages, such as `random`, are automatically installed for you when you first install Python. But what if we want more packages? To get more packages, we will need to install them ourselves.\n",
    "\n",
    "Python packages are hosted online on the Python Package Index (PyPI): https://pypi.org/. Feel free to take a look around and browse the packages that are available!\n",
    "\n",
    "To install a package, use `pip`:"
   ]
  },
  {
   "cell_type": "code",
   "execution_count": null,
   "metadata": {
    "colab": {
     "base_uri": "https://localhost:8080/"
    },
    "id": "yt6gkpr0sMY7",
    "outputId": "c7749560-27d2-4b7c-8bdc-4f502a20d7b2"
   },
   "outputs": [],
   "source": [
    "!pip install python-twitter"
   ]
  },
  {
   "cell_type": "markdown",
   "metadata": {
    "id": "F4EgG160uJnD"
   },
   "source": [
    "When installing a package, the name you type has to match the official package name **exactly**, otherwise the installation will fail. If you are unsure of the official name of the package, check its page on the PyPI website."
   ]
  },
  {
   "cell_type": "code",
   "execution_count": null,
   "metadata": {
    "colab": {
     "base_uri": "https://localhost:8080/"
    },
    "id": "dapeqmuJtrrO",
    "outputId": "4e1c9da9-1935-4132-fe63-18966d7c81fd"
   },
   "outputs": [],
   "source": [
    "# this will fail because the official name of the package is python-twitter, not pythontwitter\n",
    "!pip install pythontwitter"
   ]
  },
  {
   "cell_type": "markdown",
   "metadata": {},
   "source": [
    "Be careful to understand the difference between PyPI and `pip`! PyPI is the *online* collection of available Python packages, and `pip` is a tool that downloads a package from PyPI and installs it to *your computer*. One way to understand the difference is through the analogy of a *library* and a *librarian*. When you go to the library in search of a specific book, you can ask the librarian to get that book for you. In this analogy, PyPI is the library, containing many packages (books), and `pip` is the librarian who you can ask to fetch a specific package (book) for you."
   ]
  },
  {
   "cell_type": "markdown",
   "metadata": {
    "id": "JpkJUYhzvRnO"
   },
   "source": [
    "## 3. Packages for data science\n",
    "\n",
    "Python is very commonly used for data science, and there is a large family of data science packages designed to work well together. If you are using Python in social science research, chances are you will end up wanting to use at least one of these packages!\n",
    "\n",
    "Here is a table that covers some common data science tasks you might need to do in social science research, and the Python packages that support them:\n",
    "*   Processing numerical data: `numpy`\n",
    "*   Advanced statistics: `scipy`, `statsmodels`\n",
    "*   Data visualization: `matplotlib`\n",
    "*   Tabular data management (think spreadsheets): `pandas`\n",
    "*   Network analysis: `networkx`\n",
    "*   Machine learning: `scikit-learn`\n",
    "*   Deep learning: `pytorch`, `tensorflow`,\n",
    "*   Natural language processing: `nltk`"
   ]
  },
  {
   "cell_type": "markdown",
   "metadata": {
    "id": "Rv3Y3_G_x_pH"
   },
   "source": [
    "### Exercise 3.1\n",
    "\n",
    "As a researcher using Python, an important skill is to understand what packages to use for any specific task you find yourself doing! Let's practice this now. For each of the scenarios below, try to identify which data sciences package (from the above table) you would need. Some scenarios might need more than one package!\n",
    "\n",
    "1. Modeling the spread of misinformation through a social network\n",
    "2. Creating plots for a research paper\n",
    "3. Analyzing a collection of tweets\n",
    "4. Loading numerical measurements from a field experiment and running statistical comparisons on them\n",
    "5. Training a machine learning model on a public dataset provided in the form of a spreadsheet"
   ]
  },
  {
   "cell_type": "markdown",
   "metadata": {
    "id": "drpBw0szzVst"
   },
   "source": [
    "## 4. A quick look at numpy\n",
    "\n",
    "We previously mentioned that the many packages in the Python data science ecosystem are designed to work well with each other. One reason they are able to do this is that many of them are built on a common foundation: the `numpy` package. Because `numpy` plays such a key role in the data science ecosystem, it is a good idea to get familiar with it, as you will very likely end up having to use it either directly or indirectly.\n",
    "\n",
    "Let's start by installing and importing `numpy`."
   ]
  },
  {
   "cell_type": "code",
   "execution_count": null,
   "metadata": {
    "colab": {
     "base_uri": "https://localhost:8080/"
    },
    "id": "VHL50FjA08jf",
    "outputId": "46becc74-8b4a-41a6-a99c-b317a5de76e4"
   },
   "outputs": [],
   "source": [
    "!pip install numpy"
   ]
  },
  {
   "cell_type": "code",
   "execution_count": null,
   "metadata": {
    "id": "cgI29ZaK09se"
   },
   "outputs": [],
   "source": [
    "import numpy"
   ]
  },
  {
   "cell_type": "markdown",
   "metadata": {
    "id": "3fHqT9zt1Gqo"
   },
   "source": [
    "`numpy` provides a special type of object known as an `array`. Arrays are similar to lists, but they are optimized for numerical data. Other data science packages often rely on `numpy` arrays to store data, and then provide additional functions to do specific kinds of data science on that data.\n",
    "\n",
    "Let's get a better understanding of how `numpy` arrays work and how they differ from regular lists. First, we can create an array out of a list of numbers using the `asarray` function:"
   ]
  },
  {
   "cell_type": "code",
   "execution_count": null,
   "metadata": {
    "colab": {
     "base_uri": "https://localhost:8080/"
    },
    "id": "rtHVrl8u1FQx",
    "outputId": "ee67745e-ba62-4424-c2e8-46df37116da9"
   },
   "outputs": [],
   "source": [
    "demo_array = numpy.asarray([10, 47, 1, 0, 100, 999])\n",
    "print(type(demo_array))"
   ]
  },
  {
   "cell_type": "markdown",
   "metadata": {
    "id": "U4S3Odks1eSo"
   },
   "source": [
    "The usual list indexing and slicing operations also work on arrays:"
   ]
  },
  {
   "cell_type": "code",
   "execution_count": null,
   "metadata": {
    "colab": {
     "base_uri": "https://localhost:8080/"
    },
    "id": "sAt8NFWx1cLJ",
    "outputId": "38d59834-dbda-40c5-efe6-24e7641f298c"
   },
   "outputs": [],
   "source": [
    "print(demo_array[1])\n",
    "print(demo_array[-1])\n",
    "print(demo_array[2:5])\n",
    "print(demo_array[:2])\n",
    "print(demo_array[5:])"
   ]
  },
  {
   "cell_type": "markdown",
   "metadata": {
    "id": "vnLKpwHZ13Ee"
   },
   "source": [
    "But numpy also supports *advanced indexing* that lets you \"smartly\" filter array items based on numerical criteria. This is best understood through an example. Suppose you have a dataset containing people's ages, and you want to filter out individuals below a certain age. Using regular lists, recall that we would do this using a combination of a for loop and a conditional:"
   ]
  },
  {
   "cell_type": "code",
   "execution_count": null,
   "metadata": {
    "colab": {
     "base_uri": "https://localhost:8080/"
    },
    "id": "qO20YjCY2byP",
    "outputId": "d3c7af82-567a-4b3c-cb93-585001cbc55a"
   },
   "outputs": [],
   "source": [
    "ages = [20, 43, 12, 88, 97]\n",
    "filtered = []\n",
    "for age in ages:\n",
    "    if age > 50: # we want to select only the elders\n",
    "        filtered.append(age)\n",
    "print(filtered) # filtered only contains the two elders, ages 88 and 97"
   ]
  },
  {
   "cell_type": "markdown",
   "metadata": {
    "id": "1X9x94eq2vUU"
   },
   "source": [
    "But with `numpy` arrays, the same thing can be done in one line of code using the filtering syntax (note: for those familiar with R, the syntax is similar):"
   ]
  },
  {
   "cell_type": "code",
   "execution_count": null,
   "metadata": {
    "colab": {
     "base_uri": "https://localhost:8080/"
    },
    "id": "38EIUSZX2uEF",
    "outputId": "befe5274-71ce-4a2d-a6cc-f9811553260b"
   },
   "outputs": [],
   "source": [
    "ages = numpy.asarray(ages) # first we need to convert the list to an array\n",
    "filtered = ages[ages > 50] # this single line of code does the same thing the loop+conditional did above!\n",
    "print(filtered) # we get the same result!"
   ]
  },
  {
   "cell_type": "markdown",
   "metadata": {
    "id": "0GMf8NEz35mC"
   },
   "source": [
    "Filters can also be combined using the `&` (and) and `|` (or) operators. For example, if we only want to select \"middle age\" individuals (between ages 20 and 50), we can do this by combining two comparisons:"
   ]
  },
  {
   "cell_type": "code",
   "execution_count": null,
   "metadata": {
    "colab": {
     "base_uri": "https://localhost:8080/"
    },
    "id": "SLR6lqkY3ACS",
    "outputId": "39defe54-ea4c-49ad-bdc0-47d32ea8b5bd"
   },
   "outputs": [],
   "source": [
    "middle_age_only = ages[(ages > 20)&(ages < 50)]\n",
    "print(middle_age_only)"
   ]
  },
  {
   "cell_type": "markdown",
   "metadata": {
    "id": "V9sVpKTq4k50"
   },
   "source": [
    "What if we want the opposite filter: selecting all individuals **except** for middle age ones? This means we want individuals who are *either* younger than 20 *or* older than 50. Because this is an \"or\" comparison, we use the `|` operator:"
   ]
  },
  {
   "cell_type": "code",
   "execution_count": null,
   "metadata": {
    "colab": {
     "base_uri": "https://localhost:8080/"
    },
    "id": "SrA2f4YP4gcu",
    "outputId": "1096cd38-9294-4746-84c7-9a7f62527cfd"
   },
   "outputs": [],
   "source": [
    "no_middle_age = ages[(ages <= 20)|(ages >= 50)]\n",
    "print(no_middle_age)"
   ]
  },
  {
   "cell_type": "markdown",
   "metadata": {
    "id": "2372XjmvElqt"
   },
   "source": [
    "### Exercise 4.1\n",
    "\n",
    "In the code cell below, the `years` array contains publication years for a dataset of news articles, ranging from 1800 to 2020. Write filters for each of the following:\n",
    "1. Articles from before the 21st century (the 21st century is the one starting in the year 2000)\n",
    "2. Articles written in the year 2000 (recall that in Python, to check for equality you need to use two equals signs, `==`)\n",
    "3. Articles from the 20th century only (the 20th century started in 1900 and ended in 1999)"
   ]
  },
  {
   "cell_type": "code",
   "execution_count": null,
   "metadata": {
    "id": "ZsLhxjH-5A2F"
   },
   "outputs": [],
   "source": [
    "years = numpy.asarray([1812, 1905, 1856, 2020, 2001, 1984, 1945, 1890, 2001, 2000, 1905, 2016, 2016, 1904, 1900, 2000, 2001, 1936, 2008, 2001, 1888, 1921, 1995, 2014])\n",
    "before21st = __________       # fill in your answer to problem 1 here\n",
    "year2k = __________           # fill in your answer to problem 2 here\n",
    "twentiethcentury = __________ # fill in your answer to problem 3 here\n",
    "print(before21st)\n",
    "print(year2k)\n",
    "print(twentiethcentury)"
   ]
  },
  {
   "cell_type": "markdown",
   "metadata": {
    "id": "Eqhzw2pPG0fP"
   },
   "source": [
    "Arrays also have methods implementing simple statistical summaries, such as mean and standard deviation (more advanced statistics require the use of a separate package such as `scipy`):"
   ]
  },
  {
   "cell_type": "code",
   "execution_count": null,
   "metadata": {
    "colab": {
     "base_uri": "https://localhost:8080/"
    },
    "id": "62zdEY54HO6j",
    "outputId": "d4020003-eec7-4d25-c1af-a1a3df734eef"
   },
   "outputs": [],
   "source": [
    "print(ages.mean()) # compute the mean of an array using array.mean\n",
    "print(ages.std()) # compute the standard deviation of an array using array.std"
   ]
  },
  {
   "cell_type": "markdown",
   "metadata": {
    "id": "R3nGuRd4HxA_"
   },
   "source": [
    "So far, we have looked only at one-dimensional arrays, which operate similarly to lists. But arrays can also be multi-dimensional! In particular, two-dimensional arrays are useful to represent matrices. A 2D array can be created from a list of lists, where each nested list represents one row of the matrix, ordered from top to bottom. Thus the following code creates a matrix with 3 rows and 5 columns:"
   ]
  },
  {
   "cell_type": "code",
   "execution_count": null,
   "metadata": {
    "colab": {
     "base_uri": "https://localhost:8080/"
    },
    "id": "hY8PbLMhHYA8",
    "outputId": "fbc942ac-5c92-4a4f-fbf8-95fa0174c8e7"
   },
   "outputs": [],
   "source": [
    "matrix3x5 = numpy.asarray([[1, 0, 4, 5, 7], [10, 0, 0, 1, 2], [5, 2, 4, 8, 9]])\n",
    "print(matrix3x5)"
   ]
  },
  {
   "cell_type": "markdown",
   "metadata": {
    "id": "DQve22kRIwxT"
   },
   "source": [
    "To index a specific item from a 2D array, you have to specify the row followed by the column, in that order, separated by a comma:"
   ]
  },
  {
   "cell_type": "code",
   "execution_count": null,
   "metadata": {
    "colab": {
     "base_uri": "https://localhost:8080/"
    },
    "id": "7y-Sk373IWcP",
    "outputId": "4dc9c469-df82-4833-9593-4a96ddf96e7a"
   },
   "outputs": [],
   "source": [
    "print(matrix3x5[0,3]) # grabs the element in the first row and fourth column\n",
    "print(matrix3x5[-1,1]) # negative indexing still works, this gets the element in the last row and second column"
   ]
  },
  {
   "cell_type": "markdown",
   "metadata": {
    "id": "FVLAyoGxJwEz"
   },
   "source": [
    "There are more advanced things you can do, such as creating arrays with more than 2 dimensions and slicing multi-dimensional arrays, but those will not be covered here since this is not a `numpy` workshop."
   ]
  },
  {
   "cell_type": "markdown",
   "metadata": {
    "id": "tobjNpG6KDdS"
   },
   "source": [
    "## 5. Final Exercise\n",
    "\n",
    "Let's try combining everything we have learned. This exercise represents a task you might commonly encounter in social science research, which can be performed using functions from certain packages you need to install."
   ]
  },
  {
   "cell_type": "markdown",
   "metadata": {
    "id": "B15Xj-LqKOqI"
   },
   "source": [
    "## The Problem\n",
    "\n",
    "We are working with a dataset of shopping activity at two competing grocery stores. This dataset specifically measures the amount of money spent, rounded to the nearest dollar, by shoppers at the two stores. The measurements have been represented as two lists, one for each store:"
   ]
  },
  {
   "cell_type": "code",
   "execution_count": null,
   "metadata": {
    "id": "wtJmEZCcJQb7"
   },
   "outputs": [],
   "source": [
    "store1 = [33, 32, 55, 44, 53, 19, 50, 34, 37, 41, 81, 65, 50, 18, 57, 31, 49,\n",
    "          33, 43, 52, 41, 35, 21, 26, 28, 48, 48, 51, 36, 32, 40, 43, 51, 49,\n",
    "          38, 20, 31, 43, 50, 53,  3, 48, 63, 31, 58, 55, 45, 13, 56, 30]\n",
    "store2 = [43, 40, 49, 59, 62, 47, 49, 86, 45, 52, 39, 68, 68, 35, 78, 79, 75,\n",
    "          57, 76, 40, 60, 67, 68, 46, 64, 52, 59, 58, 70, 61, 85, 81, 65, 53,\n",
    "          60, 74, 42, 56, 45, 59, 22, 50, 42, 84, 58, 58, 76, 41, 49, 37]"
   ]
  },
  {
   "cell_type": "markdown",
   "metadata": {
    "id": "cSPnHGKyL8o3"
   },
   "source": [
    "We want to find out whether the average amount of money spent per shopper differs between the two stores."
   ]
  },
  {
   "cell_type": "markdown",
   "metadata": {
    "id": "pmeJjJAtLu7b"
   },
   "source": [
    "### Task 1\n",
    "\n",
    "We will begin by simply computing the means amount of money spent per shopper at the two stores. To do this, first convert the two lists into `numpy` arrays, and use the `mean` method."
   ]
  },
  {
   "cell_type": "code",
   "execution_count": null,
   "metadata": {
    "id": "kLlEIRTfLtqa"
   },
   "outputs": [],
   "source": [
    "# Your solution to Task 1 goes here\n"
   ]
  },
  {
   "cell_type": "markdown",
   "metadata": {
    "id": "1eHGZ5ipMaVs"
   },
   "source": [
    "### Task 2\n",
    "\n",
    "Hopefully, you found in your answer to Task 1 that the means appear to be different. But in social science we typically want to be a bit more careful: sometimes, differences in means can just be due to noise in the data. We therefore need to know whether the difference is statistically significant. A common way of doing this is through the t-test. The `scipy` package contains a method, `scipy.stats.ttest_ind`, that implements the 2-sample t-test. Install `scipy` and use the `scipy.stats.ttest_ind` method to run the t-test on our data.\n",
    "\n",
    "HINT: The weird syntax in `scipy.stats.ttest_ind`, with the two \".\"s, is because the `scipy` package is actually split into multiple \"sub-packages\", one of which is called `stats`. Your `import` line will need to reflect this, as you will need to import the `scipy.stats` sub-package specifically; just importing `scipy` will not work.\n",
    "\n",
    "REMINDER: If you do not know how to use a particular function, you can use the built-in `help` function, with the syntax `help(name of the function you want help on)`, to check the function's definition and documentation!"
   ]
  },
  {
   "cell_type": "code",
   "execution_count": null,
   "metadata": {
    "id": "8AxUC5NGM54a"
   },
   "outputs": [],
   "source": [
    "# First, install scipy using pip in this code cell\n"
   ]
  },
  {
   "cell_type": "code",
   "execution_count": null,
   "metadata": {
    "id": "zbNHjOTiM9Ed"
   },
   "outputs": [],
   "source": [
    "# Then put the rest of your solution to Task 2 here.\n"
   ]
  }
 ],
 "metadata": {
  "colab": {
   "collapsed_sections": [],
   "name": "Python package ecosystem.ipynb",
   "provenance": []
  },
  "kernelspec": {
   "display_name": "Python 3",
   "language": "python",
   "name": "python3"
  },
  "language_info": {
   "codemirror_mode": {
    "name": "ipython",
    "version": 3
   },
   "file_extension": ".py",
   "mimetype": "text/x-python",
   "name": "python",
   "nbconvert_exporter": "python",
   "pygments_lexer": "ipython3",
   "version": "3.7.7"
  }
 },
 "nbformat": 4,
 "nbformat_minor": 4
}
