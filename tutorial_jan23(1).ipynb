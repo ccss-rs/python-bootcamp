{
 "cells": [
  {
   "cell_type": "markdown",
   "metadata": {},
   "source": [
    "Python can be used as calculator. "
   ]
  },
  {
   "cell_type": "code",
   "execution_count": 1,
   "metadata": {},
   "outputs": [
    {
     "data": {
      "text/plain": [
       "4"
      ]
     },
     "execution_count": 1,
     "metadata": {},
     "output_type": "execute_result"
    }
   ],
   "source": [
    "2+2"
   ]
  },
  {
   "cell_type": "markdown",
   "metadata": {},
   "source": [
    "Do the lesson in co lab. Similar to jupyter notebook. https://hub.ovh2.mybinder.org/user/ccss-rs-python-bootcamp-ui8a8d4m/lab/tree/tutorial_jan23.ipynb"
   ]
  },
  {
   "cell_type": "code",
   "execution_count": 2,
   "metadata": {},
   "outputs": [
    {
     "name": "stdout",
     "output_type": "stream",
     "text": [
      "4\n"
     ]
    }
   ],
   "source": [
    "print(2+2)\n",
    "#Now store into variable name.\n",
    "#Show a comment. object on left created as expression on right\n",
    "var1 = 2+2"
   ]
  },
  {
   "cell_type": "markdown",
   "metadata": {},
   "source": [
    "Formatting when printing"
   ]
  },
  {
   "cell_type": "code",
   "execution_count": 3,
   "metadata": {},
   "outputs": [
    {
     "name": "stdout",
     "output_type": "stream",
     "text": [
      "Participant 1 is 34 years old.\n"
     ]
    }
   ],
   "source": [
    "age_1= 34\n",
    "Response_ID = 1\n",
    "print('Participant', Response_ID, 'is', age_1, 'years old.')"
   ]
  },
  {
   "cell_type": "code",
   "execution_count": 4,
   "metadata": {},
   "outputs": [],
   "source": [
    "#Create a string variable. Object that contains text. \n",
    "hometown = 'ithaca'"
   ]
  },
  {
   "cell_type": "markdown",
   "metadata": {},
   "source": [
    "Print type of object. String, int, float. "
   ]
  },
  {
   "cell_type": "code",
   "execution_count": 6,
   "metadata": {},
   "outputs": [
    {
     "data": {
      "text/plain": [
       "int"
      ]
     },
     "execution_count": 6,
     "metadata": {},
     "output_type": "execute_result"
    }
   ],
   "source": [
    "type(age_1)"
   ]
  },
  {
   "cell_type": "code",
   "execution_count": 7,
   "metadata": {},
   "outputs": [
    {
     "data": {
      "text/plain": [
       "str"
      ]
     },
     "execution_count": 7,
     "metadata": {},
     "output_type": "execute_result"
    }
   ],
   "source": [
    "type(hometown)"
   ]
  },
  {
   "cell_type": "markdown",
   "metadata": {},
   "source": [
    "Calculations of objects. This is the foundation. Creativity can generate whatever you want. "
   ]
  },
  {
   "cell_type": "code",
   "execution_count": 8,
   "metadata": {},
   "outputs": [
    {
     "name": "stdout",
     "output_type": "stream",
     "text": [
      "37\n"
     ]
    }
   ],
   "source": [
    "Later_Age = age_1 + 3\n",
    "print(Later_Age)"
   ]
  },
  {
   "cell_type": "markdown",
   "metadata": {},
   "source": [
    "Notice how object name gets overwritten. Most recent code runs. "
   ]
  },
  {
   "cell_type": "code",
   "execution_count": 9,
   "metadata": {},
   "outputs": [
    {
     "name": "stdout",
     "output_type": "stream",
     "text": [
      "102\n"
     ]
    }
   ],
   "source": [
    "Later_Age = age_1 * 3\n",
    "print(Later_Age)"
   ]
  },
  {
   "cell_type": "markdown",
   "metadata": {},
   "source": [
    " divide. ** exponent."
   ]
  },
  {
   "cell_type": "markdown",
   "metadata": {},
   "source": [
    "User created function. Variable names in function get replaced. Does a task that you define. Notice the indent and explain. <br>\n",
    "Variables in function are like temporary names. Get replaced with real names. "
   ]
  },
  {
   "cell_type": "code",
   "execution_count": 10,
   "metadata": {},
   "outputs": [],
   "source": [
    "def increase_age(starting_age):\n",
    "    later_age = starting_age + 3\n",
    "    print(\"The age after 3 years will be\", later_age)"
   ]
  },
  {
   "cell_type": "markdown",
   "metadata": {},
   "source": []
  },
  {
   "cell_type": "code",
   "execution_count": 11,
   "metadata": {},
   "outputs": [
    {
     "name": "stdout",
     "output_type": "stream",
     "text": [
      "The age after 3 years will be 37\n"
     ]
    }
   ],
   "source": [
    "increase_age(age_1)"
   ]
  },
  {
   "cell_type": "markdown",
   "metadata": {},
   "source": [
    "Exercise. Convert Celsius to farenheit. Accept a number in celsius and print out farenheit"
   ]
  },
  {
   "cell_type": "code",
   "execution_count": 12,
   "metadata": {},
   "outputs": [],
   "source": [
    "#Type answer here. "
   ]
  },
  {
   "cell_type": "code",
   "execution_count": 13,
   "metadata": {},
   "outputs": [
    {
     "data": {
      "text/plain": [
       "32.0"
      ]
     },
     "execution_count": 13,
     "metadata": {},
     "output_type": "execute_result"
    }
   ],
   "source": []
  },
  {
   "cell_type": "markdown",
   "metadata": {},
   "source": [
    "Python has plenty of pre created functions. This is where you use your resources. Research online how to perform specific operations. Pre-defined functions."
   ]
  },
  {
   "cell_type": "code",
   "execution_count": null,
   "metadata": {},
   "outputs": [],
   "source": [
    "round(5.389, 1)\n",
    "help(round)"
   ]
  },
  {
   "cell_type": "markdown",
   "metadata": {},
   "source": [
    "Lists. "
   ]
  },
  {
   "cell_type": "code",
   "execution_count": null,
   "metadata": {},
   "outputs": [],
   "source": [
    "list = [1, 2, 3, 4, 5, 6]"
   ]
  },
  {
   "cell_type": "markdown",
   "metadata": {},
   "source": [
    "More on pre-created functions this time applied to lists. "
   ]
  },
  {
   "cell_type": "code",
   "execution_count": null,
   "metadata": {},
   "outputs": [],
   "source": [
    "min(list)\n",
    "sum(list)\n",
    "len(list)"
   ]
  },
  {
   "cell_type": "markdown",
   "metadata": {},
   "source": [
    "Index list. Print specific elements of list. "
   ]
  },
  {
   "cell_type": "code",
   "execution_count": null,
   "metadata": {},
   "outputs": [],
   "source": [
    "print('First element is index 0', list[0])\n",
    "print('4th element is index 3', list[0])"
   ]
  },
  {
   "cell_type": "markdown",
   "metadata": {},
   "source": [
    "Reverse direction"
   ]
  },
  {
   "cell_type": "code",
   "execution_count": null,
   "metadata": {},
   "outputs": [],
   "source": [
    "print('5th element is index -1', list[-1])"
   ]
  },
  {
   "cell_type": "markdown",
   "metadata": {},
   "source": [
    "Slice list. [starting:ending]"
   ]
  },
  {
   "cell_type": "code",
   "execution_count": null,
   "metadata": {},
   "outputs": [],
   "source": [
    "rem = list[:4]\n",
    "print(rem)"
   ]
  },
  {
   "cell_type": "markdown",
   "metadata": {},
   "source": [
    "Append list item. Add to end of list. "
   ]
  },
  {
   "cell_type": "code",
   "execution_count": null,
   "metadata": {},
   "outputs": [],
   "source": [
    "list.append(7)\n",
    "print(list)"
   ]
  },
  {
   "cell_type": "markdown",
   "metadata": {},
   "source": [
    "Loop and conditionals?<br>\n",
    "Create looping item. Loop through all items of list. "
   ]
  },
  {
   "cell_type": "code",
   "execution_count": null,
   "metadata": {},
   "outputs": [],
   "source": [
    "for item in list:\n",
    "    if item < 3:\n",
    "        print(item)\n",
    "    elif item > 3:\n",
    "        print(\"Greater than 3\")\n",
    "    else:\n",
    "        print(\"The rest\")"
   ]
  },
  {
   "cell_type": "markdown",
   "metadata": {},
   "source": [
    "Exercise. combination of things done so far.<br>\n",
    "1. Create a new list of cities in America. ex Boston. New York. Chicago. Miami.<br>\n",
    "2. Print 2nd to last element of above created list.<br>\n",
    "3. Add international city 'Prague' to list<br>\n",
    "4. Bonus: Loop through the items in this list and print the cities that contain the letter 'i'<br>\n",
    "Hint. string.find function. Research online how to use.<br>\n",
    "Helpful link. http://net-informations.com/python/basics/contains.htm"
   ]
  },
  {
   "cell_type": "code",
   "execution_count": null,
   "metadata": {},
   "outputs": [],
   "source": []
  },
  {
   "cell_type": "markdown",
   "metadata": {},
   "source": [
    "Pandas. Groupby, basic stats, sorting, conditional subsetting. Missing values. "
   ]
  },
  {
   "cell_type": "code",
   "execution_count": 1,
   "metadata": {},
   "outputs": [
    {
     "data": {
      "text/plain": [
       "0      20.0\n",
       "1      20.0\n",
       "2      21.0\n",
       "3      19.0\n",
       "4      21.0\n",
       "       ... \n",
       "894    19.0\n",
       "895    20.0\n",
       "896    19.0\n",
       "897     NaN\n",
       "898     NaN\n",
       "Name: Age, Length: 899, dtype: float64"
      ]
     },
     "metadata": {},
     "output_type": "display_data"
    },
    {
     "data": {
      "text/html": [
       "<div>\n",
       "<style scoped>\n",
       "    .dataframe tbody tr th:only-of-type {\n",
       "        vertical-align: middle;\n",
       "    }\n",
       "\n",
       "    .dataframe tbody tr th {\n",
       "        vertical-align: top;\n",
       "    }\n",
       "\n",
       "    .dataframe thead th {\n",
       "        text-align: right;\n",
       "    }\n",
       "</style>\n",
       "<table border=\"1\" class=\"dataframe\">\n",
       "  <thead>\n",
       "    <tr style=\"text-align: right;\">\n",
       "      <th></th>\n",
       "      <th>Age</th>\n",
       "      <th>Living_Location</th>\n",
       "    </tr>\n",
       "  </thead>\n",
       "  <tbody>\n",
       "    <tr>\n",
       "      <th>0</th>\n",
       "      <td>20.0</td>\n",
       "      <td>Off campus</td>\n",
       "    </tr>\n",
       "    <tr>\n",
       "      <th>1</th>\n",
       "      <td>20.0</td>\n",
       "      <td>Off campus</td>\n",
       "    </tr>\n",
       "    <tr>\n",
       "      <th>2</th>\n",
       "      <td>21.0</td>\n",
       "      <td>Off campus</td>\n",
       "    </tr>\n",
       "    <tr>\n",
       "      <th>3</th>\n",
       "      <td>19.0</td>\n",
       "      <td>On campus</td>\n",
       "    </tr>\n",
       "    <tr>\n",
       "      <th>4</th>\n",
       "      <td>21.0</td>\n",
       "      <td>Off campus</td>\n",
       "    </tr>\n",
       "    <tr>\n",
       "      <th>...</th>\n",
       "      <td>...</td>\n",
       "      <td>...</td>\n",
       "    </tr>\n",
       "    <tr>\n",
       "      <th>894</th>\n",
       "      <td>19.0</td>\n",
       "      <td>On campus</td>\n",
       "    </tr>\n",
       "    <tr>\n",
       "      <th>895</th>\n",
       "      <td>20.0</td>\n",
       "      <td>On campus</td>\n",
       "    </tr>\n",
       "    <tr>\n",
       "      <th>896</th>\n",
       "      <td>19.0</td>\n",
       "      <td>On campus</td>\n",
       "    </tr>\n",
       "    <tr>\n",
       "      <th>897</th>\n",
       "      <td>NaN</td>\n",
       "      <td>NaN</td>\n",
       "    </tr>\n",
       "    <tr>\n",
       "      <th>898</th>\n",
       "      <td>NaN</td>\n",
       "      <td>NaN</td>\n",
       "    </tr>\n",
       "  </tbody>\n",
       "</table>\n",
       "<p>899 rows × 2 columns</p>\n",
       "</div>"
      ],
      "text/plain": [
       "      Age Living_Location\n",
       "0    20.0      Off campus\n",
       "1    20.0      Off campus\n",
       "2    21.0      Off campus\n",
       "3    19.0       On campus\n",
       "4    21.0      Off campus\n",
       "..    ...             ...\n",
       "894  19.0       On campus\n",
       "895  20.0       On campus\n",
       "896  19.0       On campus\n",
       "897   NaN             NaN\n",
       "898   NaN             NaN\n",
       "\n",
       "[899 rows x 2 columns]"
      ]
     },
     "metadata": {},
     "output_type": "display_data"
    },
    {
     "data": {
      "text/html": [
       "<div>\n",
       "<style scoped>\n",
       "    .dataframe tbody tr th:only-of-type {\n",
       "        vertical-align: middle;\n",
       "    }\n",
       "\n",
       "    .dataframe tbody tr th {\n",
       "        vertical-align: top;\n",
       "    }\n",
       "\n",
       "    .dataframe thead th {\n",
       "        text-align: right;\n",
       "    }\n",
       "</style>\n",
       "<table border=\"1\" class=\"dataframe\">\n",
       "  <thead>\n",
       "    <tr style=\"text-align: right;\">\n",
       "      <th></th>\n",
       "      <th>Time_Stamp</th>\n",
       "      <th>Year</th>\n",
       "      <th>Month</th>\n",
       "      <th>Response_ID</th>\n",
       "      <th>Hunger_Experience</th>\n",
       "      <th>Moving_Times</th>\n",
       "      <th>Self_Confidence</th>\n",
       "      <th>Hometown</th>\n",
       "      <th>Age</th>\n",
       "      <th>Parental_Income</th>\n",
       "      <th>Race_Ethnicity</th>\n",
       "      <th>School_Year</th>\n",
       "      <th>Transfer_Student</th>\n",
       "      <th>College</th>\n",
       "      <th>Gender_Identity</th>\n",
       "      <th>Sex</th>\n",
       "      <th>Living_Location</th>\n",
       "      <th>Unnamed: 17</th>\n",
       "    </tr>\n",
       "  </thead>\n",
       "  <tbody>\n",
       "    <tr>\n",
       "      <th>1</th>\n",
       "      <td>4/15/2021 11:30</td>\n",
       "      <td>2021</td>\n",
       "      <td>April</td>\n",
       "      <td>2</td>\n",
       "      <td>No</td>\n",
       "      <td>1</td>\n",
       "      <td>Agree slightly</td>\n",
       "      <td>Brooklyn, New York 11225</td>\n",
       "      <td>20.0</td>\n",
       "      <td>Below $40,000</td>\n",
       "      <td>Black</td>\n",
       "      <td>3rd year undergraduate</td>\n",
       "      <td>No</td>\n",
       "      <td>College of Human Ecology</td>\n",
       "      <td>Woman</td>\n",
       "      <td>Female</td>\n",
       "      <td>Off campus</td>\n",
       "      <td>NaN</td>\n",
       "    </tr>\n",
       "    <tr>\n",
       "      <th>2</th>\n",
       "      <td>4/15/2021 13:00</td>\n",
       "      <td>2021</td>\n",
       "      <td>April</td>\n",
       "      <td>3</td>\n",
       "      <td>No</td>\n",
       "      <td>5</td>\n",
       "      <td>Agree somewhat</td>\n",
       "      <td>Roslyn Heights, New York 11577</td>\n",
       "      <td>21.0</td>\n",
       "      <td>More than $750,000</td>\n",
       "      <td>Asian</td>\n",
       "      <td>3rd year undergraduate</td>\n",
       "      <td>No</td>\n",
       "      <td>College of Agriculture and Life Sciences</td>\n",
       "      <td>Woman</td>\n",
       "      <td>Female</td>\n",
       "      <td>Off campus</td>\n",
       "      <td>NaN</td>\n",
       "    </tr>\n",
       "    <tr>\n",
       "      <th>3</th>\n",
       "      <td>4/15/2021 14:01</td>\n",
       "      <td>2021</td>\n",
       "      <td>April</td>\n",
       "      <td>4</td>\n",
       "      <td>No</td>\n",
       "      <td>1</td>\n",
       "      <td>Agree slightly</td>\n",
       "      <td>Rye Brook, New York 10573</td>\n",
       "      <td>19.0</td>\n",
       "      <td>More than $750,000</td>\n",
       "      <td>White (of European descent)</td>\n",
       "      <td>2nd year undergraduate</td>\n",
       "      <td>No</td>\n",
       "      <td>College of Human Ecology</td>\n",
       "      <td>Woman</td>\n",
       "      <td>Female</td>\n",
       "      <td>On campus</td>\n",
       "      <td>NaN</td>\n",
       "    </tr>\n",
       "    <tr>\n",
       "      <th>4</th>\n",
       "      <td>4/15/2021 14:31</td>\n",
       "      <td>2021</td>\n",
       "      <td>April</td>\n",
       "      <td>5</td>\n",
       "      <td>No</td>\n",
       "      <td>0</td>\n",
       "      <td>Agree somewhat</td>\n",
       "      <td>San Antonio, Texas 78218</td>\n",
       "      <td>21.0</td>\n",
       "      <td>$100,000 - $174,999</td>\n",
       "      <td>White (of European descent),Hispanic</td>\n",
       "      <td>4th year undergraduate</td>\n",
       "      <td>No</td>\n",
       "      <td>College of Arts and Sciences</td>\n",
       "      <td>Woman</td>\n",
       "      <td>Female</td>\n",
       "      <td>Off campus</td>\n",
       "      <td>NaN</td>\n",
       "    </tr>\n",
       "  </tbody>\n",
       "</table>\n",
       "</div>"
      ],
      "text/plain": [
       "        Time_Stamp  Year  Month  Response_ID Hunger_Experience Moving_Times  \\\n",
       "1  4/15/2021 11:30  2021  April            2                No            1   \n",
       "2  4/15/2021 13:00  2021  April            3                No            5   \n",
       "3  4/15/2021 14:01  2021  April            4                No            1   \n",
       "4  4/15/2021 14:31  2021  April            5                No            0   \n",
       "\n",
       "  Self_Confidence                        Hometown   Age      Parental_Income  \\\n",
       "1  Agree slightly        Brooklyn, New York 11225  20.0        Below $40,000   \n",
       "2  Agree somewhat  Roslyn Heights, New York 11577  21.0   More than $750,000   \n",
       "3  Agree slightly       Rye Brook, New York 10573  19.0   More than $750,000   \n",
       "4  Agree somewhat        San Antonio, Texas 78218  21.0  $100,000 - $174,999   \n",
       "\n",
       "                         Race_Ethnicity             School_Year  \\\n",
       "1                                 Black  3rd year undergraduate   \n",
       "2                                 Asian  3rd year undergraduate   \n",
       "3           White (of European descent)  2nd year undergraduate   \n",
       "4  White (of European descent),Hispanic  4th year undergraduate   \n",
       "\n",
       "  Transfer_Student                                   College Gender_Identity  \\\n",
       "1               No                  College of Human Ecology           Woman   \n",
       "2               No  College of Agriculture and Life Sciences           Woman   \n",
       "3               No                  College of Human Ecology           Woman   \n",
       "4               No              College of Arts and Sciences           Woman   \n",
       "\n",
       "      Sex Living_Location  Unnamed: 17  \n",
       "1  Female      Off campus          NaN  \n",
       "2  Female      Off campus          NaN  \n",
       "3  Female       On campus          NaN  \n",
       "4  Female      Off campus          NaN  "
      ]
     },
     "metadata": {},
     "output_type": "display_data"
    }
   ],
   "source": [
    "from pandas import DataFrame, read_csv\n",
    "import pandas as pd\n",
    "Location = './data/survey_responses.csv'\n",
    "df = pd.read_csv(Location)\n",
    "type(df)\n",
    "age_column = df['Age']\n",
    "display(age_column)\n",
    "multi_columns = df[['Age', 'Living_Location']]\n",
    "display(multi_columns)\n",
    "multi_rows = df.loc[[1,2,3,4]]\n",
    "display(multi_rows)"
   ]
  },
  {
   "cell_type": "code",
   "execution_count": 2,
   "metadata": {},
   "outputs": [
    {
     "name": "stdout",
     "output_type": "stream",
     "text": [
      "16.0\n",
      "36.0\n",
      "19.84585492227979\n"
     ]
    }
   ],
   "source": [
    "print(df[\"Age\"].min()) # what's the age of the youngest participant?\n",
    "print(df[\"Age\"].max()) # what's the age of the oldest participant?\n",
    "print(df[\"Age\"].mean()) # what's the average age of participants?"
   ]
  },
  {
   "cell_type": "code",
   "execution_count": 3,
   "metadata": {},
   "outputs": [
    {
     "data": {
      "text/html": [
       "<div>\n",
       "<style scoped>\n",
       "    .dataframe tbody tr th:only-of-type {\n",
       "        vertical-align: middle;\n",
       "    }\n",
       "\n",
       "    .dataframe tbody tr th {\n",
       "        vertical-align: top;\n",
       "    }\n",
       "\n",
       "    .dataframe thead th {\n",
       "        text-align: right;\n",
       "    }\n",
       "</style>\n",
       "<table border=\"1\" class=\"dataframe\">\n",
       "  <thead>\n",
       "    <tr style=\"text-align: right;\">\n",
       "      <th></th>\n",
       "      <th>Time_Stamp</th>\n",
       "      <th>Year</th>\n",
       "      <th>Month</th>\n",
       "      <th>Response_ID</th>\n",
       "      <th>Hunger_Experience</th>\n",
       "      <th>Moving_Times</th>\n",
       "      <th>Self_Confidence</th>\n",
       "      <th>Hometown</th>\n",
       "      <th>Age</th>\n",
       "      <th>Parental_Income</th>\n",
       "      <th>Race_Ethnicity</th>\n",
       "      <th>School_Year</th>\n",
       "      <th>Transfer_Student</th>\n",
       "      <th>College</th>\n",
       "      <th>Gender_Identity</th>\n",
       "      <th>Sex</th>\n",
       "      <th>Living_Location</th>\n",
       "      <th>Unnamed: 17</th>\n",
       "    </tr>\n",
       "  </thead>\n",
       "  <tbody>\n",
       "    <tr>\n",
       "      <th>0</th>\n",
       "      <td>4/14/2021 19:43</td>\n",
       "      <td>2021</td>\n",
       "      <td>April</td>\n",
       "      <td>1</td>\n",
       "      <td>No</td>\n",
       "      <td>1</td>\n",
       "      <td>Agree slightly</td>\n",
       "      <td>Coconut Grove, Florida 33133</td>\n",
       "      <td>20.0</td>\n",
       "      <td>More than $750,000</td>\n",
       "      <td>White (of European descent)</td>\n",
       "      <td>2nd year undergraduate</td>\n",
       "      <td>No</td>\n",
       "      <td>College of Human Ecology</td>\n",
       "      <td>Woman</td>\n",
       "      <td>Female</td>\n",
       "      <td>Off campus</td>\n",
       "      <td>NaN</td>\n",
       "    </tr>\n",
       "    <tr>\n",
       "      <th>1</th>\n",
       "      <td>4/15/2021 11:30</td>\n",
       "      <td>2021</td>\n",
       "      <td>April</td>\n",
       "      <td>2</td>\n",
       "      <td>No</td>\n",
       "      <td>1</td>\n",
       "      <td>Agree slightly</td>\n",
       "      <td>Brooklyn, New York 11225</td>\n",
       "      <td>20.0</td>\n",
       "      <td>Below $40,000</td>\n",
       "      <td>Black</td>\n",
       "      <td>3rd year undergraduate</td>\n",
       "      <td>No</td>\n",
       "      <td>College of Human Ecology</td>\n",
       "      <td>Woman</td>\n",
       "      <td>Female</td>\n",
       "      <td>Off campus</td>\n",
       "      <td>NaN</td>\n",
       "    </tr>\n",
       "    <tr>\n",
       "      <th>2</th>\n",
       "      <td>4/15/2021 13:00</td>\n",
       "      <td>2021</td>\n",
       "      <td>April</td>\n",
       "      <td>3</td>\n",
       "      <td>No</td>\n",
       "      <td>5</td>\n",
       "      <td>Agree somewhat</td>\n",
       "      <td>Roslyn Heights, New York 11577</td>\n",
       "      <td>21.0</td>\n",
       "      <td>More than $750,000</td>\n",
       "      <td>Asian</td>\n",
       "      <td>3rd year undergraduate</td>\n",
       "      <td>No</td>\n",
       "      <td>College of Agriculture and Life Sciences</td>\n",
       "      <td>Woman</td>\n",
       "      <td>Female</td>\n",
       "      <td>Off campus</td>\n",
       "      <td>NaN</td>\n",
       "    </tr>\n",
       "    <tr>\n",
       "      <th>3</th>\n",
       "      <td>4/15/2021 14:01</td>\n",
       "      <td>2021</td>\n",
       "      <td>April</td>\n",
       "      <td>4</td>\n",
       "      <td>No</td>\n",
       "      <td>1</td>\n",
       "      <td>Agree slightly</td>\n",
       "      <td>Rye Brook, New York 10573</td>\n",
       "      <td>19.0</td>\n",
       "      <td>More than $750,000</td>\n",
       "      <td>White (of European descent)</td>\n",
       "      <td>2nd year undergraduate</td>\n",
       "      <td>No</td>\n",
       "      <td>College of Human Ecology</td>\n",
       "      <td>Woman</td>\n",
       "      <td>Female</td>\n",
       "      <td>On campus</td>\n",
       "      <td>NaN</td>\n",
       "    </tr>\n",
       "    <tr>\n",
       "      <th>4</th>\n",
       "      <td>4/15/2021 14:31</td>\n",
       "      <td>2021</td>\n",
       "      <td>April</td>\n",
       "      <td>5</td>\n",
       "      <td>No</td>\n",
       "      <td>0</td>\n",
       "      <td>Agree somewhat</td>\n",
       "      <td>San Antonio, Texas 78218</td>\n",
       "      <td>21.0</td>\n",
       "      <td>$100,000 - $174,999</td>\n",
       "      <td>White (of European descent),Hispanic</td>\n",
       "      <td>4th year undergraduate</td>\n",
       "      <td>No</td>\n",
       "      <td>College of Arts and Sciences</td>\n",
       "      <td>Woman</td>\n",
       "      <td>Female</td>\n",
       "      <td>Off campus</td>\n",
       "      <td>NaN</td>\n",
       "    </tr>\n",
       "    <tr>\n",
       "      <th>...</th>\n",
       "      <td>...</td>\n",
       "      <td>...</td>\n",
       "      <td>...</td>\n",
       "      <td>...</td>\n",
       "      <td>...</td>\n",
       "      <td>...</td>\n",
       "      <td>...</td>\n",
       "      <td>...</td>\n",
       "      <td>...</td>\n",
       "      <td>...</td>\n",
       "      <td>...</td>\n",
       "      <td>...</td>\n",
       "      <td>...</td>\n",
       "      <td>...</td>\n",
       "      <td>...</td>\n",
       "      <td>...</td>\n",
       "      <td>...</td>\n",
       "      <td>...</td>\n",
       "    </tr>\n",
       "    <tr>\n",
       "      <th>889</th>\n",
       "      <td>5/16/2022 22:07</td>\n",
       "      <td>2022</td>\n",
       "      <td>May</td>\n",
       "      <td>890</td>\n",
       "      <td>No</td>\n",
       "      <td>5</td>\n",
       "      <td>Agree somewhat</td>\n",
       "      <td>Albany, New York, 12202</td>\n",
       "      <td>18.0</td>\n",
       "      <td>$60,000 - $99,999</td>\n",
       "      <td>Black</td>\n",
       "      <td>1st year undergraduate</td>\n",
       "      <td>No</td>\n",
       "      <td>College of Arts and Sciences</td>\n",
       "      <td>Man</td>\n",
       "      <td>Male</td>\n",
       "      <td>On campus</td>\n",
       "      <td>NaN</td>\n",
       "    </tr>\n",
       "    <tr>\n",
       "      <th>893</th>\n",
       "      <td>5/18/2022 20:59</td>\n",
       "      <td>2022</td>\n",
       "      <td>May</td>\n",
       "      <td>894</td>\n",
       "      <td>NaN</td>\n",
       "      <td>NaN</td>\n",
       "      <td>NaN</td>\n",
       "      <td>nyc 10010</td>\n",
       "      <td>22.0</td>\n",
       "      <td>$40,000 - $59,999</td>\n",
       "      <td>Asian</td>\n",
       "      <td>4th year undergraduate</td>\n",
       "      <td>No</td>\n",
       "      <td>College of Engineering</td>\n",
       "      <td>Woman</td>\n",
       "      <td>Female</td>\n",
       "      <td>Off campus</td>\n",
       "      <td>NaN</td>\n",
       "    </tr>\n",
       "    <tr>\n",
       "      <th>894</th>\n",
       "      <td>5/19/2022 17:17</td>\n",
       "      <td>2022</td>\n",
       "      <td>May</td>\n",
       "      <td>895</td>\n",
       "      <td>No</td>\n",
       "      <td>2</td>\n",
       "      <td>Agree somewhat</td>\n",
       "      <td>Boca Raton, Florida 33496</td>\n",
       "      <td>19.0</td>\n",
       "      <td>$175,000 - $299,999</td>\n",
       "      <td>White (of European descent),Hispanic,Middle Ea...</td>\n",
       "      <td>1st year undergraduate</td>\n",
       "      <td>No</td>\n",
       "      <td>College of Arts and Sciences</td>\n",
       "      <td>Woman</td>\n",
       "      <td>Female</td>\n",
       "      <td>On campus</td>\n",
       "      <td>NaN</td>\n",
       "    </tr>\n",
       "    <tr>\n",
       "      <th>895</th>\n",
       "      <td>5/19/2022 19:26</td>\n",
       "      <td>2022</td>\n",
       "      <td>May</td>\n",
       "      <td>896</td>\n",
       "      <td>Yes</td>\n",
       "      <td>4</td>\n",
       "      <td>Agree somewhat</td>\n",
       "      <td>Harrison, New York, 10528</td>\n",
       "      <td>20.0</td>\n",
       "      <td>$175,000 - $299,999</td>\n",
       "      <td>Hispanic</td>\n",
       "      <td>2nd year undergraduate</td>\n",
       "      <td>Yes</td>\n",
       "      <td>College of Human Ecology</td>\n",
       "      <td>Woman</td>\n",
       "      <td>Female</td>\n",
       "      <td>On campus</td>\n",
       "      <td>NaN</td>\n",
       "    </tr>\n",
       "    <tr>\n",
       "      <th>896</th>\n",
       "      <td>5/20/2022 7:13</td>\n",
       "      <td>2022</td>\n",
       "      <td>May</td>\n",
       "      <td>897</td>\n",
       "      <td>No</td>\n",
       "      <td>1</td>\n",
       "      <td>Agree slightly</td>\n",
       "      <td>Guangzhou, Guangdong, China 510335</td>\n",
       "      <td>19.0</td>\n",
       "      <td>$300,000 - $499,999</td>\n",
       "      <td>Asian</td>\n",
       "      <td>1st year undergraduate</td>\n",
       "      <td>No</td>\n",
       "      <td>College of Human Ecology</td>\n",
       "      <td>Woman</td>\n",
       "      <td>Female</td>\n",
       "      <td>On campus</td>\n",
       "      <td>NaN</td>\n",
       "    </tr>\n",
       "  </tbody>\n",
       "</table>\n",
       "<p>771 rows × 18 columns</p>\n",
       "</div>"
      ],
      "text/plain": [
       "          Time_Stamp  Year  Month  Response_ID Hunger_Experience Moving_Times  \\\n",
       "0    4/14/2021 19:43  2021  April            1                No            1   \n",
       "1    4/15/2021 11:30  2021  April            2                No            1   \n",
       "2    4/15/2021 13:00  2021  April            3                No            5   \n",
       "3    4/15/2021 14:01  2021  April            4                No            1   \n",
       "4    4/15/2021 14:31  2021  April            5                No            0   \n",
       "..               ...   ...    ...          ...               ...          ...   \n",
       "889  5/16/2022 22:07  2022    May          890                No            5   \n",
       "893  5/18/2022 20:59  2022    May          894               NaN          NaN   \n",
       "894  5/19/2022 17:17  2022    May          895                No            2   \n",
       "895  5/19/2022 19:26  2022    May          896               Yes            4   \n",
       "896   5/20/2022 7:13  2022    May          897                No            1   \n",
       "\n",
       "    Self_Confidence                            Hometown   Age  \\\n",
       "0    Agree slightly        Coconut Grove, Florida 33133  20.0   \n",
       "1    Agree slightly            Brooklyn, New York 11225  20.0   \n",
       "2    Agree somewhat      Roslyn Heights, New York 11577  21.0   \n",
       "3    Agree slightly           Rye Brook, New York 10573  19.0   \n",
       "4    Agree somewhat            San Antonio, Texas 78218  21.0   \n",
       "..              ...                                 ...   ...   \n",
       "889  Agree somewhat             Albany, New York, 12202  18.0   \n",
       "893             NaN                           nyc 10010  22.0   \n",
       "894  Agree somewhat           Boca Raton, Florida 33496  19.0   \n",
       "895  Agree somewhat           Harrison, New York, 10528  20.0   \n",
       "896  Agree slightly  Guangzhou, Guangdong, China 510335  19.0   \n",
       "\n",
       "         Parental_Income                                     Race_Ethnicity  \\\n",
       "0     More than $750,000                        White (of European descent)   \n",
       "1          Below $40,000                                              Black   \n",
       "2     More than $750,000                                              Asian   \n",
       "3     More than $750,000                        White (of European descent)   \n",
       "4    $100,000 - $174,999               White (of European descent),Hispanic   \n",
       "..                   ...                                                ...   \n",
       "889    $60,000 - $99,999                                              Black   \n",
       "893    $40,000 - $59,999                                              Asian   \n",
       "894  $175,000 - $299,999  White (of European descent),Hispanic,Middle Ea...   \n",
       "895  $175,000 - $299,999                                           Hispanic   \n",
       "896  $300,000 - $499,999                                              Asian   \n",
       "\n",
       "                School_Year Transfer_Student  \\\n",
       "0    2nd year undergraduate               No   \n",
       "1    3rd year undergraduate               No   \n",
       "2    3rd year undergraduate               No   \n",
       "3    2nd year undergraduate               No   \n",
       "4    4th year undergraduate               No   \n",
       "..                      ...              ...   \n",
       "889  1st year undergraduate               No   \n",
       "893  4th year undergraduate               No   \n",
       "894  1st year undergraduate               No   \n",
       "895  2nd year undergraduate              Yes   \n",
       "896  1st year undergraduate               No   \n",
       "\n",
       "                                      College Gender_Identity     Sex  \\\n",
       "0                    College of Human Ecology           Woman  Female   \n",
       "1                    College of Human Ecology           Woman  Female   \n",
       "2    College of Agriculture and Life Sciences           Woman  Female   \n",
       "3                    College of Human Ecology           Woman  Female   \n",
       "4                College of Arts and Sciences           Woman  Female   \n",
       "..                                        ...             ...     ...   \n",
       "889              College of Arts and Sciences             Man    Male   \n",
       "893                    College of Engineering           Woman  Female   \n",
       "894              College of Arts and Sciences           Woman  Female   \n",
       "895                  College of Human Ecology           Woman  Female   \n",
       "896                  College of Human Ecology           Woman  Female   \n",
       "\n",
       "    Living_Location  Unnamed: 17  \n",
       "0        Off campus          NaN  \n",
       "1        Off campus          NaN  \n",
       "2        Off campus          NaN  \n",
       "3         On campus          NaN  \n",
       "4        Off campus          NaN  \n",
       "..              ...          ...  \n",
       "889       On campus          NaN  \n",
       "893      Off campus          NaN  \n",
       "894       On campus          NaN  \n",
       "895       On campus          NaN  \n",
       "896       On campus          NaN  \n",
       "\n",
       "[771 rows x 18 columns]"
      ]
     },
     "execution_count": 3,
     "metadata": {},
     "output_type": "execute_result"
    }
   ],
   "source": [
    "df[df[\"Age\"] <= 30]"
   ]
  },
  {
   "cell_type": "code",
   "execution_count": 4,
   "metadata": {},
   "outputs": [
    {
     "data": {
      "text/plain": [
       "College\n",
       "College of Agriculture and Life Sciences     123\n",
       "College of Architecture, Art and Planning      5\n",
       "College of Arts and Sciences                 264\n",
       "College of Engineering                       103\n",
       "College of Human Ecology                     208\n",
       "SC Johnson College of Business                36\n",
       "School of Industrial and Labor Relations      25\n",
       "Weill Cornell Medicine                         8\n",
       "Name: College, dtype: int64"
      ]
     },
     "metadata": {},
     "output_type": "display_data"
    }
   ],
   "source": [
    "df_grouped = df.groupby(\"College\")\n",
    "display(df_grouped[\"College\"].count())"
   ]
  },
  {
   "cell_type": "markdown",
   "metadata": {},
   "source": [
    "Drop missing values"
   ]
  },
  {
   "cell_type": "code",
   "execution_count": null,
   "metadata": {},
   "outputs": [],
   "source": [
    "data.dropna()"
   ]
  }
 ],
 "metadata": {
  "kernelspec": {
   "display_name": "Python 3 (ipykernel)",
   "language": "python",
   "name": "python3"
  },
  "language_info": {
   "codemirror_mode": {
    "name": "ipython",
    "version": 3
   },
   "file_extension": ".py",
   "mimetype": "text/x-python",
   "name": "python",
   "nbconvert_exporter": "python",
   "pygments_lexer": "ipython3",
   "version": "3.7.12"
  }
 },
 "nbformat": 4,
 "nbformat_minor": 4
}
