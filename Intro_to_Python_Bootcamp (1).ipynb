{
  "nbformat": 4,
  "nbformat_minor": 0,
  "metadata": {
    "colab": {
      "name": "Intro to Python Bootcamp.ipynb",
      "provenance": [],
      "collapsed_sections": [
        "iO4uA8eZLMyX",
        "HwvJhgrnKdMz",
        "JJ55li0sKlMS",
        "AQkEYkbRLdXz",
        "1kZfwelLLyod",
        "jSzPvmP2Llgl",
        "iTDyOix-MWam",
        "hCDsmIg8XOUk",
        "OwuxHmxllTwN",
        "3CXkwqME5vn5",
        "6RSjL4I96nsF",
        "mTvHWklz61gC",
        "VpejLTyf7HjD",
        "IRwQNs9k7buw",
        "Vcw8nsC77jzd",
        "ViGGbAgz84BL",
        "ennTRx6Z9GzZ",
        "Q7SjqjWr9Yaq",
        "CDhPnzau9hvB",
        "LHM6p_2_9-lN",
        "7qPPSudK-im8",
        "tVpHMtCD-lw0",
        "bnWvpdkq_B5O",
        "X5D7YW1I_JmM",
        "7MrLiZRJ_PN6",
        "PyIp1NX7_WVJ",
        "WcotsX2Q_cjH",
        "Ckh-dxCbgo9U",
        "f9mWa8iXgsyv",
        "pDa8DWCJhGyy",
        "1LrXK47ehS20",
        "-6lWtko1hYhR",
        "aXxr3WDzhhac"
      ]
    },
    "kernelspec": {
      "name": "python3",
      "display_name": "Python 3"
    },
    "language_info": {
      "name": "python"
    }
  },
  "cells": [
    {
      "cell_type": "markdown",
      "source": [
        "**Welcome**\n",
        "\n",
        "Welcome to your guided first steps on Python. \n",
        "\n",
        "A researcher in a lab working with social data may encounter similar challenges to the ones we will be introducing to you today.\n",
        "\n",
        "First, we will have a look at the Jupyter Notebook and its parts. \n",
        "We will then learn to define about variables and how to perform calculations with them. \n",
        "Lastly we will learn about functions and methods in Python. \n",
        "\n",
        "Please follow along by running the code on your own notebook.\n",
        "\n",
        "\n",
        "Learning Objectives:\n",
        "\n",
        "*  Familiarize yourself with the Jupyter notebook\n",
        "*  Define variables and their types\n",
        "*  Run basic calculations\n",
        "\n",
        "\n",
        "\n"
      ],
      "metadata": {
        "id": "UCwhQJWJLGbI"
      }
    },
    {
      "cell_type": "markdown",
      "source": [
        "# Jupyter Notebooks"
      ],
      "metadata": {
        "id": "iO4uA8eZLMyX"
      }
    },
    {
      "cell_type": "markdown",
      "source": [
        "A Jupyter notebook is an app. \n",
        "\n",
        "It provides a web-based interactive computing platform where we can use code, narrative text, equations and visualizations. It will allow us to practice python programming. \n",
        "\n",
        "In it, you will see this cell or box:"
      ],
      "metadata": {
        "id": "NN4SfCzvK5Kr"
      }
    },
    {
      "cell_type": "code",
      "source": [
        ""
      ],
      "metadata": {
        "id": "90i6dMkCz0T5"
      },
      "execution_count": null,
      "outputs": []
    },
    {
      "cell_type": "markdown",
      "source": [
        "This is where we will write both code and text. \n",
        "\n",
        "When we write code in it, we can run it by clicking the run button on the left that looks like a play button. The button will show when you run your mouse over it.\n",
        "\n",
        "*print(3+5)*"
      ],
      "metadata": {
        "id": "K2PuuDNOz-g6"
      }
    },
    {
      "cell_type": "code",
      "source": [
        "print(3+5)"
      ],
      "metadata": {
        "id": "EDAPh8XS0MHK",
        "colab": {
          "base_uri": "https://localhost:8080/"
        },
        "outputId": "23dc5e22-7a61-4ad8-e3dc-6c7515c9855c"
      },
      "execution_count": null,
      "outputs": [
        {
          "output_type": "stream",
          "name": "stdout",
          "text": [
            "8\n"
          ]
        }
      ]
    },
    {
      "cell_type": "markdown",
      "source": [
        "Another way to run the code on your box is with the keyboard shortcut *Shift + Enter*"
      ],
      "metadata": {
        "id": "EBbgQ8-wGfiI"
      }
    },
    {
      "cell_type": "code",
      "source": [
        "print(2+2)"
      ],
      "metadata": {
        "id": "lpl39CP0GbOj",
        "colab": {
          "base_uri": "https://localhost:8080/"
        },
        "outputId": "ba0689f8-d5f3-4cb4-f78d-a69cc2b8588a"
      },
      "execution_count": null,
      "outputs": [
        {
          "output_type": "stream",
          "name": "stdout",
          "text": [
            "4\n"
          ]
        }
      ]
    },
    {
      "cell_type": "markdown",
      "source": [
        "If put your cursor in between boxes, it will allow you to add a new box for either text or code."
      ],
      "metadata": {
        "id": "hMAtwngE0Pet"
      }
    },
    {
      "cell_type": "code",
      "source": [
        ""
      ],
      "metadata": {
        "id": "h-M5WtUMKcnK"
      },
      "execution_count": null,
      "outputs": []
    },
    {
      "cell_type": "code",
      "source": [
        ""
      ],
      "metadata": {
        "id": "3K4IsiRntxMT"
      },
      "execution_count": null,
      "outputs": []
    },
    {
      "cell_type": "markdown",
      "source": [
        "Let's input some text in our boxes and style it."
      ],
      "metadata": {
        "id": "dmKIcn_-1aay"
      }
    },
    {
      "cell_type": "markdown",
      "source": [
        "# Text and Font"
      ],
      "metadata": {
        "id": "HwvJhgrnKdMz"
      }
    },
    {
      "cell_type": "markdown",
      "source": [
        "In a text cell the symbol # will enlarge the text, turning it into a header. \n",
        "\n",
        "Try by adding a text box below this and typing:\n",
        "\n",
        "Hello\n",
        "\n",
        "*#Hello*"
      ],
      "metadata": {
        "id": "oiwiuJXSKjlo"
      }
    },
    {
      "cell_type": "markdown",
      "source": [
        "Hello\n",
        "#Hello"
      ],
      "metadata": {
        "id": "JJ55li0sKlMS"
      }
    },
    {
      "cell_type": "markdown",
      "source": [
        "In a code cell, the symbol # will turn the code into text. This is referred to as a comment. The program will never try to execute a comment, it is text meant to describe the code for the human reader.\n",
        "\n",
        "Try it by runnning the code cell below:"
      ],
      "metadata": {
        "id": "PiAut1fr40z_"
      }
    },
    {
      "cell_type": "code",
      "source": [
        "print(3+5) #This code will print out the answer to the sum.\n",
        "#print(3+5)"
      ],
      "metadata": {
        "id": "ujk0qortKxrP",
        "colab": {
          "base_uri": "https://localhost:8080/"
        },
        "outputId": "750e09d3-f200-4b89-9459-bfe2e50a0c79"
      },
      "execution_count": null,
      "outputs": [
        {
          "output_type": "stream",
          "name": "stdout",
          "text": [
            "8\n"
          ]
        }
      ]
    },
    {
      "cell_type": "markdown",
      "source": [
        "What do you think will happen if we input random text into a code cell?"
      ],
      "metadata": {
        "id": "lDXp5KSTB8sc"
      }
    },
    {
      "cell_type": "code",
      "source": [
        "addition"
      ],
      "metadata": {
        "id": "_1eHnuyDCSMs",
        "colab": {
          "base_uri": "https://localhost:8080/",
          "height": 166
        },
        "outputId": "58a6616b-5799-46b5-8f95-abf3df59bb9e"
      },
      "execution_count": null,
      "outputs": [
        {
          "output_type": "error",
          "ename": "NameError",
          "evalue": "ignored",
          "traceback": [
            "\u001b[0;31m---------------------------------------------------------------------------\u001b[0m",
            "\u001b[0;31mNameError\u001b[0m                                 Traceback (most recent call last)",
            "\u001b[0;32m<ipython-input-2-7b7b841909f6>\u001b[0m in \u001b[0;36m<module>\u001b[0;34m()\u001b[0m\n\u001b[0;32m----> 1\u001b[0;31m \u001b[0maddition\u001b[0m\u001b[0;34m\u001b[0m\u001b[0;34m\u001b[0m\u001b[0m\n\u001b[0m",
            "\u001b[0;31mNameError\u001b[0m: name 'addition' is not defined"
          ]
        }
      ]
    },
    {
      "cell_type": "markdown",
      "source": [
        "The code cell above contains an error, as the word addition is not correct code. This is how Jupyter notebooks lets you know there is an error in your code."
      ],
      "metadata": {
        "id": "vBd-KKOZChr1"
      }
    },
    {
      "cell_type": "markdown",
      "source": [
        "# Variables and Statements"
      ],
      "metadata": {
        "id": "AQkEYkbRLdXz"
      }
    },
    {
      "cell_type": "markdown",
      "source": [
        "Now that we have typed in some text, let's input instead some code.\n",
        "\n",
        "We will first learn to create variables. \n",
        "\n",
        "A Python variable is a memory space used to store values.\n",
        "\n",
        "You can think of this memory space as a container. The container is assigned a name, and inside of it, it contains a specific value, such as a letter or a number.\n",
        "\n",
        "A value is the fundamental thing (a letter, a number, a sign or a combination of these) that the program manipulates. For our purposes, we will also refer to them as objects.\n",
        "\n",
        "So you data points, say the number 29 when you are collecting ages, are the values contained in the variable name.\n",
        "\n",
        "We will use the operator \"=\" to \"store\" the value 1 in a variable Response_ID\n",
        "Like so:"
      ],
      "metadata": {
        "id": "NBnp5mXO5MQP"
      }
    },
    {
      "cell_type": "code",
      "source": [
        "Response_ID=1"
      ],
      "metadata": {
        "id": "dR7LkJx07J-y"
      },
      "execution_count": null,
      "outputs": []
    },
    {
      "cell_type": "markdown",
      "source": [
        "From now on, in any code we write, our notebook will remember the value assigned to the variable *Response_ID*. Variable names can be any combinations of letters, numbers and underscores."
      ],
      "metadata": {
        "id": "2mJnrcTjEFJX"
      }
    },
    {
      "cell_type": "markdown",
      "source": [
        "Naming variables and using the function *print* will be enough for us to program the writing of a first simple sentence.  \n",
        "\n",
        "For example, if I create variables for a participant's identifier and their age, then I can recall these values into a sentence that uses them.\n",
        "\n",
        "The rest of the text in my sentence, I can include by separating it from the variables with commas and enclosing it in quotation marks. Like so:"
      ],
      "metadata": {
        "id": "Unzk6mtytVo-"
      }
    },
    {
      "cell_type": "code",
      "source": [
        "age_1= 34\n",
        "Response_ID = 1\n",
        "print('Participant', Response_ID, 'is', age_1, 'years old.')"
      ],
      "metadata": {
        "id": "XbkPIGcF_uCa",
        "colab": {
          "base_uri": "https://localhost:8080/"
        },
        "outputId": "71b5be28-8173-4058-abb2-026b10c90186"
      },
      "execution_count": null,
      "outputs": [
        {
          "output_type": "stream",
          "name": "stdout",
          "text": [
            "Participant 1 is 34 years old.\n"
          ]
        }
      ]
    },
    {
      "cell_type": "markdown",
      "source": [
        "Try setting a variable for your name and one for the city where you were born. Then have the notebook print out a sentence saying where you were born."
      ],
      "metadata": {
        "id": "WGBktiIBuIhF"
      }
    },
    {
      "cell_type": "code",
      "source": [
        "name='sam'"
      ],
      "metadata": {
        "id": "O6GxmpNluXxt"
      },
      "execution_count": null,
      "outputs": []
    },
    {
      "cell_type": "markdown",
      "source": [
        "# Types of Variables"
      ],
      "metadata": {
        "id": "1kZfwelLLyod"
      }
    },
    {
      "cell_type": "markdown",
      "source": [
        "According to the kind of values that make them up, variables can be of different types.\n",
        "\n",
        "This is important because different kinds of variables will be subject to different rules and operations.\n",
        "\n",
        "What kind of variables can you think of?"
      ],
      "metadata": {
        "id": "AxFWvP4gxLYm"
      }
    },
    {
      "cell_type": "markdown",
      "source": [
        "The first type of variables we will look at are those made of **integers** and we will call them *(int)*\n",
        "\n",
        "An integer is a number that we can count. A whole number. Say, 3. Or 345. Intergers allow us to count the number of whole things we have. \n",
        "\n",
        "Fractions (or numbers with decimals) instead are called **floating numbers** *(float)*\n",
        "\n",
        "A floating number is a fractional number and it allows us to measure the dimension of something. For example, my thumb is 59.32 mm long.\n",
        "\n",
        "Lastly, we have variables made of letters or text and symbols, and we call those string variables or **strings** *(str)*"
      ],
      "metadata": {
        "id": "ZVCEZzpXxmne"
      }
    },
    {
      "cell_type": "markdown",
      "source": [
        "So what kind of variable was the one you created for your name?\n",
        "\n",
        "Use the function *type* to have the notebook tell you what type of variable it is."
      ],
      "metadata": {
        "id": "DHk7IMk4zOEs"
      }
    },
    {
      "cell_type": "code",
      "source": [
        "type(name)"
      ],
      "metadata": {
        "id": "QUwvs5bh5etf",
        "colab": {
          "base_uri": "https://localhost:8080/"
        },
        "outputId": "8f796e58-bf61-4305-b78c-ff11d5dd77f8"
      },
      "execution_count": null,
      "outputs": [
        {
          "output_type": "execute_result",
          "data": {
            "text/plain": [
              "str"
            ]
          },
          "metadata": {},
          "execution_count": 8
        }
      ]
    },
    {
      "cell_type": "markdown",
      "source": [
        "The function *type* can also be used with values rather than variable names:"
      ],
      "metadata": {
        "id": "Vke40G5A5e1x"
      }
    },
    {
      "cell_type": "code",
      "source": [
        "type(52)"
      ],
      "metadata": {
        "id": "O6IAsODy5tBS",
        "colab": {
          "base_uri": "https://localhost:8080/"
        },
        "outputId": "b1b522bb-2314-44f0-f3bc-ad15cf18b7f8"
      },
      "execution_count": null,
      "outputs": [
        {
          "output_type": "execute_result",
          "data": {
            "text/plain": [
              "int"
            ]
          },
          "metadata": {},
          "execution_count": 9
        }
      ]
    },
    {
      "cell_type": "markdown",
      "source": [
        "# Calculations with Variables"
      ],
      "metadata": {
        "id": "jSzPvmP2Llgl"
      }
    },
    {
      "cell_type": "markdown",
      "source": [
        "How can we have the notebook print how old Participant 1 will be in three years?\n",
        "\n",
        "We already have a variable for their age. So we can create a new one for their age in three years and have it print out.\n"
      ],
      "metadata": {
        "id": "EsCQPSGxuYLj"
      }
    },
    {
      "cell_type": "code",
      "source": [
        "Later_Age_1 = age_1 + 3\n",
        "print(Later_Age_1)"
      ],
      "metadata": {
        "id": "UASqRUXxv0kO",
        "colab": {
          "base_uri": "https://localhost:8080/"
        },
        "outputId": "6377f343-b564-415d-b2f2-a53237cc425b"
      },
      "execution_count": null,
      "outputs": [
        {
          "output_type": "stream",
          "name": "stdout",
          "text": [
            "37\n"
          ]
        }
      ]
    },
    {
      "cell_type": "markdown",
      "source": [
        "This has added an *int variable* with an *int value*.\n",
        "\n",
        "To multiply we will the asterix symbol *"
      ],
      "metadata": {
        "id": "5zknGcpDMvD-"
      }
    },
    {
      "cell_type": "code",
      "source": [
        "b=3*3\n",
        "print(b)"
      ],
      "metadata": {
        "id": "574zZCMyNVLQ",
        "colab": {
          "base_uri": "https://localhost:8080/"
        },
        "outputId": "d9561f41-98ed-428c-a9c5-35b81931e3fc"
      },
      "execution_count": null,
      "outputs": [
        {
          "output_type": "stream",
          "name": "stdout",
          "text": [
            "9\n"
          ]
        }
      ]
    },
    {
      "cell_type": "markdown",
      "source": [
        "This has multiplied two *int values*.\n",
        "\n",
        "To divide we will use the slash symbol /."
      ],
      "metadata": {
        "id": "VPS4Z08-Nbfl"
      }
    },
    {
      "cell_type": "code",
      "source": [
        "c=5/2\n",
        "print(c)\n"
      ],
      "metadata": {
        "id": "D11UEPKQN2yt",
        "colab": {
          "base_uri": "https://localhost:8080/"
        },
        "outputId": "7db14961-ce35-42f0-beda-cd51198d785c"
      },
      "execution_count": null,
      "outputs": [
        {
          "output_type": "stream",
          "name": "stdout",
          "text": [
            "2.5\n"
          ]
        }
      ]
    },
    {
      "cell_type": "markdown",
      "source": [
        "In this case we divided two *int* values and obtained a *float* one"
      ],
      "metadata": {
        "id": "i8__n5q2OIh5"
      }
    },
    {
      "cell_type": "markdown",
      "source": [
        "Let's square a number."
      ],
      "metadata": {
        "id": "tqOwV2S30OC2"
      }
    },
    {
      "cell_type": "code",
      "source": [
        "d=3**2\n",
        "print(d)"
      ],
      "metadata": {
        "id": "BxgbYFrb0RPp",
        "colab": {
          "base_uri": "https://localhost:8080/"
        },
        "outputId": "532d58b6-6b34-4420-e1cc-f8b0ab45d26c"
      },
      "execution_count": null,
      "outputs": [
        {
          "output_type": "stream",
          "name": "stdout",
          "text": [
            "9\n"
          ]
        }
      ]
    },
    {
      "cell_type": "markdown",
      "source": [
        "Many operations are valid for string values and variables too.\n",
        "\n",
        "By \"adding them\" with a '+' we can concatenate them, like blocks into sentences.\n",
        "\n",
        "I can create a variable made of two string values for my full name. I make sure to separate the string values with quotation marks:"
      ],
      "metadata": {
        "id": "6xlVldEY5tNj"
      }
    },
    {
      "cell_type": "code",
      "source": [
        "Hometown = 'Saint'+'Louis'\n",
        "\n",
        "print(Hometown)"
      ],
      "metadata": {
        "id": "P-XYILiI6val",
        "colab": {
          "base_uri": "https://localhost:8080/"
        },
        "outputId": "fc4593aa-a4d6-4ec5-9371-2fe2b1bd6979"
      },
      "execution_count": null,
      "outputs": [
        {
          "output_type": "stream",
          "name": "stdout",
          "text": [
            "SaintLouis\n"
          ]
        }
      ]
    },
    {
      "cell_type": "markdown",
      "source": [
        "As you can see, the two words have been assembled one next to the other. "
      ],
      "metadata": {
        "id": "ilNYylovO8mG"
      }
    },
    {
      "cell_type": "markdown",
      "source": [
        "I may want to add a space here. What kind of value is a space and how can you add it?"
      ],
      "metadata": {
        "id": "qdPiUe3bPQwC"
      }
    },
    {
      "cell_type": "code",
      "source": [
        "type(' ')"
      ],
      "metadata": {
        "id": "jOmphwxBNgGs",
        "colab": {
          "base_uri": "https://localhost:8080/"
        },
        "outputId": "98c1c5e4-2540-45bd-d05f-dc695c3a94d0"
      },
      "execution_count": null,
      "outputs": [
        {
          "output_type": "execute_result",
          "data": {
            "text/plain": [
              "str"
            ]
          },
          "metadata": {},
          "execution_count": 17
        }
      ]
    },
    {
      "cell_type": "code",
      "source": [
        "Hometown = 'Saint'+' '+'Louis'\n",
        "print(Hometown)"
      ],
      "metadata": {
        "id": "A5DN9gASPU7g",
        "colab": {
          "base_uri": "https://localhost:8080/"
        },
        "outputId": "73428236-ee5c-495c-b283-9a64004890a0"
      },
      "execution_count": null,
      "outputs": [
        {
          "output_type": "stream",
          "name": "stdout",
          "text": [
            "Saint Louis\n"
          ]
        }
      ]
    },
    {
      "cell_type": "markdown",
      "source": [
        "Numbers written in between ' ' will show as string variables instead of integers variables."
      ],
      "metadata": {
        "id": "_y4tsQjkVFjo"
      }
    },
    {
      "cell_type": "code",
      "source": [
        "print('Participat', Response_ID, 'is', '34')"
      ],
      "metadata": {
        "id": "T_4ZhhrmVRG4",
        "colab": {
          "base_uri": "https://localhost:8080/"
        },
        "outputId": "176dc838-3cb8-4b14-b423-cc0f96546f94"
      },
      "execution_count": null,
      "outputs": [
        {
          "output_type": "stream",
          "name": "stdout",
          "text": [
            "Participat 1 is 34\n"
          ]
        }
      ]
    },
    {
      "cell_type": "markdown",
      "source": [
        "What would happen if I want to add a string value to an integer value? "
      ],
      "metadata": {
        "id": "AaAzpQG1Pkbu"
      }
    },
    {
      "cell_type": "code",
      "source": [
        "e='participant'+1\n",
        "print(e)"
      ],
      "metadata": {
        "id": "eALLi07-Uc0Z",
        "colab": {
          "base_uri": "https://localhost:8080/",
          "height": 184
        },
        "outputId": "d34dd4ec-784c-42c9-cea7-06659492b3e1"
      },
      "execution_count": null,
      "outputs": [
        {
          "output_type": "error",
          "ename": "TypeError",
          "evalue": "ignored",
          "traceback": [
            "\u001b[0;31m---------------------------------------------------------------------------\u001b[0m",
            "\u001b[0;31mTypeError\u001b[0m                                 Traceback (most recent call last)",
            "\u001b[0;32m<ipython-input-4-155c97d4d7a5>\u001b[0m in \u001b[0;36m<module>\u001b[0;34m()\u001b[0m\n\u001b[0;32m----> 1\u001b[0;31m \u001b[0me\u001b[0m\u001b[0;34m=\u001b[0m\u001b[0;34m'participant'\u001b[0m\u001b[0;34m+\u001b[0m\u001b[0;36m1\u001b[0m\u001b[0;34m\u001b[0m\u001b[0;34m\u001b[0m\u001b[0m\n\u001b[0m\u001b[1;32m      2\u001b[0m \u001b[0mprint\u001b[0m\u001b[0;34m(\u001b[0m\u001b[0me\u001b[0m\u001b[0;34m)\u001b[0m\u001b[0;34m\u001b[0m\u001b[0;34m\u001b[0m\u001b[0m\n",
            "\u001b[0;31mTypeError\u001b[0m: can only concatenate str (not \"int\") to str"
          ]
        }
      ]
    },
    {
      "cell_type": "markdown",
      "source": [
        "The code cell above holds a mistake because variables of different types cannot be added."
      ],
      "metadata": {
        "id": "jWdL-XB3N2RM"
      }
    },
    {
      "cell_type": "markdown",
      "source": [
        "# Operations Mixing Variable Types"
      ],
      "metadata": {
        "id": "iTDyOix-MWam"
      }
    },
    {
      "cell_type": "markdown",
      "source": [
        "Python has a trick that will allows us to use different variable types in one same operation: casting.\n",
        "\n",
        "Casting a variable is converting it to another type. To convert it, we will type first the type we want the variable to have, and right after, we type in a parenthesis the variable. For example: *str(1)*.\n",
        "\n",
        "We saw before that writing a number between quotation marks will show it as a string value. If  that is true, then adding two numbers in quotations would concatenate them:\n"
      ],
      "metadata": {
        "id": "r8KDYq5Hw3GI"
      }
    },
    {
      "cell_type": "code",
      "source": [
        "print('1' + '2')"
      ],
      "metadata": {
        "id": "YkSk0AZ9V7ty",
        "colab": {
          "base_uri": "https://localhost:8080/"
        },
        "outputId": "ff1dd11d-c08f-4a7d-f20e-8495c7f417a4"
      },
      "execution_count": null,
      "outputs": [
        {
          "output_type": "stream",
          "name": "stdout",
          "text": [
            "12\n"
          ]
        }
      ]
    },
    {
      "cell_type": "markdown",
      "source": [
        "How could I convert (cast) this string ('2') into an integer to use it in a sum?"
      ],
      "metadata": {
        "id": "Lg5moI-GWS8n"
      }
    },
    {
      "cell_type": "code",
      "source": [
        "print(1 + int('2'))"
      ],
      "metadata": {
        "id": "FBwKQjOu-amc",
        "colab": {
          "base_uri": "https://localhost:8080/"
        },
        "outputId": "ab873520-e8c3-4b9e-e9a0-638d49d551a3"
      },
      "execution_count": null,
      "outputs": [
        {
          "output_type": "stream",
          "name": "stdout",
          "text": [
            "3\n"
          ]
        }
      ]
    },
    {
      "cell_type": "markdown",
      "source": [
        "We can also cast an int value into a string:"
      ],
      "metadata": {
        "id": "_emNrlDh_N-h"
      }
    },
    {
      "cell_type": "code",
      "source": [
        "print(str(1) + '2')"
      ],
      "metadata": {
        "id": "9ekT9tIA_Ws7",
        "colab": {
          "base_uri": "https://localhost:8080/"
        },
        "outputId": "360ea666-3d14-4071-9ff3-c74a2a531208"
      },
      "execution_count": null,
      "outputs": [
        {
          "output_type": "stream",
          "name": "stdout",
          "text": [
            "12\n"
          ]
        }
      ]
    },
    {
      "cell_type": "markdown",
      "source": [
        "Great. Questions so far?"
      ],
      "metadata": {
        "id": "1b5-a2mLOjf5"
      }
    },
    {
      "cell_type": "markdown",
      "source": [
        "#Functions\n",
        "\n",
        "Learning Objectives:\n",
        "\n",
        "*   Understand the concept of a function and syntaxis of a function\n",
        "*   View examples of methods"
      ],
      "metadata": {
        "id": "hCDsmIg8XOUk"
      }
    },
    {
      "cell_type": "markdown",
      "source": [
        "A function is like a button, that when pressed (called) will do an action to a variable. \n",
        "\n",
        "When we created a variable, we taught the program what value to recall when we write the variable name.\n",
        "\n",
        "When we create a function, we teach the program what action to recall when we write the function name. Not only to recall it, but also to perform this action on a specific variable. \n",
        "\n"
      ],
      "metadata": {
        "id": "NCPCOZreXZc8"
      }
    },
    {
      "cell_type": "code",
      "source": [
        "def summarize(who):\n",
        "    print(\"Participant \" + str(who) + \" \" + \"is \" + str(age_1) + \" years old, and will be \" + str(Later_Age_1) + \" \" + \"in three years.\")"
      ],
      "metadata": {
        "id": "aBaAAky6X3Su"
      },
      "execution_count": null,
      "outputs": []
    },
    {
      "cell_type": "markdown",
      "source": [
        "We can call the function by typing its name and giving it the variable it will act on in parenthesis. "
      ],
      "metadata": {
        "id": "ym99yze_juvE"
      }
    },
    {
      "cell_type": "code",
      "source": [
        "summarize(Response_ID)"
      ],
      "metadata": {
        "id": "SvomqfVCjfuS",
        "colab": {
          "base_uri": "https://localhost:8080/"
        },
        "outputId": "e53878c4-e5fb-4827-c17f-7042c3055459"
      },
      "execution_count": null,
      "outputs": [
        {
          "output_type": "stream",
          "name": "stdout",
          "text": [
            "Participant 1 is 34 years old, and will be 37 in three years.\n"
          ]
        }
      ]
    },
    {
      "cell_type": "markdown",
      "source": [
        "In this example we created our own function but there are many already built in functions. \n",
        "\n",
        "We have already used a few: *print(), int(), float(), type()*.\n",
        "\n",
        "Let's use three other examples of built-in functions: *max()*, *min()*, and *round()*."
      ],
      "metadata": {
        "id": "n4tVTGDMkTMX"
      }
    },
    {
      "cell_type": "markdown",
      "source": [
        "We can find the maximum value of an integer list with the function *max*."
      ],
      "metadata": {
        "id": "cP_3YjIzIB1B"
      }
    },
    {
      "cell_type": "code",
      "source": [
        "max(1, 2, 3)"
      ],
      "metadata": {
        "id": "KvP4hCFeIswk"
      },
      "execution_count": null,
      "outputs": []
    },
    {
      "cell_type": "markdown",
      "source": [
        "This function will work with string values too analyzing them in alphabetical order."
      ],
      "metadata": {
        "id": "35MTeJ--0fEr"
      }
    },
    {
      "cell_type": "code",
      "source": [
        "min('a', 'b', 'c')"
      ],
      "metadata": {
        "id": "5G84EPdY0R1F"
      },
      "execution_count": null,
      "outputs": []
    },
    {
      "cell_type": "markdown",
      "source": [
        "The built-in function *round()* will round a floating number to the number of decimals of your choosing. \n",
        "\n",
        "This specification of how many decimals the function must round up to is called a *parameter*.\n",
        "\n",
        "Parameters are included in the parenthesis after the function name and are separated by comas:\n",
        "\n",
        "*function(parameter, parameter)*\n",
        "\n",
        "To round the floating number 5.389 to 1 decimal, we will do the following:"
      ],
      "metadata": {
        "id": "1XM0WORgIs6R"
      }
    },
    {
      "cell_type": "code",
      "source": [
        "round(5.389, 1)"
      ],
      "metadata": {
        "id": "qevf1tWeJQRm"
      },
      "execution_count": null,
      "outputs": []
    },
    {
      "cell_type": "markdown",
      "source": [
        "Certain functions are available only for a specific kind of objects.\n",
        "\n",
        "When a function belongs to a specific kind of object, we call it a method.\n",
        "\n",
        "We have talked about name and age as variables, and we can speak of behavior as \"methods\". Specific objects will have specific behavior. For example, subjects can consent (this behavior is an inherent property of subjects!), but strings cannot. Strings, instead, have some other methods only available for them.\n",
        "\n",
        "*Methods* are called by adding a dot *.* before the name of the object in question.\n",
        "\n",
        "For example:\n",
        "\n",
        "The method *str.upper* is available for strings. It will act on the string they are called upon and change it from lower case to upper case.\n",
        "\n",
        "To call it, we will write the object_name, a dot, the method name and a parenthesis:\n",
        "\n",
        "*object_name.method_name()*\n"
      ],
      "metadata": {
        "id": "Pehg7tcYFy0P"
      }
    },
    {
      "cell_type": "code",
      "source": [
        "first_name = 'sam'\n",
        "first_name.upper()"
      ],
      "metadata": {
        "id": "YazL03LnGpDR",
        "colab": {
          "base_uri": "https://localhost:8080/",
          "height": 35
        },
        "outputId": "e4c18d38-2396-4ed4-9d7a-d904c4d3ad00"
      },
      "execution_count": null,
      "outputs": [
        {
          "output_type": "execute_result",
          "data": {
            "text/plain": [
              "'SAM'"
            ],
            "application/vnd.google.colaboratory.intrinsic+json": {
              "type": "string"
            }
          },
          "metadata": {},
          "execution_count": 29
        }
      ]
    },
    {
      "cell_type": "markdown",
      "source": [
        "This would print out the variable ONCE in capital letters.\n",
        "\n",
        "What would you do if you wanted it to be printed always from now on in capital letters?\n"
      ],
      "metadata": {
        "id": "49uybxE6G2wP"
      }
    },
    {
      "cell_type": "code",
      "source": [
        "first_name = first_name.upper()\n",
        "print(first_name)"
      ],
      "metadata": {
        "id": "Q-VqdnniHRhE",
        "colab": {
          "base_uri": "https://localhost:8080/"
        },
        "outputId": "0d8122df-938b-452d-908c-e95afea12442"
      },
      "execution_count": null,
      "outputs": [
        {
          "output_type": "stream",
          "name": "stdout",
          "text": [
            "SAM\n"
          ]
        }
      ]
    },
    {
      "cell_type": "markdown",
      "source": [
        "This method can be used on any string value, not just variables. For example:\n"
      ],
      "metadata": {
        "id": "sWeWDdExHR6j"
      }
    },
    {
      "cell_type": "code",
      "source": [
        "'Sam'.upper()"
      ],
      "metadata": {
        "id": "KvAQBufAHkOh",
        "colab": {
          "base_uri": "https://localhost:8080/",
          "height": 35
        },
        "outputId": "6499ca8b-7215-465b-de1d-69979f3ed6f5"
      },
      "execution_count": null,
      "outputs": [
        {
          "output_type": "execute_result",
          "data": {
            "text/plain": [
              "'SAM'"
            ],
            "application/vnd.google.colaboratory.intrinsic+json": {
              "type": "string"
            }
          },
          "metadata": {},
          "execution_count": 31
        }
      ]
    },
    {
      "cell_type": "markdown",
      "source": [
        "You can find out what a method does by using the function *help*.\n"
      ],
      "metadata": {
        "id": "MTABKV2qJXSx"
      }
    },
    {
      "cell_type": "code",
      "source": [
        "help(str.upper)"
      ],
      "metadata": {
        "id": "7Ab_j3xKJlEF",
        "colab": {
          "base_uri": "https://localhost:8080/"
        },
        "outputId": "2c523663-6dd4-4859-bf2b-8c074f0bd234"
      },
      "execution_count": null,
      "outputs": [
        {
          "output_type": "stream",
          "name": "stdout",
          "text": [
            "Help on method_descriptor:\n",
            "\n",
            "upper(self, /)\n",
            "    Return a copy of the string converted to uppercase.\n",
            "\n"
          ]
        }
      ]
    },
    {
      "cell_type": "markdown",
      "source": [
        "Find our what these other methods do:\n",
        "\n",
        "*str.replace*\n",
        "\n",
        "*str.find*\n",
        "\n",
        "*str.lower*"
      ],
      "metadata": {
        "id": "yeCbIPQHHm5F"
      }
    },
    {
      "cell_type": "code",
      "source": [
        "help(str.replace)"
      ],
      "metadata": {
        "id": "9FNTqEH9IBsA"
      },
      "execution_count": null,
      "outputs": []
    },
    {
      "cell_type": "markdown",
      "source": [
        "Great job. Questions so far?"
      ],
      "metadata": {
        "id": "ffS_q0ipJrxj"
      }
    },
    {
      "cell_type": "markdown",
      "metadata": {
        "id": "5fCEDCU_qrC0"
      },
      "source": [
        "\n",
        "\n",
        "<h1>Lists</h1>\n",
        "\n",
        "Learning Objectives:\n",
        "- Understand how to create and modify a list, and what a list can and can't do\n",
        "- Become familiar with common list methods\n",
        "\n",
        "A list is an ordered, indexable collection of data. Lets say you're doing a study on the following hometowns:\n",
        "\n",
        "hometown:\n",
        "\n",
        "\"Brooklyn\", \"Atlanta\", \"Hampton\", \"Brentwood\", \"Lexington\"\n"
      ]
    },
    {
      "cell_type": "markdown",
      "metadata": {
        "id": "GJBs_flRovLc"
      },
      "source": [
        "You could put that data into a list\n",
        "\n",
        "contain data in square brackets [...],\n",
        "each value is separated by a comma ,."
      ]
    },
    {
      "cell_type": "code",
      "execution_count": null,
      "metadata": {
        "id": "gJr_9dXGpJ05",
        "colab": {
          "base_uri": "https://localhost:8080/"
        },
        "outputId": "72e082ca-fd8d-4714-a579-d4e5f2e9f5e6"
      },
      "outputs": [
        {
          "output_type": "execute_result",
          "data": {
            "text/plain": [
              "list"
            ]
          },
          "metadata": {},
          "execution_count": 33
        }
      ],
      "source": [
        "Hometown_list = [\"Brooklyn\", \"Atlanta\", \"Hampton\", \"Brentwood\", \"Lexington\"]\n",
        "type(Hometown_list)"
      ]
    },
    {
      "cell_type": "markdown",
      "metadata": {
        "id": "lSrWNr3MuFUS"
      },
      "source": [
        "\n",
        "<h1>Use an item’s index to fetch it from a list.</h1>\n",
        "\n",
        "- Each value in a list is stored in a particular location.\n",
        "- Locations are numbered from 0 rather than 1.\n",
        "- Use the location’s index in square brackets to access the value it contains.\n",
        "\n",
        "[\"Brooklyn\", \"Atlanta\", \"Hampton\", \"Brentwood\", \"Lexington\"]\n",
        "\n",
        "index: 0             1          2          3          4"
      ]
    },
    {
      "cell_type": "code",
      "execution_count": null,
      "metadata": {
        "id": "C4HZx7Gndbrh",
        "colab": {
          "base_uri": "https://localhost:8080/"
        },
        "outputId": "d1ea8af2-70e7-474f-ea67-9db0eb4f31a1"
      },
      "outputs": [
        {
          "output_type": "stream",
          "name": "stdout",
          "text": [
            "the first item is: Brooklyn\n",
            "the fourth item is: Brentwood\n"
          ]
        }
      ],
      "source": [
        "print('the first item is:', Hometown_list[0])\n",
        "print('the fourth item is:', Hometown_list[3])"
      ]
    },
    {
      "cell_type": "markdown",
      "metadata": {
        "id": "4_kCnsPUqS6o"
      },
      "source": [
        "Lists can be indexed from the back using a negative index.\n",
        "\n",
        "[\"Brooklyn\", \"Atlanta\", \"Hampton\", \"Brentwood\", \"Lexington\"]\n",
        "\n",
        "index: -5 -4 -3 -2 -1"
      ]
    },
    {
      "cell_type": "code",
      "source": [
        "print(Hometown_list[-1])\n",
        "print(Hometown_list[-2])"
      ],
      "metadata": {
        "id": "NY2If6rU5eEm",
        "colab": {
          "base_uri": "https://localhost:8080/"
        },
        "outputId": "262b8508-239d-44a7-86f5-e434fd1903ce"
      },
      "execution_count": null,
      "outputs": [
        {
          "output_type": "stream",
          "name": "stdout",
          "text": [
            "Lexington\n",
            "Brentwood\n"
          ]
        }
      ]
    },
    {
      "cell_type": "markdown",
      "metadata": {
        "id": "OwuxHmxllTwN"
      },
      "source": [
        "## \"Slice\" a list using [ : ]\n",
        "\n",
        "- We can get multiple items from a list using slicing\n",
        "- Note that the first index is included, while the second is excluded"
      ]
    },
    {
      "cell_type": "code",
      "source": [
        "print(Hometown_list[1:4])"
      ],
      "metadata": {
        "id": "EFe-Mu9C5p7s",
        "colab": {
          "base_uri": "https://localhost:8080/"
        },
        "outputId": "3342254e-7b4b-4aa9-f4a4-6f73c200c66f"
      },
      "execution_count": null,
      "outputs": [
        {
          "output_type": "stream",
          "name": "stdout",
          "text": [
            "['Atlanta', 'Hampton', 'Brentwood']\n"
          ]
        }
      ]
    },
    {
      "cell_type": "markdown",
      "source": [
        "Leave an index blank to get everything from the beginning / end"
      ],
      "metadata": {
        "id": "Yeox4FGM5r0p"
      }
    },
    {
      "cell_type": "code",
      "source": [
        "print(Hometown_list[:4])"
      ],
      "metadata": {
        "id": "8195YIO-5sVT",
        "colab": {
          "base_uri": "https://localhost:8080/"
        },
        "outputId": "ac9c09a5-daec-4469-d618-117b3007ca84"
      },
      "execution_count": null,
      "outputs": [
        {
          "output_type": "stream",
          "name": "stdout",
          "text": [
            "['Brooklyn', 'Atlanta', 'Hampton', 'Brentwood']\n"
          ]
        }
      ]
    },
    {
      "cell_type": "code",
      "source": [
        "print(Hometown_list[2:])"
      ],
      "metadata": {
        "id": "3_mWASNg5td4",
        "colab": {
          "base_uri": "https://localhost:8080/"
        },
        "outputId": "a96d0a91-53bf-4fe1-92a1-bba8de15a35a"
      },
      "execution_count": null,
      "outputs": [
        {
          "output_type": "stream",
          "name": "stdout",
          "text": [
            "['Hampton', 'Brentwood', 'Lexington']\n"
          ]
        }
      ]
    },
    {
      "cell_type": "markdown",
      "source": [
        "<h1>Use index in a string</h1>\n",
        "\n",
        "Following the same principle, you can also use index to fetch for certain letters in a string."
      ],
      "metadata": {
        "id": "HhLA1gdOAuYq"
      }
    },
    {
      "cell_type": "code",
      "source": [
        "Hometown = \"New York\"\n",
        "Hometown[1]"
      ],
      "metadata": {
        "id": "V1al0C09FAi6",
        "colab": {
          "base_uri": "https://localhost:8080/",
          "height": 35
        },
        "outputId": "6a6efc12-7a86-4970-c857-31e0b6edf8c0"
      },
      "execution_count": null,
      "outputs": [
        {
          "output_type": "execute_result",
          "data": {
            "text/plain": [
              "'e'"
            ],
            "application/vnd.google.colaboratory.intrinsic+json": {
              "type": "string"
            }
          },
          "metadata": {},
          "execution_count": 40
        }
      ]
    },
    {
      "cell_type": "markdown",
      "source": [
        "Lets get the first eight letters"
      ],
      "metadata": {
        "id": "CG1tgs9FFA4t"
      }
    },
    {
      "cell_type": "code",
      "source": [
        "Hometown[0:8]"
      ],
      "metadata": {
        "id": "Hr5qV_QMFHy5",
        "colab": {
          "base_uri": "https://localhost:8080/",
          "height": 35
        },
        "outputId": "6f4bb6b1-2888-4d33-806f-02d3cedb1606"
      },
      "execution_count": null,
      "outputs": [
        {
          "output_type": "execute_result",
          "data": {
            "text/plain": [
              "'New York'"
            ],
            "application/vnd.google.colaboratory.intrinsic+json": {
              "type": "string"
            }
          },
          "metadata": {},
          "execution_count": 41
        }
      ]
    },
    {
      "cell_type": "markdown",
      "source": [
        "## Lists’ values can be replaced by assigning to specific indices."
      ],
      "metadata": {
        "id": "3CXkwqME5vn5"
      }
    },
    {
      "cell_type": "code",
      "source": [
        "Hometown_list[0] = \"New York\"\n",
        "print('Hometown List is now:', Hometown_list)"
      ],
      "metadata": {
        "id": "LML6-aXn54o4",
        "colab": {
          "base_uri": "https://localhost:8080/"
        },
        "outputId": "a0d47823-e4ff-42c2-8c21-12db9129b30b"
      },
      "execution_count": null,
      "outputs": [
        {
          "output_type": "stream",
          "name": "stdout",
          "text": [
            "Hometown List is now: ['New York', 'Atlanta', 'Hampton', 'Brentwood', 'Lexington']\n"
          ]
        }
      ]
    },
    {
      "cell_type": "markdown",
      "source": [
        "- This makes lists different from strings.\n",
        "- You cannot change the characters in a string after it has been created.\n",
        "- Immutable: cannot be changed after creation.\n",
        "- In contrast, lists are mutable: they can be modified in place."
      ],
      "metadata": {
        "id": "g-kPtGGm6B7c"
      }
    },
    {
      "cell_type": "code",
      "source": [
        "Hometown = \"New York\"\n",
        "Hometown[0] = 'C'"
      ],
      "metadata": {
        "id": "9809TvS_6LYk",
        "colab": {
          "base_uri": "https://localhost:8080/",
          "height": 184
        },
        "outputId": "dd659d67-ea3f-4010-bbcc-a092513e40bb"
      },
      "execution_count": null,
      "outputs": [
        {
          "output_type": "error",
          "ename": "TypeError",
          "evalue": "ignored",
          "traceback": [
            "\u001b[0;31m---------------------------------------------------------------------------\u001b[0m",
            "\u001b[0;31mTypeError\u001b[0m                                 Traceback (most recent call last)",
            "\u001b[0;32m<ipython-input-45-c782ba84aa08>\u001b[0m in \u001b[0;36m<module>\u001b[0;34m()\u001b[0m\n\u001b[1;32m      1\u001b[0m \u001b[0mHometown\u001b[0m \u001b[0;34m=\u001b[0m \u001b[0;34m\"New York\"\u001b[0m\u001b[0;34m\u001b[0m\u001b[0;34m\u001b[0m\u001b[0m\n\u001b[0;32m----> 2\u001b[0;31m \u001b[0mHometown\u001b[0m\u001b[0;34m[\u001b[0m\u001b[0;36m0\u001b[0m\u001b[0;34m]\u001b[0m \u001b[0;34m=\u001b[0m \u001b[0;34m'C'\u001b[0m\u001b[0;34m\u001b[0m\u001b[0;34m\u001b[0m\u001b[0m\n\u001b[0m",
            "\u001b[0;31mTypeError\u001b[0m: 'str' object does not support item assignment"
          ]
        }
      ]
    },
    {
      "cell_type": "markdown",
      "source": [
        "## Lists have Methods\n",
        "- Just like strings have methods, lists do too.\n",
        "- IPython lets us do tab completion after a dot ('.') to see what an object has to offer."
      ],
      "metadata": {
        "id": "6RSjL4I96nsF"
      }
    },
    {
      "cell_type": "code",
      "source": [
        "Hometown_list."
      ],
      "metadata": {
        "id": "XOZ8bQJY6xtc"
      },
      "execution_count": null,
      "outputs": []
    },
    {
      "cell_type": "markdown",
      "source": [
        "If you want to append items to the end of a list, use the append method."
      ],
      "metadata": {
        "id": "d_NCLyfY6zJz"
      }
    },
    {
      "cell_type": "code",
      "source": [
        "Hometown_list.append(\"Seattle\")\n",
        "print(Hometown_list)"
      ],
      "metadata": {
        "id": "CwbZTnQJ60Wo",
        "colab": {
          "base_uri": "https://localhost:8080/"
        },
        "outputId": "afe4acd4-8260-4c4e-d1fb-fafd34015283"
      },
      "execution_count": null,
      "outputs": [
        {
          "output_type": "stream",
          "name": "stdout",
          "text": [
            "['Pasadena', 'Ithaca', 'Hampton', 'Brentwood', 'Lexington', 'Seattle']\n"
          ]
        }
      ]
    },
    {
      "cell_type": "markdown",
      "source": [
        "## Use del to remove items from a list entirely.\n",
        "- del list_name[index] removes an item from a list and shortens the list.\n",
        "- Not a function or a method, but a statement in the language."
      ],
      "metadata": {
        "id": "mTvHWklz61gC"
      }
    },
    {
      "cell_type": "code",
      "source": [
        "print(\"original list was:\", Hometown_list)\n",
        "del Hometown_list[3]\n",
        "print(\"the list is now:\", Hometown_list)"
      ],
      "metadata": {
        "id": "pRni7PK365Ew",
        "colab": {
          "base_uri": "https://localhost:8080/"
        },
        "outputId": "b6685a12-b432-44b0-b00a-4af5fc51161a"
      },
      "execution_count": null,
      "outputs": [
        {
          "output_type": "stream",
          "name": "stdout",
          "text": [
            "original list was: ['Pasadena', 'Ithaca', 'Hampton', 'Lexington', 'Seattle']\n",
            "the list is now: ['Pasadena', 'Ithaca', 'Hampton', 'Seattle']\n"
          ]
        }
      ]
    },
    {
      "cell_type": "markdown",
      "source": [
        "## Challenge 1: Slice It"
      ],
      "metadata": {
        "id": "VpejLTyf7HjD"
      }
    },
    {
      "cell_type": "code",
      "source": [
        "Answers = [1,3,8,20,6, 'Kentwood', 'Washington', 200, 2, 'Tulsa']\n",
        "low = 2\n",
        "high = 8\n",
        "Answers[:8]"
      ],
      "metadata": {
        "id": "0G0mhUx57KFw",
        "colab": {
          "base_uri": "https://localhost:8080/"
        },
        "outputId": "aceb103b-f328-4e1b-e766-fd91c1465676"
      },
      "execution_count": null,
      "outputs": [
        {
          "output_type": "execute_result",
          "data": {
            "text/plain": [
              "[1, 3, 8, 20, 6, 'Kentwood', 'Washington', 200]"
            ]
          },
          "metadata": {},
          "execution_count": 2
        }
      ]
    },
    {
      "cell_type": "markdown",
      "source": [
        "- What does thing[low:high] do?\n",
        "- What does thing[low:] (without a value after the colon) do?\n",
        "- What does thing[:high] (without a value before the colon) do?\n",
        "- What does thing[:] (just a colon) do?\n"
      ],
      "metadata": {
        "id": "an3JtI7n7LRE"
      }
    },
    {
      "cell_type": "markdown",
      "source": [
        "## Challenge 2: Index\n",
        "I've created a (long) list for you below. Use the .index() method to find out what the index number is for Waldo"
      ],
      "metadata": {
        "id": "IRwQNs9k7buw"
      }
    },
    {
      "cell_type": "code",
      "source": [
        "Wheres_Waldo = [\"Anna\", \"Shad\", \"Rachel\", \"Maura\", \"Jason\", \"Matt\", \"Konrad\", \"Justine\", \"Sarah\", \"Laura\", \\\n",
        "                \"Chelsea\", \"Nina\", \"Dierdre\", \"Julian\", \"Waldo\", \"Naniette\", \"Melissa\", \"Biz\", \"Elsa\", \"Demetria\",\\\n",
        "                \"Liz\", \"Olivia\", \"Will\", \"Ogi\", \"Melanie\", \"Jessica\"]\n",
        "print(Wheres_Waldo.index(\"Olivia\"))\n",
        "print(Wheres_Waldo.index(\"Waldo\"))"
      ],
      "metadata": {
        "id": "4Mo4klPn7g6t"
      },
      "execution_count": null,
      "outputs": []
    },
    {
      "cell_type": "markdown",
      "source": [
        "## Challenge 3: Join\n",
        "Read the help file (or the Python documentation) for join(), a string method."
      ],
      "metadata": {
        "id": "Vcw8nsC77jzd"
      }
    },
    {
      "cell_type": "code",
      "source": [
        "str.join?"
      ],
      "metadata": {
        "id": "68_9co5H7m3g"
      },
      "execution_count": null,
      "outputs": []
    },
    {
      "cell_type": "markdown",
      "source": [
        "Using the join method, concatenate all the values in this list into one string:"
      ],
      "metadata": {
        "id": "drl6Jz9l7oZG"
      }
    },
    {
      "cell_type": "code",
      "source": [
        "letters = ['N', 'a', 's', 'h', 'v', 'i', 'l', 'l', 'e']"
      ],
      "metadata": {
        "id": "VMHjXta07pfb"
      },
      "execution_count": null,
      "outputs": []
    },
    {
      "cell_type": "code",
      "source": [
        "''.join(letters) "
      ],
      "metadata": {
        "id": "5MlgjB0L7qvx",
        "colab": {
          "base_uri": "https://localhost:8080/",
          "height": 35
        },
        "outputId": "44f62255-da33-4ba7-e208-89b05d815231"
      },
      "execution_count": null,
      "outputs": [
        {
          "output_type": "execute_result",
          "data": {
            "text/plain": [
              "'Nashville'"
            ],
            "application/vnd.google.colaboratory.intrinsic+json": {
              "type": "string"
            }
          },
          "metadata": {},
          "execution_count": 56
        }
      ]
    },
    {
      "cell_type": "markdown",
      "source": [
        "Great Job! Next, we will look into Dictionaries."
      ],
      "metadata": {
        "id": "vlp5jArxEvW4"
      }
    },
    {
      "cell_type": "markdown",
      "source": [
        "**Dictionaries**\n",
        "\n",
        "Learning Objectives:\n",
        "\n",
        "\n",
        "* What is a dictionary?\n",
        "\n",
        "* What are the advantages of dictionaries?\n",
        "\n",
        "* How do I use the content of a dictionary?\n",
        "\n",
        "* Examining\n",
        "\n",
        "* Modifying\n",
        "\n",
        "* Iterating\n",
        "\n",
        "* Methods\n",
        "\n",
        "\n",
        "**What is a dictionary?** \n",
        "\n",
        "A dictionary is a collection of organized elements in pairs of keys:values."
      ],
      "metadata": {
        "id": "EPacNDzcZ3w4"
      }
    },
    {
      "cell_type": "code",
      "source": [
        "subjects_dict = {\"Name\": \"Forough Farrokhzad\", \n",
        "            \"Age\": 21,  \n",
        "            \"Response_ID\": \"1\", \n",
        "            \"Self_Confidence\": \"Agree Slightly\", \n",
        "            \"surveys\": [\"DevContext\",\"UseOfSpace\",\"BrainInContext\",\"SocialNutrition\"]}"
      ],
      "metadata": {
        "id": "DOvUkNX1aRAx"
      },
      "execution_count": null,
      "outputs": []
    },
    {
      "cell_type": "markdown",
      "source": [
        "for this reason, dictionaries are also called key-value pairs.\n",
        "\n",
        "In this example,\n",
        "\n",
        "the **keys** are **name, age, response_ID, Self_Confidencee** and **surveys**, and everything after the colon are the *values* assigned to that key: *Forough Farrokhzad, 21, 1, Agree Slightly, and [\"DevContext\",\"UseOfSpace\",\"BrainInContext\",\"SocialNutrition\"]**\n",
        "\n",
        "Dictionaries are defined with curly brackets holding the key-value pairs, written in the forman key:value and separated by comas.\n",
        "\n",
        "**When should I use dictionaries and when should I use lists?**\n",
        "\n",
        "If the data you are storing is complex and hierarchical, the dictionary's key / value structure is very helpful. This is the advantage of dictionaries.\n",
        "\n",
        "Keys must be unique (there cannot be duplicates of the dictionary with the same key) and they cannot be changed.\n",
        "\n",
        "Values, on the other hand, can be anything, including strings, intergers, booleans, lists of them or even other dictionaries.\n",
        "\n",
        "Let's see an example with different data types: strings, booleans, integers and lists."
      ],
      "metadata": {
        "id": "PakWTFrgaVe6"
      }
    },
    {
      "cell_type": "code",
      "source": [
        "Developmental_Context = {\n",
        "  \"City\": \"Ithaca\",\n",
        "  \"Urban\": False,\n",
        "  \"Year\": 2021,\n",
        "  \"Colleges\": [\"Cornell University\", \"Ithaca College\"]\n",
        "}"
      ],
      "metadata": {
        "id": "fsGoBWZGaj85"
      },
      "execution_count": null,
      "outputs": []
    },
    {
      "cell_type": "markdown",
      "source": [
        "Here is another example of a dictionary called *valid_dict* containing two other dictionaries *dict_nums* and *dict_ints.*"
      ],
      "metadata": {
        "id": "YAgXkHoKampA"
      }
    },
    {
      "cell_type": "code",
      "source": [
        "valid_dict = {'dict_nums':{1:'one', 2:'two', 3:'three'},\n",
        "             'dict_ints':{'one':1, 'two':2, 'three':3}}"
      ],
      "metadata": {
        "id": "wLCW5W-ka2_j"
      },
      "execution_count": null,
      "outputs": []
    },
    {
      "cell_type": "markdown",
      "source": [
        "In this case *'dict_nums'* and *'dict_ints'* are both values of a dictionary, and a dictionary themselves.\n",
        "\n",
        "While dictionaries can be values in other dictionaries, they cannot be keys:"
      ],
      "metadata": {
        "id": "ZBRN9VC9a3vw"
      }
    },
    {
      "cell_type": "code",
      "source": [
        "invalid_dict = {{1:'one', 2:'two', 3:'three'}:'dict_nums',\n",
        "             {'one':1, 'two':2, 'three':3}:'dict_ints'}"
      ],
      "metadata": {
        "colab": {
          "base_uri": "https://localhost:8080/",
          "height": 184
        },
        "id": "_p6vRSU2a_P6",
        "outputId": "5f04f943-10b8-461c-fc66-4da515a7d85a"
      },
      "execution_count": null,
      "outputs": [
        {
          "output_type": "error",
          "ename": "TypeError",
          "evalue": "ignored",
          "traceback": [
            "\u001b[0;31m---------------------------------------------------------------------------\u001b[0m",
            "\u001b[0;31mTypeError\u001b[0m                                 Traceback (most recent call last)",
            "\u001b[0;32m<ipython-input-4-fc133515f1a1>\u001b[0m in \u001b[0;36m<module>\u001b[0;34m()\u001b[0m\n\u001b[1;32m      1\u001b[0m invalid_dict = {{1:'one', 2:'two', 3:'three'}:'dict_nums',\n\u001b[0;32m----> 2\u001b[0;31m              {'one':1, 'two':2, 'three':3}:'dict_ints'}\n\u001b[0m",
            "\u001b[0;31mTypeError\u001b[0m: unhashable type: 'dict'"
          ]
        }
      ]
    },
    {
      "cell_type": "markdown",
      "source": [
        "**Examining a Dictionary**\n",
        "\n",
        "You can use the function *print* and the methods *.values* and *.keys* to see the content of your dictionary.\n",
        "\n",
        "Let's use this on our first example:"
      ],
      "metadata": {
        "id": "mAFk0WrBbABD"
      }
    },
    {
      "cell_type": "code",
      "source": [
        "print(subjects_dict)"
      ],
      "metadata": {
        "colab": {
          "base_uri": "https://localhost:8080/"
        },
        "id": "yQFGyDQnbILA",
        "outputId": "709560aa-18d6-44cf-fbd2-52a2b43b490d"
      },
      "execution_count": null,
      "outputs": [
        {
          "output_type": "stream",
          "name": "stdout",
          "text": [
            "{'Name': 'Forough Farrokhzad', 'Age': 21, 'Response_ID': '1', 'Self_Confidence': 'Agree Slightly', 'surveys': ['DevContext', 'UseOfSpace', 'BrainInContext', 'SocialNutrition']}\n"
          ]
        }
      ]
    },
    {
      "cell_type": "code",
      "source": [
        "print(subjects_dict.keys())"
      ],
      "metadata": {
        "colab": {
          "base_uri": "https://localhost:8080/"
        },
        "id": "QAmqdoqcbPQe",
        "outputId": "3a826a4c-cbe1-4b85-ce7a-69407191d3a2"
      },
      "execution_count": null,
      "outputs": [
        {
          "output_type": "stream",
          "name": "stdout",
          "text": [
            "dict_keys(['Name', 'Age', 'Response_ID', 'Self_Confidence', 'surveys'])\n"
          ]
        }
      ]
    },
    {
      "cell_type": "markdown",
      "source": [
        "Now let's use these two methods on our example of dictionary containing two dictionaries."
      ],
      "metadata": {
        "id": "FIi_VUzxbQL6"
      }
    },
    {
      "cell_type": "code",
      "source": [
        "print(valid_dict.values())"
      ],
      "metadata": {
        "colab": {
          "base_uri": "https://localhost:8080/"
        },
        "id": "MGHuoTmibTQ9",
        "outputId": "5cd81694-fa06-43d7-ad35-8f525fcf0c10"
      },
      "execution_count": null,
      "outputs": [
        {
          "output_type": "stream",
          "name": "stdout",
          "text": [
            "dict_values([{1: 'one', 2: 'two', 3: 'three'}, {'one': 1, 'two': 2, 'three': 3}])\n"
          ]
        }
      ]
    },
    {
      "cell_type": "markdown",
      "source": [
        "You may want your notebook to show you a specific element from your dictionary. You can use the indexing syntax (square brackets) to look up what value goes with a specific key, like so:"
      ],
      "metadata": {
        "id": "J5d4uMBsbVE2"
      }
    },
    {
      "cell_type": "code",
      "source": [
        "subjects_dict[\"Self_Confidence\"]"
      ],
      "metadata": {
        "colab": {
          "base_uri": "https://localhost:8080/",
          "height": 35
        },
        "id": "-Lu59cIzbX-Y",
        "outputId": "4997b6c5-7576-482f-959c-62f51adfe0d2"
      },
      "execution_count": null,
      "outputs": [
        {
          "output_type": "execute_result",
          "data": {
            "text/plain": [
              "'Agree Slightly'"
            ],
            "application/vnd.google.colaboratory.intrinsic+json": {
              "type": "string"
            }
          },
          "metadata": {},
          "execution_count": 14
        }
      ]
    },
    {
      "cell_type": "markdown",
      "source": [
        "**Other methods and functions for Dictionaries**\n",
        "\n",
        "The method .items can come in handy with dictionaries. What do you think it does?"
      ],
      "metadata": {
        "id": "69ZiZv9LgFj8"
      }
    },
    {
      "cell_type": "code",
      "source": [
        "subjects_dict.items()"
      ],
      "metadata": {
        "colab": {
          "base_uri": "https://localhost:8080/"
        },
        "id": "zvK6ME_rgIV5",
        "outputId": "4e49a19e-e158-4bac-910c-0239aaa8ce25"
      },
      "execution_count": null,
      "outputs": [
        {
          "output_type": "execute_result",
          "data": {
            "text/plain": [
              "dict_items([('Name', 'Forough Farrokhzad'), ('Age', 21), ('Response_ID', '1'), ('Self_Confidence', 'Agree Slightly'), ('surveys', ['DevContext', 'UseOfSpace', 'BrainInContext', 'SocialNutrition'])])"
            ]
          },
          "metadata": {},
          "execution_count": 17
        }
      ]
    },
    {
      "cell_type": "markdown",
      "source": [
        "If you want to know how many pairs there are in a dictionary, use len:"
      ],
      "metadata": {
        "id": "a3-X73ENgJ2K"
      }
    },
    {
      "cell_type": "code",
      "source": [
        "print(len(subjects_dict))"
      ],
      "metadata": {
        "colab": {
          "base_uri": "https://localhost:8080/"
        },
        "id": "aOREC5bIgMal",
        "outputId": "00cd99fd-2822-457f-cc53-d1e6abb077f1"
      },
      "execution_count": null,
      "outputs": [
        {
          "output_type": "stream",
          "name": "stdout",
          "text": [
            "5\n"
          ]
        }
      ]
    },
    {
      "cell_type": "markdown",
      "source": [
        "# Loops and Conditions\n",
        "Time\n",
        "\n",
        "Teaching: 10 min\n",
        "Exercises: 15 min\n",
        "\n",
        "Learning Objectives:\n",
        "\n",
        "- Explain what loops are normally used for.\n",
        "- Trace the execution of a simple (unnested) loop and correctly state the values of variables in each iteration.\n",
        "- Write for loops that use the Accumulator pattern to aggregate values.\n"
      ],
      "metadata": {
        "id": "ViGGbAgz84BL"
      }
    },
    {
      "cell_type": "markdown",
      "source": [
        "## A for loop executes commands once for each value in a collection.\n",
        "\n",
        "print three hometowns: Atlanta, Kentwood, Cincinnatti"
      ],
      "metadata": {
        "id": "ennTRx6Z9GzZ"
      }
    },
    {
      "cell_type": "code",
      "execution_count": null,
      "metadata": {
        "id": "pYxStx5n8mMc",
        "colab": {
          "base_uri": "https://localhost:8080/"
        },
        "outputId": "97581b6e-14fb-4a41-8712-ac3bac4454b8"
      },
      "outputs": [
        {
          "output_type": "stream",
          "name": "stdout",
          "text": [
            "Atlanta\n",
            "Kentwood\n",
            "Cincinnatti\n"
          ]
        }
      ],
      "source": [
        "print('Atlanta')\n",
        "print('Kentwood')\n",
        "print('Cincinnatti')"
      ]
    },
    {
      "cell_type": "markdown",
      "source": [
        "for each thing in this group, do these operations"
      ],
      "metadata": {
        "id": "A7NuSwlH9K1X"
      }
    },
    {
      "cell_type": "code",
      "source": [
        "for hometown in ['Atlanta', 'Kentwood', 'Cincinnatti']:\n",
        "    print(hometown)"
      ],
      "metadata": {
        "id": "xiVmnQrh9W2r",
        "colab": {
          "base_uri": "https://localhost:8080/"
        },
        "outputId": "1c904ed0-e096-4c22-8e72-7b6a3f99adce"
      },
      "execution_count": null,
      "outputs": [
        {
          "output_type": "stream",
          "name": "stdout",
          "text": [
            "Atlanta\n",
            "Kentwood\n",
            "Cincinnatti\n"
          ]
        }
      ]
    },
    {
      "cell_type": "markdown",
      "source": [
        "## The first line of the for loop must end with a colon, and the body must be indented.\n",
        "- The colon at the end of the first line signals the start of a block of statements.\n",
        "- Python uses indentation rather than {} or begin/end to show nesting.\n",
        "- Any consistent indentation is legal, but almost everyone uses four spaces."
      ],
      "metadata": {
        "id": "Q7SjqjWr9Yaq"
      }
    },
    {
      "cell_type": "markdown",
      "source": [
        "## A for loop is made up of a collection, a loop variable, and a body."
      ],
      "metadata": {
        "id": "CDhPnzau9hvB"
      }
    },
    {
      "cell_type": "code",
      "source": [
        "for hometown in ['Atlanta', 'Kentwood', 'Cincinnatti']:\n",
        "    print(hometown)"
      ],
      "metadata": {
        "colab": {
          "base_uri": "https://localhost:8080/"
        },
        "outputId": "1c904ed0-e096-4c22-8e72-7b6a3f99adce",
        "id": "f2hqqUYajE0s"
      },
      "execution_count": null,
      "outputs": [
        {
          "output_type": "stream",
          "name": "stdout",
          "text": [
            "Atlanta\n",
            "Kentwood\n",
            "Cincinnatti\n"
          ]
        }
      ]
    },
    {
      "cell_type": "markdown",
      "source": [
        "- The collection, ['Atlanta', 'Kentwood', 'Cincinnatti'], is what the loop is being run on.\n",
        "- The body, print(hometown), specifies what to do for each value in the collection.\n",
        "- The loop variable, hometown, is what changes for each iteration of the loop, the \"current thing\"."
      ],
      "metadata": {
        "id": "f_ooNy1k9lxu"
      }
    },
    {
      "cell_type": "markdown",
      "source": [
        "## The Accumulator pattern turns many values into one.\n",
        "- A common pattern in programs is to:\n",
        " - Initialize an accumulator variable to zero, the empty string, or the empty list.\n",
        " - Update the variable with values from a collection.\n",
        "\n",
        "If only one argument is given to range, the minimum will default to 0. But two arguments may also be given:"
      ],
      "metadata": {
        "id": "LHM6p_2_9-lN"
      }
    },
    {
      "cell_type": "code",
      "source": [
        "ages = [18, 21, 34, 40, 18, 19, 20]\n",
        "\n",
        "later_ages = []\n",
        "for age in ages:\n",
        "    later_ages.append(age+3)\n",
        "\n",
        "print(later_ages)"
      ],
      "metadata": {
        "id": "cF8FjfKP-YTP",
        "colab": {
          "base_uri": "https://localhost:8080/"
        },
        "outputId": "18ac1627-a75e-4b90-ff3a-8043fb85e34e"
      },
      "execution_count": null,
      "outputs": [
        {
          "output_type": "stream",
          "name": "stdout",
          "text": [
            "[21, 24, 37, 43, 21, 22, 23]\n"
          ]
        }
      ]
    },
    {
      "cell_type": "markdown",
      "source": [
        "## Challenge 1: Square roots\n",
        "Fill in the blanks in the program below so that it prints the square root for each number in squares. You can get the square root of a number like this:\n",
        "\n",
        "number ** .5"
      ],
      "metadata": {
        "id": "7qPPSudK-im8"
      }
    },
    {
      "cell_type": "code",
      "source": [
        "squares = [1, 4, 9, 16, 25]\n",
        "\n",
        "for x in squares:\n",
        "    print(x ** 0.5)"
      ],
      "metadata": {
        "id": "SetCwUld-lI4",
        "colab": {
          "base_uri": "https://localhost:8080/"
        },
        "outputId": "d327b491-b5fe-4b83-9261-713527fd767a"
      },
      "execution_count": null,
      "outputs": [
        {
          "output_type": "stream",
          "name": "stdout",
          "text": [
            "1.0\n",
            "2.0\n",
            "3.0\n",
            "4.0\n",
            "5.0\n"
          ]
        }
      ]
    },
    {
      "cell_type": "markdown",
      "source": [
        "# Conditionals\n",
        "Learning Objectives:\n",
        "\n",
        "- Being more specific with your data: \n",
        "\n",
        "  * Correctly write programs that use if and else statements and simple Boolean expressions (without logical operators).\n",
        "  * Trace the execution of unnested conditionals and conditionals inside loops.\n",
        "\n",
        "Keypoints:\n",
        " - Use if statements to control whether or not a block of code is executed.\n",
        " - Conditionals are often used inside loops.\n",
        " - Use else to execute a block of code when an if condition is not true.\n",
        " - Use elif to specify additional tests.\n",
        " - Conditions are tested once, in order."
      ],
      "metadata": {
        "id": "tVpHMtCD-lw0"
      }
    },
    {
      "cell_type": "markdown",
      "source": [
        "## Use if statements to control whether or not a block of code is executed.\n",
        "- An if statement (more properly called a conditional statement) controls whether some block of code is executed or not.\n",
        "- Structure is similar to a for statement:\n",
        " - First line opens with if, contains a Boolean variable or expression, and ends with a colon\n",
        " - Body containing one or more statements is indented (usually by 4 spaces)"
      ],
      "metadata": {
        "id": "bnWvpdkq_B5O"
      }
    },
    {
      "cell_type": "code",
      "source": [
        "age_1 = 23\n",
        "if age > 21\n",
        "    print('Being ' + str(age_1) + ', participant 1 is of age.')"
      ],
      "metadata": {
        "id": "-RhW_gft_IDd",
        "colab": {
          "base_uri": "https://localhost:8080/"
        },
        "outputId": "87e3656a-0fed-47eb-995b-f545e2fc16ef"
      },
      "execution_count": null,
      "outputs": [
        {
          "output_type": "stream",
          "name": "stdout",
          "text": [
            "Being 21, participant 1 is of age.\n"
          ]
        }
      ]
    },
    {
      "cell_type": "code",
      "source": [
        "age_2 = 18\n",
        "if age_2 < 21:\n",
        "    print ('Being ' + str(age_2) + ', participant 2 is under age.')"
      ],
      "metadata": {
        "id": "EdGrlQW0_DS8",
        "colab": {
          "base_uri": "https://localhost:8080/"
        },
        "outputId": "2da58c39-9d1d-4be2-fac7-6e8c1a6417e8"
      },
      "execution_count": null,
      "outputs": [
        {
          "output_type": "stream",
          "name": "stdout",
          "text": [
            "Being 18, participant 2 is under age.\n"
          ]
        }
      ]
    },
    {
      "cell_type": "markdown",
      "source": [
        "# Conditionals are often used inside loops.\n",
        "- Not much point using a conditional when we know the value (as above).\n",
        "- But useful when we have a collection to process."
      ],
      "metadata": {
        "id": "X5D7YW1I_JmM"
      }
    },
    {
      "cell_type": "code",
      "source": [
        "#pick out under age\n",
        "\n",
        "ages = [21, 19, 18, 21, 20]\n",
        "for age in ages:\n",
        "    if age < 21:\n",
        "        print(age, 'is in under age group')"
      ],
      "metadata": {
        "id": "7e43_8a1_NxM",
        "colab": {
          "base_uri": "https://localhost:8080/"
        },
        "outputId": "01c18cba-f84c-4df7-b16a-b83f6cc8adf4"
      },
      "execution_count": null,
      "outputs": [
        {
          "output_type": "stream",
          "name": "stdout",
          "text": [
            "19 is in under age group\n",
            "18 is in under age group\n",
            "20 is in under age group\n"
          ]
        }
      ]
    },
    {
      "cell_type": "markdown",
      "source": [
        "## Use else to execute a block of code when an if condition is not true.\n",
        "- else is always attached to if.\n",
        "- Allows us to specify an alternative to execute when the if branch isn't taken."
      ],
      "metadata": {
        "id": "7MrLiZRJ_PN6"
      }
    },
    {
      "cell_type": "code",
      "source": [
        "ages = [21, 19, 18, 21, 20]\n",
        "for age in ages:\n",
        "    if age < 21:\n",
        "        print(age, 'is in under age group')\n",
        "    else:\n",
        "        print(age, 'is not in under age group')"
      ],
      "metadata": {
        "id": "UREUklD9_TZ_",
        "colab": {
          "base_uri": "https://localhost:8080/"
        },
        "outputId": "4a9b18c2-734a-49e0-b21d-63d628b4a6ed"
      },
      "execution_count": null,
      "outputs": [
        {
          "output_type": "stream",
          "name": "stdout",
          "text": [
            "21 is not in under age group\n",
            "19 is in under age group\n",
            "18 is in under age group\n",
            "21 is not in under age group\n",
            "20 is in under age group\n"
          ]
        }
      ]
    },
    {
      "cell_type": "markdown",
      "source": [
        "# Use elif to specify additional tests.\n",
        "- May want to provide several alternative choices, each with its own test.\n",
        "- Use elif (short for \"else if\") and a condition to specify these.\n",
        "- Always associated with an if.\n",
        "- Must come before the else (which is the \"catch all\")."
      ],
      "metadata": {
        "id": "PyIp1NX7_WVJ"
      }
    },
    {
      "cell_type": "code",
      "source": [
        "ages = [18, 88, 23, 97, 34]\n",
        "for age in ages:\n",
        "    if age > 65:\n",
        "        print(age, 'is in elders group')\n",
        "    elif age > 21:\n",
        "        print(age, 'is in adult group')\n",
        "    else:\n",
        "        print(age, 'is in teenagers group')"
      ],
      "metadata": {
        "id": "xac0YQwx_afB",
        "colab": {
          "base_uri": "https://localhost:8080/"
        },
        "outputId": "b37fae37-46aa-4dc0-d210-3f17caedb8cd"
      },
      "execution_count": null,
      "outputs": [
        {
          "output_type": "stream",
          "name": "stdout",
          "text": [
            "18 is in teenagers group\n",
            "88 is in elders group\n",
            "23 is in adult group\n",
            "97 is in elders group\n",
            "34 is in adult group\n"
          ]
        }
      ]
    },
    {
      "cell_type": "markdown",
      "source": [
        "## Challenge 1: Recoding the variable\n",
        "Fill in the blanks so that this program creates a new list containing lables, \"young\", \"middle\", \"elder\", to indicate the age group."
      ],
      "metadata": {
        "id": "WcotsX2Q_cjH"
      }
    },
    {
      "cell_type": "code",
      "source": [
        "ages = [18, 88, 23, 97, 34]\n",
        "result = []\n",
        "for age in ages:\n",
        "    if age > 65:\n",
        "        result.append('elder')\n",
        "    elif age > 21:\n",
        "        result.append('adult')\n",
        "    else:\n",
        "        result.append('teeanger')\n",
        "print(result)"
      ],
      "metadata": {
        "id": "LLtWQccI_e9a",
        "colab": {
          "base_uri": "https://localhost:8080/"
        },
        "outputId": "885b651a-2571-42d5-eb52-0a2d4f18298d"
      },
      "execution_count": null,
      "outputs": [
        {
          "output_type": "stream",
          "name": "stdout",
          "text": [
            "['teeanger', 'elder', 'adult', 'elder', 'adult']\n"
          ]
        }
      ]
    },
    {
      "cell_type": "markdown",
      "source": [
        "# Challenge 2: String Conditionals\n",
        "Sometimes we have to separate first names from last names. Let's pick out last names starting with B."
      ],
      "metadata": {
        "id": "ROa5xIqj_hTL"
      }
    },
    {
      "cell_type": "markdown",
      "source": [
        "To grab the last name, you can use the split method to seperate a string into a list of strings based on spaces. Here is an example:"
      ],
      "metadata": {
        "id": "HCiwuW3vl_WL"
      }
    },
    {
      "cell_type": "code",
      "source": [
        "president=\"Franklin D. Roosevelt\"\n",
        "name_split=president.split()\n",
        "print(name_split)"
      ],
      "metadata": {
        "id": "hacs8vuJErkc",
        "colab": {
          "base_uri": "https://localhost:8080/"
        },
        "outputId": "1182e554-b917-4b14-a453-5d1d06d3bfac"
      },
      "execution_count": null,
      "outputs": [
        {
          "output_type": "stream",
          "name": "stdout",
          "text": [
            "['Franklin', 'D.', 'Roosevelt']\n"
          ]
        }
      ]
    },
    {
      "cell_type": "code",
      "source": [
        "presidents_full = [\"George Washington\", \"John Adams\", \"Thomas Jefferson\", \"James Madison\", \"James Monroe\", \\\n",
        "        \"John Quincy Adams\", \"Andrew Jackson\", \"Martin Van Buren\", \"William Henry Harrison\", \"John Tyler\", \\\n",
        "        \"James K. Polk\", \"Zachary Taylor\", \"Millard Fillmore\", \"Franklin Pierce\", \"James Buchanan\", \\\n",
        "        \"Abraham Lincoln\", \"Andrew Johnson\", \"Ulysses S. Grant\", \"Rutherford B. Hayes\", \"James A. Garfield\", \\\n",
        "        \"Chester A. Arthur\", \"Grover Cleveland\", \"Benjamin Harrison\", \"Grover Cleveland\", \"William McKinley\", \\\n",
        "        \"Theodore Roosevelt\", \"William Howard Taft\", \"Woodrow Wilson\", \"Warren G. Harding\", \"Calvin Coolidge\", \\\n",
        "        \"Herbert Hoover\", \"Franklin D. Roosevelt\", \"Harry S. Truman\", \"Dwight D. Eisenhower\", \"John F. Kennedy\", \\\n",
        "        \"Lyndon B. Johnson\", \"Richard Nixon\", \"Gerald Ford\", \"Jimmy Carter\", \"Ronald Reagan\", \"George H. W. Bush\", \\\n",
        "        \"Bill Clinton\", \"George W. Bush\", \"Barack Obama\"]\n",
        "\n",
        "result = []\n",
        "for president in presidents_full:\n",
        "    name_split=president.split()\n",
        "    #print(name_split)\n",
        "    last_name= name_split[-1] \n",
        "    start_letter= last_name[0] \n",
        "    if start_letter == \"B\":\n",
        "        result.append(last_name)\n",
        "        print(president)\n",
        "    else:\n",
        "        result.append('no')\n",
        "print(result)"
      ],
      "metadata": {
        "id": "CQ2TjRdE_k-v",
        "colab": {
          "base_uri": "https://localhost:8080/"
        },
        "outputId": "b1f8f5d0-f0fd-426f-ad6c-695ba59e49e2"
      },
      "execution_count": null,
      "outputs": [
        {
          "output_type": "stream",
          "name": "stdout",
          "text": [
            "Martin Van Buren\n",
            "James Buchanan\n",
            "George H. W. Bush\n",
            "George W. Bush\n",
            "['no', 'no', 'no', 'no', 'no', 'no', 'no', 'Buren', 'no', 'no', 'no', 'no', 'no', 'no', 'Buchanan', 'no', 'no', 'no', 'no', 'no', 'no', 'no', 'no', 'no', 'no', 'no', 'no', 'no', 'no', 'no', 'no', 'no', 'no', 'no', 'no', 'no', 'no', 'no', 'no', 'no', 'Bush', 'no', 'Bush', 'no']\n"
          ]
        }
      ]
    },
    {
      "cell_type": "markdown",
      "source": [
        "**Iterating with Dictionaries**\n",
        "\n",
        "When you need to do several changes in your dictionary, loops can help.\n",
        "\n",
        "For example, you could use a look to have your notebook print not just one but all the keys aong with their values in your dictionary:"
      ],
      "metadata": {
        "id": "U2bTdxqUf7TT"
      }
    },
    {
      "cell_type": "code",
      "source": [
        "#printpairs\n",
        "d = {'Response_ID_1': 21, 'Response_ID_2': 19, 'Response_ID_3': 24, 'Response_ID_4': 20}\n",
        "\n",
        "for key in d.keys():\n",
        "    print(key, d[key])"
      ],
      "metadata": {
        "colab": {
          "base_uri": "https://localhost:8080/"
        },
        "id": "HmXl3xbOgBOY",
        "outputId": "7dfca2a2-89e9-4758-c7a5-e25953b15cd2"
      },
      "execution_count": null,
      "outputs": [
        {
          "output_type": "stream",
          "name": "stdout",
          "text": [
            "Response_ID_1 21\n",
            "Response_ID_2 19\n",
            "Response_ID_3 24\n",
            "Response_ID_4 20\n"
          ]
        }
      ]
    },
    {
      "cell_type": "markdown",
      "source": [
        "Imagine these are the ages of different respondants in your survey. Now let's say you wish you correct all ages in this list by adding 2 years to each:"
      ],
      "metadata": {
        "id": "CdlerQUOgB55"
      }
    },
    {
      "cell_type": "code",
      "source": [
        "#add2years\n",
        "d = {'Response_ID_1': 21, 'Response_ID_2': 19, 'Response_ID_3': 24, 'Response_ID_4': 20}\n",
        "\n",
        "for key in d.keys():\n",
        "    d[key] = (2 + d[key])\n",
        "\n",
        "print(d)"
      ],
      "metadata": {
        "colab": {
          "base_uri": "https://localhost:8080/"
        },
        "id": "Bg6dwWc_gEEA",
        "outputId": "b926ce0e-9dc4-41b0-996a-fc481b865f04"
      },
      "execution_count": null,
      "outputs": [
        {
          "output_type": "stream",
          "name": "stdout",
          "text": [
            "{'Response_ID_1': 23, 'Response_ID_2': 21, 'Response_ID_3': 26, 'Response_ID_4': 22}\n"
          ]
        }
      ]
    },
    {
      "cell_type": "markdown",
      "source": [
        "The in operator works both for lists and dictionaries.\n",
        "\n",
        "It will allow you to check if an element is contained within a list or a dictionary."
      ],
      "metadata": {
        "id": "dwKE8aD-gN5O"
      }
    },
    {
      "cell_type": "markdown",
      "source": [
        "Practice\n",
        "\n",
        "Using the dictionary below and a for loop, calculate how much it'll cost you to buy 2 pieces of each fruit."
      ],
      "metadata": {
        "id": "MZRvKaTjgPk7"
      }
    },
    {
      "cell_type": "code",
      "source": [
        "d = {'apples': 0.49, 'oranges': 0.99, 'pears': 1.49, 'bananas': 0.32}"
      ],
      "metadata": {
        "id": "OJqzf25MgTXl"
      },
      "execution_count": null,
      "outputs": []
    },
    {
      "cell_type": "code",
      "source": [
        ""
      ],
      "metadata": {
        "id": "wwdpbcDmgVgw"
      },
      "execution_count": null,
      "outputs": []
    },
    {
      "cell_type": "markdown",
      "source": [
        "Up to now we have been creating our variables, lists and dictionaries as we go on code. \n",
        "\n",
        "But what if we need to input a file with our data?\n",
        "\n",
        "In fact, most of the variables we have been talking about come from a real database collected in the College of Human Ecology in Cornell University.\n",
        "\n",
        "It belongs to a social neuroscience project that looks at the relationship between social affordances and brain function, including risk/reward sensitivity and executive control.\n",
        "\n",
        "We have selected a section of this data base for you with the following columns:\n",
        "* Year\n",
        "* Month\n",
        "* Response_ID\n",
        "* Hunger_Experience\n",
        "* Moving_Times\n",
        "* Self_Confidence\n",
        "* Hometown\n",
        "* Age\n",
        "* Parental_Income\n",
        "* Race_Ethnicity\n",
        "* School_Year\n",
        "* Transfer_Student\n",
        "* College\n",
        "* Gender_Identity\n",
        "* Sex\n",
        "* Living_Location\n",
        "\n",
        "\n",
        "\n",
        "---\n",
        "\n",
        "\n",
        "\n",
        "There first three items (year, month and Response_ID are filled in automatically). Here are the prompts for the rest of the questions in this survey and their choices:\n",
        "\n",
        "* **Hunger_Experience:** In the last 12 months, were you ever hungry but didn't eat because there wasn't enough money for food?\n",
        "\n",
        "> -No\n",
        "\n",
        "> -Yes\n",
        "\n",
        "> -I don't know\n",
        "\n",
        "\n",
        "* **Moving_Times:** How many times did you move before you turned 18? Please respond with a numeral. Do not include moving for college.\n",
        "\n",
        "* **Self_Confidence:** When things don't go according to my plans, my motto is, \"Where there's a will, there's a way.\"\n",
        "\n",
        ">-Don't Know/Not Applicable\n",
        "\n",
        ">-Disagree strongy\n",
        "\n",
        ">-Disagree somewhat\n",
        "\n",
        ">-Disagree slightly\n",
        "\n",
        ">-Agree slightly\n",
        "\n",
        ">-Agree somewhat\n",
        "\n",
        ">-Agree Strongly\n",
        "\n",
        "\n",
        "* **Hometown:** What is the name of your hometown (including city, state/province and zip/postal code)? For example, Ithaca, New York 14850. \n",
        "\n",
        "* **Age:** What is your age? (Enter a number)\n",
        "\n",
        "* **Parental_Income:** What is your parents' income?\n",
        "\n",
        ">-Below $40,000\n",
        "\n",
        ">-$40,000 - $59,999\n",
        "\n",
        ">-$60,000 - $99,999\n",
        "\n",
        ">-$100,000 - $174,000\n",
        "\n",
        ">-$175,000 - $299,999\n",
        "\n",
        ">-$300,000 - $499,999\n",
        "\n",
        ">-$500,000 - $749,999\n",
        "\n",
        ">-More than $750,000\n",
        "\n",
        "\n",
        "* **Race_Ethnicity:**  What is your race/ethnicity?\n",
        "\n",
        ">-White (of European Descent)\n",
        "\n",
        ">-Black\n",
        "\n",
        ">-Hispanic\n",
        "\n",
        ">-Asian\n",
        "\n",
        ">-Pacific Islander\n",
        "\n",
        ">-Middle Eastern\n",
        "\n",
        ">-Mixed Race\n",
        "\n",
        ">-Unknown\n",
        "\n",
        "\n",
        "* **School_Year:** What is your year in school?\n",
        "\n",
        ">-1st year undergraduate\n",
        "\n",
        ">-2nd year undergraduate\n",
        "\n",
        ">-3rd year undergraduate\n",
        "\n",
        ">-4th year undergraduate\n",
        "\n",
        ">-Graduate\n",
        "\n",
        "\n",
        "* **Transfer_Student:** Are you a transfer student?\n",
        "\n",
        ">-Yes\n",
        "\n",
        ">-No\n",
        "\n",
        "\n",
        "* **College:** Which College at Cornell are you in?\n",
        "\n",
        ">-College of Agriculture and Life Sciences\n",
        "\n",
        ">-College of Architecture, Art and Planning\n",
        "\n",
        ">-College of Art and Sciences\n",
        "\n",
        ">-SC Johnson College of Business\n",
        "\n",
        ">-College of Engineering\n",
        "\n",
        ">-College of Human Ecology\n",
        "\n",
        ">-School of Industrial and Labor Relations\n",
        "\n",
        ">-Faculty of Computing and Information Science\n",
        "\n",
        ">-Cornell Law School\n",
        "\n",
        ">-College of Veterinary Medicine\n",
        "\n",
        ">-Weill Cornell Medicine\n",
        "\n",
        "\n",
        "* **Gender_Identity:** What is your gender identity?\n",
        "\n",
        ">-Man\n",
        "\n",
        ">-Woman\n",
        "\n",
        ">-Gender non conforming\n",
        "\n",
        "* Sex: What is your sex?\n",
        "\n",
        ">-Female\n",
        "\n",
        ">-Male\n",
        "\n",
        ">-Intersex\n",
        "\n",
        "\n",
        "* **Living_Location:** Where do you live?\n",
        "\n",
        ">-Off Campus\n",
        "\n",
        ">-On Campus\n",
        "\n"
      ],
      "metadata": {
        "id": "WVw9vYz9Ggg_"
      }
    },
    {
      "cell_type": "markdown",
      "source": [
        "# Files\n",
        "Learning Objectives:\n",
        "\n",
        "* \"Learn the Python way of reading in files.\"\n",
        "* \"Understand how to read/write text files and csv files.\"\n",
        "\n",
        "Example file:\n",
        "\n",
        "* We are going to use an example dataset retrieved from a lab in Cornell University.\n",
        "\n",
        "# Reading from a file\n",
        "Reading a file requires three steps:\n",
        "\n",
        "Opening the file: open function\n",
        "Reading the file: read function\n",
        "Closing the file: close function"
      ],
      "metadata": {
        "id": "FMjqqrh4gXte"
      }
    },
    {
      "cell_type": "code",
      "source": [
        "my_file = open(\"./data/survey_responses.csv\", \"r\") # open takes two arguments: the location of the file to open, and the mode (see below for details)\n",
        "text = my_file.read()\n",
        "my_file.close()\n",
        "\n",
        "print(text)"
      ],
      "metadata": {
        "colab": {
          "base_uri": "https://localhost:8080/",
          "height": 253
        },
        "id": "tjqtWTYcgkcm",
        "outputId": "8d1befde-f5b6-4d29-fb61-943a78ebf850"
      },
      "execution_count": null,
      "outputs": [
        {
          "output_type": "error",
          "ename": "FileNotFoundError",
          "evalue": "ignored",
          "traceback": [
            "\u001b[0;31m---------------------------------------------------------------------------\u001b[0m",
            "\u001b[0;31mFileNotFoundError\u001b[0m                         Traceback (most recent call last)",
            "\u001b[0;32m<ipython-input-2-febbd4d88922>\u001b[0m in \u001b[0;36m<module>\u001b[0;34m()\u001b[0m\n\u001b[0;32m----> 1\u001b[0;31m \u001b[0mmy_file\u001b[0m \u001b[0;34m=\u001b[0m \u001b[0mopen\u001b[0m\u001b[0;34m(\u001b[0m\u001b[0;34m\"C:/Users/samsa/OneDrive/Desktop/DATABASE.csv\"\u001b[0m\u001b[0;34m,\u001b[0m \u001b[0;34m\"r\"\u001b[0m\u001b[0;34m)\u001b[0m \u001b[0;31m# open takes two arguments: the location of the file to open, and the mode (see below for details)\u001b[0m\u001b[0;34m\u001b[0m\u001b[0;34m\u001b[0m\u001b[0m\n\u001b[0m\u001b[1;32m      2\u001b[0m \u001b[0mtext\u001b[0m \u001b[0;34m=\u001b[0m \u001b[0mmy_file\u001b[0m\u001b[0;34m.\u001b[0m\u001b[0mread\u001b[0m\u001b[0;34m(\u001b[0m\u001b[0;34m)\u001b[0m\u001b[0;34m\u001b[0m\u001b[0;34m\u001b[0m\u001b[0m\n\u001b[1;32m      3\u001b[0m \u001b[0mmy_file\u001b[0m\u001b[0;34m.\u001b[0m\u001b[0mclose\u001b[0m\u001b[0;34m(\u001b[0m\u001b[0;34m)\u001b[0m\u001b[0;34m\u001b[0m\u001b[0;34m\u001b[0m\u001b[0m\n\u001b[1;32m      4\u001b[0m \u001b[0;34m\u001b[0m\u001b[0m\n\u001b[1;32m      5\u001b[0m \u001b[0mprint\u001b[0m\u001b[0;34m(\u001b[0m\u001b[0mtext\u001b[0m\u001b[0;34m)\u001b[0m\u001b[0;34m\u001b[0m\u001b[0;34m\u001b[0m\u001b[0m\n",
            "\u001b[0;31mFileNotFoundError\u001b[0m: [Errno 2] No such file or directory: 'C:/Users/samsa/OneDrive/Desktop/DATABASE.csv'"
          ]
        }
      ]
    },
    {
      "cell_type": "markdown",
      "source": [
        "However, use the with open syntax and this will automatically close files for you.\n",
        "The 'r' indicates that you are reading the file, as opposed to, say, writing to it."
      ],
      "metadata": {
        "id": "yai00FXfglDm"
      }
    },
    {
      "cell_type": "code",
      "source": [
        "# better code\n",
        "with open('./data/survey_responses.csv', 'r') as my_file:\n",
        "    text = my_file.read()\n",
        "    \n",
        "print(text)\n",
        "\n",
        "#note that we are also reading the title as the first line and we will deal with this issue later"
      ],
      "metadata": {
        "colab": {
          "base_uri": "https://localhost:8080/",
          "height": 236
        },
        "id": "zUamQxhWgnNE",
        "outputId": "8e227d20-02fe-47e4-9819-83ee35f5c96c"
      },
      "execution_count": null,
      "outputs": [
        {
          "output_type": "error",
          "ename": "FileNotFoundError",
          "evalue": "ignored",
          "traceback": [
            "\u001b[0;31m---------------------------------------------------------------------------\u001b[0m",
            "\u001b[0;31mFileNotFoundError\u001b[0m                         Traceback (most recent call last)",
            "\u001b[0;32m<ipython-input-20-90751bdbfc67>\u001b[0m in \u001b[0;36m<module>\u001b[0;34m()\u001b[0m\n\u001b[1;32m      1\u001b[0m \u001b[0;31m# better code\u001b[0m\u001b[0;34m\u001b[0m\u001b[0;34m\u001b[0m\u001b[0;34m\u001b[0m\u001b[0m\n\u001b[0;32m----> 2\u001b[0;31m \u001b[0;32mwith\u001b[0m \u001b[0mopen\u001b[0m\u001b[0;34m(\u001b[0m\u001b[0;34m'data/so_question_withheader.csv'\u001b[0m\u001b[0;34m,\u001b[0m \u001b[0;34m'r'\u001b[0m\u001b[0;34m)\u001b[0m \u001b[0;32mas\u001b[0m \u001b[0mmy_file\u001b[0m\u001b[0;34m:\u001b[0m\u001b[0;34m\u001b[0m\u001b[0;34m\u001b[0m\u001b[0m\n\u001b[0m\u001b[1;32m      3\u001b[0m     \u001b[0mtext\u001b[0m \u001b[0;34m=\u001b[0m \u001b[0mmy_file\u001b[0m\u001b[0;34m.\u001b[0m\u001b[0mread\u001b[0m\u001b[0;34m(\u001b[0m\u001b[0;34m)\u001b[0m\u001b[0;34m\u001b[0m\u001b[0;34m\u001b[0m\u001b[0m\n\u001b[1;32m      4\u001b[0m \u001b[0;34m\u001b[0m\u001b[0m\n\u001b[1;32m      5\u001b[0m \u001b[0mprint\u001b[0m\u001b[0;34m(\u001b[0m\u001b[0mtext\u001b[0m\u001b[0;34m)\u001b[0m\u001b[0;34m\u001b[0m\u001b[0;34m\u001b[0m\u001b[0m\n",
            "\u001b[0;31mFileNotFoundError\u001b[0m: [Errno 2] No such file or directory: 'data/so_question_withheader.csv'"
          ]
        }
      ]
    },
    {
      "cell_type": "markdown",
      "source": [
        "# Reading a file as a list\n",
        "\n",
        "*Very often we want to read in a file line by line, storing those lines as a list.\n",
        "\n",
        "*To do that, we can use a for loop over the file object:"
      ],
      "metadata": {
        "id": "Ckh-dxCbgo9U"
      }
    },
    {
      "cell_type": "code",
      "source": [
        "stored = []\n",
        "with open('./data/survey_responses.csv', 'r') as my_file:\n",
        "    for line in my_file:\n",
        "        stored.append(line)"
      ],
      "metadata": {
        "colab": {
          "base_uri": "https://localhost:8080/",
          "height": 218
        },
        "id": "HKuhyt9dgxaq",
        "outputId": "a37fdf08-0320-465f-bf66-390f65ffd011"
      },
      "execution_count": null,
      "outputs": [
        {
          "output_type": "error",
          "ename": "FileNotFoundError",
          "evalue": "ignored",
          "traceback": [
            "\u001b[0;31m---------------------------------------------------------------------------\u001b[0m",
            "\u001b[0;31mFileNotFoundError\u001b[0m                         Traceback (most recent call last)",
            "\u001b[0;32m<ipython-input-21-86192e4618cd>\u001b[0m in \u001b[0;36m<module>\u001b[0;34m()\u001b[0m\n\u001b[1;32m      1\u001b[0m \u001b[0mstored\u001b[0m \u001b[0;34m=\u001b[0m \u001b[0;34m[\u001b[0m\u001b[0;34m]\u001b[0m\u001b[0;34m\u001b[0m\u001b[0;34m\u001b[0m\u001b[0m\n\u001b[0;32m----> 2\u001b[0;31m \u001b[0;32mwith\u001b[0m \u001b[0mopen\u001b[0m\u001b[0;34m(\u001b[0m\u001b[0;34m'data/so_question_withheader.csv'\u001b[0m\u001b[0;34m,\u001b[0m \u001b[0;34m'r'\u001b[0m\u001b[0;34m)\u001b[0m \u001b[0;32mas\u001b[0m \u001b[0mmy_file\u001b[0m\u001b[0;34m:\u001b[0m\u001b[0;34m\u001b[0m\u001b[0;34m\u001b[0m\u001b[0m\n\u001b[0m\u001b[1;32m      3\u001b[0m     \u001b[0;32mfor\u001b[0m \u001b[0mline\u001b[0m \u001b[0;32min\u001b[0m \u001b[0mmy_file\u001b[0m\u001b[0;34m:\u001b[0m\u001b[0;34m\u001b[0m\u001b[0;34m\u001b[0m\u001b[0m\n\u001b[1;32m      4\u001b[0m         \u001b[0mstored\u001b[0m\u001b[0;34m.\u001b[0m\u001b[0mappend\u001b[0m\u001b[0;34m(\u001b[0m\u001b[0mline\u001b[0m\u001b[0;34m)\u001b[0m\u001b[0;34m\u001b[0m\u001b[0;34m\u001b[0m\u001b[0m\n",
            "\u001b[0;31mFileNotFoundError\u001b[0m: [Errno 2] No such file or directory: 'data/so_question_withheader.csv'"
          ]
        }
      ]
    },
    {
      "cell_type": "code",
      "source": [
        "stored"
      ],
      "metadata": {
        "colab": {
          "base_uri": "https://localhost:8080/"
        },
        "id": "2A1ZAgXrgzJj",
        "outputId": "4a6698c3-e1cc-453f-bbb8-9f07776732b0"
      },
      "execution_count": null,
      "outputs": [
        {
          "output_type": "execute_result",
          "data": {
            "text/plain": [
              "[]"
            ]
          },
          "metadata": {},
          "execution_count": 22
        }
      ]
    },
    {
      "cell_type": "markdown",
      "source": [
        "Remember that the variable name can be anything. It does not have to be line. Files are simply always read line by line.\n",
        "\n",
        "# Line breaks\n",
        "\n",
        "* '\\n' is a line break to indicate the ending of each line in a file\n",
        "\n",
        "* We can use the strip method to get rid of those line breaks at the end.\n",
        "\n",
        "The strip() method returns a copy of the string by removing both the leading and the trailing empty characters, such as spaces and line breaks (based on the string argument passed)."
      ],
      "metadata": {
        "id": "f9mWa8iXgsyv"
      }
    },
    {
      "cell_type": "code",
      "source": [
        "string = '  xiaomeng   '\n",
        "print(string.strip())"
      ],
      "metadata": {
        "colab": {
          "base_uri": "https://localhost:8080/"
        },
        "id": "j6McAmPchAxA",
        "outputId": "d42abbb2-f729-41e5-c66b-9e296c663d5b"
      },
      "execution_count": null,
      "outputs": [
        {
          "output_type": "stream",
          "name": "stdout",
          "text": [
            "xiaomeng\n"
          ]
        }
      ]
    },
    {
      "cell_type": "code",
      "source": [
        "string = 'xiaomeng\\n'\n",
        "print(string.strip())"
      ],
      "metadata": {
        "colab": {
          "base_uri": "https://localhost:8080/"
        },
        "id": "pKjesOljhBm6",
        "outputId": "072063d8-6efd-4347-8ddf-480b887a2590"
      },
      "execution_count": null,
      "outputs": [
        {
          "output_type": "stream",
          "name": "stdout",
          "text": [
            "xiaomeng\n"
          ]
        }
      ]
    },
    {
      "cell_type": "code",
      "source": [
        "stored = []\n",
        "with open('./data/survey_responses.csv', 'r') as my_file:\n",
        "    for line in my_file:\n",
        "        stored.append(line.strip())\n"
      ],
      "metadata": {
        "colab": {
          "base_uri": "https://localhost:8080/",
          "height": 218
        },
        "id": "uBHKNHAihBce",
        "outputId": "3d6353e9-2fff-423a-901d-b01e3d458839"
      },
      "execution_count": null,
      "outputs": [
        {
          "output_type": "error",
          "ename": "FileNotFoundError",
          "evalue": "ignored",
          "traceback": [
            "\u001b[0;31m---------------------------------------------------------------------------\u001b[0m",
            "\u001b[0;31mFileNotFoundError\u001b[0m                         Traceback (most recent call last)",
            "\u001b[0;32m<ipython-input-25-9d64315a82ca>\u001b[0m in \u001b[0;36m<module>\u001b[0;34m()\u001b[0m\n\u001b[1;32m      1\u001b[0m \u001b[0mstored\u001b[0m \u001b[0;34m=\u001b[0m \u001b[0;34m[\u001b[0m\u001b[0;34m]\u001b[0m\u001b[0;34m\u001b[0m\u001b[0;34m\u001b[0m\u001b[0m\n\u001b[0;32m----> 2\u001b[0;31m \u001b[0;32mwith\u001b[0m \u001b[0mopen\u001b[0m\u001b[0;34m(\u001b[0m\u001b[0;34m'data/so_question_withheader.csv'\u001b[0m\u001b[0;34m,\u001b[0m \u001b[0;34m'r'\u001b[0m\u001b[0;34m)\u001b[0m \u001b[0;32mas\u001b[0m \u001b[0mmy_file\u001b[0m\u001b[0;34m:\u001b[0m\u001b[0;34m\u001b[0m\u001b[0;34m\u001b[0m\u001b[0m\n\u001b[0m\u001b[1;32m      3\u001b[0m     \u001b[0;32mfor\u001b[0m \u001b[0mline\u001b[0m \u001b[0;32min\u001b[0m \u001b[0mmy_file\u001b[0m\u001b[0;34m:\u001b[0m\u001b[0;34m\u001b[0m\u001b[0;34m\u001b[0m\u001b[0m\n\u001b[1;32m      4\u001b[0m         \u001b[0mstored\u001b[0m\u001b[0;34m.\u001b[0m\u001b[0mappend\u001b[0m\u001b[0;34m(\u001b[0m\u001b[0mline\u001b[0m\u001b[0;34m.\u001b[0m\u001b[0mstrip\u001b[0m\u001b[0;34m(\u001b[0m\u001b[0;34m)\u001b[0m\u001b[0;34m)\u001b[0m\u001b[0;34m\u001b[0m\u001b[0;34m\u001b[0m\u001b[0m\n",
            "\u001b[0;31mFileNotFoundError\u001b[0m: [Errno 2] No such file or directory: 'data/so_question_withheader.csv'"
          ]
        }
      ]
    },
    {
      "cell_type": "code",
      "source": [
        "stored"
      ],
      "metadata": {
        "id": "sJfphkPnhBOU"
      },
      "execution_count": null,
      "outputs": []
    },
    {
      "cell_type": "markdown",
      "source": [
        "#Read certain lines in file\n",
        "\n",
        "* We can pick certain lines to read using the enumerate function\n",
        "\n",
        "* We can use this method to drop the title line\n",
        "\n",
        "* Enumerate()* method adds a counter to an iterable and returns it in a form of enumerating object. This enumerated object can then be used directly for loops or converted into a list of tuples using the list() method."
      ],
      "metadata": {
        "id": "pDa8DWCJhGyy"
      }
    },
    {
      "cell_type": "code",
      "source": [
        "list1 = [\"Sam\",\"Jonathan\",\"Xiaomeng\"]\n",
        "\n",
        "for ele in enumerate(list1):\n",
        "    print (ele)"
      ],
      "metadata": {
        "colab": {
          "base_uri": "https://localhost:8080/"
        },
        "id": "KoDviffFhMwj",
        "outputId": "ba04ce1a-1836-41ae-9ca9-f8e1f8effa3f"
      },
      "execution_count": null,
      "outputs": [
        {
          "output_type": "stream",
          "name": "stdout",
          "text": [
            "(0, 'Sam')\n",
            "(1, 'Jonathan')\n",
            "(2, 'Xiaomeng')\n"
          ]
        }
      ]
    },
    {
      "cell_type": "code",
      "source": [
        "stored = []\n",
        "with open('./data/survey_responses.csv', 'r') as my_file:\n",
        "    for i, line in enumerate(my_file):  # use enumerate to count which line we are on\n",
        "      if i>=0:\n",
        "        stored.append(line.strip())\n",
        "      else:\n",
        "        continue # do nothing when identify the first line (i==1), i.e. do not read the first line"
      ],
      "metadata": {
        "colab": {
          "base_uri": "https://localhost:8080/",
          "height": 236
        },
        "id": "WBNylLRBhORn",
        "outputId": "36ad7715-c605-41e4-bf85-8772fce60a30"
      },
      "execution_count": null,
      "outputs": [
        {
          "output_type": "error",
          "ename": "FileNotFoundError",
          "evalue": "ignored",
          "traceback": [
            "\u001b[0;31m---------------------------------------------------------------------------\u001b[0m",
            "\u001b[0;31mFileNotFoundError\u001b[0m                         Traceback (most recent call last)",
            "\u001b[0;32m<ipython-input-27-a2d5f239f6cd>\u001b[0m in \u001b[0;36m<module>\u001b[0;34m()\u001b[0m\n\u001b[1;32m      1\u001b[0m \u001b[0mstored\u001b[0m \u001b[0;34m=\u001b[0m \u001b[0;34m[\u001b[0m\u001b[0;34m]\u001b[0m\u001b[0;34m\u001b[0m\u001b[0;34m\u001b[0m\u001b[0m\n\u001b[0;32m----> 2\u001b[0;31m \u001b[0;32mwith\u001b[0m \u001b[0mopen\u001b[0m\u001b[0;34m(\u001b[0m\u001b[0;34m'data/so_question_withheader.csv'\u001b[0m\u001b[0;34m,\u001b[0m \u001b[0;34m'r'\u001b[0m\u001b[0;34m)\u001b[0m \u001b[0;32mas\u001b[0m \u001b[0mmy_file\u001b[0m\u001b[0;34m:\u001b[0m\u001b[0;34m\u001b[0m\u001b[0;34m\u001b[0m\u001b[0m\n\u001b[0m\u001b[1;32m      3\u001b[0m     \u001b[0;32mfor\u001b[0m \u001b[0mi\u001b[0m\u001b[0;34m,\u001b[0m \u001b[0mline\u001b[0m \u001b[0;32min\u001b[0m \u001b[0menumerate\u001b[0m\u001b[0;34m(\u001b[0m\u001b[0mmy_file\u001b[0m\u001b[0;34m)\u001b[0m\u001b[0;34m:\u001b[0m  \u001b[0;31m# use enumerate to count which line we are on\u001b[0m\u001b[0;34m\u001b[0m\u001b[0;34m\u001b[0m\u001b[0m\n\u001b[1;32m      4\u001b[0m       \u001b[0;32mif\u001b[0m \u001b[0mi\u001b[0m\u001b[0;34m>=\u001b[0m\u001b[0;36m0\u001b[0m\u001b[0;34m:\u001b[0m\u001b[0;34m\u001b[0m\u001b[0;34m\u001b[0m\u001b[0m\n\u001b[1;32m      5\u001b[0m         \u001b[0mstored\u001b[0m\u001b[0;34m.\u001b[0m\u001b[0mappend\u001b[0m\u001b[0;34m(\u001b[0m\u001b[0mline\u001b[0m\u001b[0;34m.\u001b[0m\u001b[0mstrip\u001b[0m\u001b[0;34m(\u001b[0m\u001b[0;34m)\u001b[0m\u001b[0;34m)\u001b[0m\u001b[0;34m\u001b[0m\u001b[0;34m\u001b[0m\u001b[0m\n",
            "\u001b[0;31mFileNotFoundError\u001b[0m: [Errno 2] No such file or directory: 'data/so_question_withheader.csv'"
          ]
        }
      ]
    },
    {
      "cell_type": "code",
      "source": [
        "stored # now the title line has been removed!"
      ],
      "metadata": {
        "id": "JnezJ_KvhN2b"
      },
      "execution_count": null,
      "outputs": []
    },
    {
      "cell_type": "markdown",
      "source": [
        "#Excercise\n",
        "\n",
        "Read from line 7 to line 20 (including both line 7 and line 20)"
      ],
      "metadata": {
        "id": "1LrXK47ehS20"
      }
    },
    {
      "cell_type": "code",
      "source": [
        "stored = []\n",
        "with open('./data/survey_responses.csv', 'r') as my_file:\n",
        "    for i, line in enumerate(my_file):\n",
        "      if _______:\n",
        "        stored.append(line.strip())\n",
        "      else:\n",
        "        continue"
      ],
      "metadata": {
        "colab": {
          "base_uri": "https://localhost:8080/",
          "height": 236
        },
        "id": "gRIvN_jXhXns",
        "outputId": "50377e22-a451-44c1-da0c-fce8d53bd5ac"
      },
      "execution_count": null,
      "outputs": [
        {
          "output_type": "error",
          "ename": "FileNotFoundError",
          "evalue": "ignored",
          "traceback": [
            "\u001b[0;31m---------------------------------------------------------------------------\u001b[0m",
            "\u001b[0;31mFileNotFoundError\u001b[0m                         Traceback (most recent call last)",
            "\u001b[0;32m<ipython-input-5-104d23da5ec5>\u001b[0m in \u001b[0;36m<module>\u001b[0;34m()\u001b[0m\n\u001b[1;32m      1\u001b[0m \u001b[0mstored\u001b[0m \u001b[0;34m=\u001b[0m \u001b[0;34m[\u001b[0m\u001b[0;34m]\u001b[0m\u001b[0;34m\u001b[0m\u001b[0;34m\u001b[0m\u001b[0m\n\u001b[0;32m----> 2\u001b[0;31m \u001b[0;32mwith\u001b[0m \u001b[0mopen\u001b[0m\u001b[0;34m(\u001b[0m\u001b[0;34m'./data/survey_responses.csv'\u001b[0m\u001b[0;34m,\u001b[0m \u001b[0;34m'r'\u001b[0m\u001b[0;34m)\u001b[0m \u001b[0;32mas\u001b[0m \u001b[0mmy_file\u001b[0m\u001b[0;34m:\u001b[0m\u001b[0;34m\u001b[0m\u001b[0;34m\u001b[0m\u001b[0m\n\u001b[0m\u001b[1;32m      3\u001b[0m     \u001b[0;32mfor\u001b[0m \u001b[0mi\u001b[0m\u001b[0;34m,\u001b[0m \u001b[0mline\u001b[0m \u001b[0;32min\u001b[0m \u001b[0menumerate\u001b[0m\u001b[0;34m(\u001b[0m\u001b[0mmy_file\u001b[0m\u001b[0;34m)\u001b[0m\u001b[0;34m:\u001b[0m\u001b[0;34m\u001b[0m\u001b[0;34m\u001b[0m\u001b[0m\n\u001b[1;32m      4\u001b[0m       \u001b[0;32mif\u001b[0m \u001b[0m_______\u001b[0m\u001b[0;34m:\u001b[0m\u001b[0;34m\u001b[0m\u001b[0;34m\u001b[0m\u001b[0m\n\u001b[1;32m      5\u001b[0m         \u001b[0mstored\u001b[0m\u001b[0;34m.\u001b[0m\u001b[0mappend\u001b[0m\u001b[0;34m(\u001b[0m\u001b[0mline\u001b[0m\u001b[0;34m.\u001b[0m\u001b[0mstrip\u001b[0m\u001b[0;34m(\u001b[0m\u001b[0;34m)\u001b[0m\u001b[0;34m)\u001b[0m\u001b[0;34m\u001b[0m\u001b[0;34m\u001b[0m\u001b[0m\n",
            "\u001b[0;31mFileNotFoundError\u001b[0m: [Errno 2] No such file or directory: './data/survey_responses.csv'"
          ]
        }
      ]
    },
    {
      "cell_type": "markdown",
      "source": [
        "#Writing to a file\n",
        "\n",
        "We can use the with open syntax for writing files as well."
      ],
      "metadata": {
        "id": "-6lWtko1hYhR"
      }
    },
    {
      "cell_type": "code",
      "source": [
        "# this is okay...\n",
        "new_file = open(\"output.csv\", \"w\")\n",
        "bees = ['bears', 'beets', 'Battlestar Galactica']\n",
        "for i in bees:\n",
        "    new_file.write(i + '\\n')\n",
        "new_file.close()"
      ],
      "metadata": {
        "id": "Dr2pxUf7hdRi"
      },
      "execution_count": null,
      "outputs": []
    },
    {
      "cell_type": "code",
      "source": [
        "bees = ['bears', 'beets', 'Battlestar Galactica']\n",
        "with open('output.csv', 'w') as new_file:\n",
        "    for i in bees:\n",
        "        new_file.write(i + '\\n')"
      ],
      "metadata": {
        "id": "rG435zDBhdhT"
      },
      "execution_count": null,
      "outputs": []
    },
    {
      "cell_type": "markdown",
      "source": [
        "Let's take a look at the file we wrote.\n",
        "\n",
        "#Using the CSV Module\n",
        "\n",
        "It is built specifically for reading csv files.\n",
        "It has nice functions such as .DictReader, .DictWriter that help read and write csv files more efficiently."
      ],
      "metadata": {
        "id": "aXxr3WDzhhac"
      }
    },
    {
      "cell_type": "code",
      "source": [
        "import csv"
      ],
      "metadata": {
        "id": "qVOtP7Q-hlNV"
      },
      "execution_count": null,
      "outputs": []
    },
    {
      "cell_type": "markdown",
      "source": [
        "Let's first try the same csv file 'so_question_title', with title in the first line."
      ],
      "metadata": {
        "id": "vEO3-Rj-hl2H"
      }
    },
    {
      "cell_type": "code",
      "source": [
        "questions = [] # make empty list\n",
        "with open('./data/survey_responses.csv', 'r') as csvfile: # open file\n",
        "    reader = csv.DictReader(csvfile) # create a reader\n",
        "    for row in reader: # loop through rows\n",
        "        questions.append(row) # append each row to the list"
      ],
      "metadata": {
        "colab": {
          "base_uri": "https://localhost:8080/",
          "height": 236
        },
        "id": "ShC2TL9ShojP",
        "outputId": "6b60a16d-87f4-4e56-d117-7f35ea6b3021"
      },
      "execution_count": null,
      "outputs": [
        {
          "output_type": "error",
          "ename": "FileNotFoundError",
          "evalue": "ignored",
          "traceback": [
            "\u001b[0;31m---------------------------------------------------------------------------\u001b[0m",
            "\u001b[0;31mFileNotFoundError\u001b[0m                         Traceback (most recent call last)",
            "\u001b[0;32m<ipython-input-3-b3d153519013>\u001b[0m in \u001b[0;36m<module>\u001b[0;34m()\u001b[0m\n\u001b[1;32m      1\u001b[0m \u001b[0mquestions\u001b[0m \u001b[0;34m=\u001b[0m \u001b[0;34m[\u001b[0m\u001b[0;34m]\u001b[0m \u001b[0;31m# make empty list\u001b[0m\u001b[0;34m\u001b[0m\u001b[0;34m\u001b[0m\u001b[0m\n\u001b[0;32m----> 2\u001b[0;31m \u001b[0;32mwith\u001b[0m \u001b[0mopen\u001b[0m\u001b[0;34m(\u001b[0m\u001b[0;34m'./data/survey_responses.csv'\u001b[0m\u001b[0;34m,\u001b[0m \u001b[0;34m'r'\u001b[0m\u001b[0;34m)\u001b[0m \u001b[0;32mas\u001b[0m \u001b[0mcsvfile\u001b[0m\u001b[0;34m:\u001b[0m \u001b[0;31m# open file\u001b[0m\u001b[0;34m\u001b[0m\u001b[0;34m\u001b[0m\u001b[0m\n\u001b[0m\u001b[1;32m      3\u001b[0m     \u001b[0mreader\u001b[0m \u001b[0;34m=\u001b[0m \u001b[0mcsv\u001b[0m\u001b[0;34m.\u001b[0m\u001b[0mDictReader\u001b[0m\u001b[0;34m(\u001b[0m\u001b[0mcsvfile\u001b[0m\u001b[0;34m)\u001b[0m \u001b[0;31m# create a reader\u001b[0m\u001b[0;34m\u001b[0m\u001b[0;34m\u001b[0m\u001b[0m\n\u001b[1;32m      4\u001b[0m     \u001b[0;32mfor\u001b[0m \u001b[0mrow\u001b[0m \u001b[0;32min\u001b[0m \u001b[0mreader\u001b[0m\u001b[0;34m:\u001b[0m \u001b[0;31m# loop through rows\u001b[0m\u001b[0;34m\u001b[0m\u001b[0;34m\u001b[0m\u001b[0m\n\u001b[1;32m      5\u001b[0m         \u001b[0mquestions\u001b[0m\u001b[0;34m.\u001b[0m\u001b[0mappend\u001b[0m\u001b[0;34m(\u001b[0m\u001b[0mrow\u001b[0m\u001b[0;34m)\u001b[0m \u001b[0;31m# append each row to the list\u001b[0m\u001b[0;34m\u001b[0m\u001b[0;34m\u001b[0m\u001b[0m\n",
            "\u001b[0;31mFileNotFoundError\u001b[0m: [Errno 2] No such file or directory: './data/survey_responses.csv'"
          ]
        }
      ]
    },
    {
      "cell_type": "code",
      "source": [
        "questions[:5] #first 5 lines of the data (the element of index 5 is not included)"
      ],
      "metadata": {
        "colab": {
          "base_uri": "https://localhost:8080/"
        },
        "id": "4goui4byhq0s",
        "outputId": "3e39859f-0eb7-42db-f9a3-3a97b104f247"
      },
      "execution_count": null,
      "outputs": [
        {
          "output_type": "execute_result",
          "data": {
            "text/plain": [
              "[]"
            ]
          },
          "metadata": {},
          "execution_count": 33
        }
      ]
    },
    {
      "cell_type": "code",
      "source": [
        "# get the keys in each dictionary\n",
        "keys = questions[1].keys()\n",
        "keys"
      ],
      "metadata": {
        "colab": {
          "base_uri": "https://localhost:8080/",
          "height": 201
        },
        "id": "ZHat1JwOhqo1",
        "outputId": "7a716df5-3337-4b8e-baba-6586b79c832a"
      },
      "execution_count": null,
      "outputs": [
        {
          "output_type": "error",
          "ename": "IndexError",
          "evalue": "ignored",
          "traceback": [
            "\u001b[0;31m---------------------------------------------------------------------------\u001b[0m",
            "\u001b[0;31mIndexError\u001b[0m                                Traceback (most recent call last)",
            "\u001b[0;32m<ipython-input-34-0567e6775032>\u001b[0m in \u001b[0;36m<module>\u001b[0;34m()\u001b[0m\n\u001b[1;32m      1\u001b[0m \u001b[0;31m# get the keys in each dictionary\u001b[0m\u001b[0;34m\u001b[0m\u001b[0;34m\u001b[0m\u001b[0;34m\u001b[0m\u001b[0m\n\u001b[0;32m----> 2\u001b[0;31m \u001b[0mkeys\u001b[0m \u001b[0;34m=\u001b[0m \u001b[0mquestions\u001b[0m\u001b[0;34m[\u001b[0m\u001b[0;36m1\u001b[0m\u001b[0;34m]\u001b[0m\u001b[0;34m.\u001b[0m\u001b[0mkeys\u001b[0m\u001b[0;34m(\u001b[0m\u001b[0;34m)\u001b[0m\u001b[0;34m\u001b[0m\u001b[0;34m\u001b[0m\u001b[0m\n\u001b[0m\u001b[1;32m      3\u001b[0m \u001b[0mkeys\u001b[0m\u001b[0;34m\u001b[0m\u001b[0;34m\u001b[0m\u001b[0m\n",
            "\u001b[0;31mIndexError\u001b[0m: list index out of range"
          ]
        }
      ]
    },
    {
      "cell_type": "markdown",
      "source": [
        "\n",
        "How about using an untitled csv file?"
      ],
      "metadata": {
        "id": "SW3rBCSBhu5z"
      }
    },
    {
      "cell_type": "code",
      "source": [
        "#read csv and read into a list of dictionaries\n",
        "questions = [] # make empty list\n",
        "with open('./data/survey_responses.csv', 'r') as csvfile: # open file\n",
        "    reader = csv.DictReader(csvfile) # create a reader\n",
        "    for row in reader: # loop through rows\n",
        "        questions.append(row) # append each row to the list"
      ],
      "metadata": {
        "colab": {
          "base_uri": "https://localhost:8080/",
          "height": 236
        },
        "id": "o6hhWr3ohwdG",
        "outputId": "693103c6-0dd0-48ec-d942-a8c34feed1e7"
      },
      "execution_count": null,
      "outputs": [
        {
          "output_type": "error",
          "ename": "FileNotFoundError",
          "evalue": "ignored",
          "traceback": [
            "\u001b[0;31m---------------------------------------------------------------------------\u001b[0m",
            "\u001b[0;31mFileNotFoundError\u001b[0m                         Traceback (most recent call last)",
            "\u001b[0;32m<ipython-input-4-34ae07d991a7>\u001b[0m in \u001b[0;36m<module>\u001b[0;34m()\u001b[0m\n\u001b[1;32m      1\u001b[0m \u001b[0;31m#read csv and read into a list of dictionaries\u001b[0m\u001b[0;34m\u001b[0m\u001b[0;34m\u001b[0m\u001b[0;34m\u001b[0m\u001b[0m\n\u001b[1;32m      2\u001b[0m \u001b[0mquestions\u001b[0m \u001b[0;34m=\u001b[0m \u001b[0;34m[\u001b[0m\u001b[0;34m]\u001b[0m \u001b[0;31m# make empty list\u001b[0m\u001b[0;34m\u001b[0m\u001b[0;34m\u001b[0m\u001b[0m\n\u001b[0;32m----> 3\u001b[0;31m \u001b[0;32mwith\u001b[0m \u001b[0mopen\u001b[0m\u001b[0;34m(\u001b[0m\u001b[0;34m'./data/survey_responses.csv'\u001b[0m\u001b[0;34m,\u001b[0m \u001b[0;34m'r'\u001b[0m\u001b[0;34m)\u001b[0m \u001b[0;32mas\u001b[0m \u001b[0mcsvfile\u001b[0m\u001b[0;34m:\u001b[0m \u001b[0;31m# open file\u001b[0m\u001b[0;34m\u001b[0m\u001b[0;34m\u001b[0m\u001b[0m\n\u001b[0m\u001b[1;32m      4\u001b[0m     \u001b[0mreader\u001b[0m \u001b[0;34m=\u001b[0m \u001b[0mcsv\u001b[0m\u001b[0;34m.\u001b[0m\u001b[0mDictReader\u001b[0m\u001b[0;34m(\u001b[0m\u001b[0mcsvfile\u001b[0m\u001b[0;34m)\u001b[0m \u001b[0;31m# create a reader\u001b[0m\u001b[0;34m\u001b[0m\u001b[0;34m\u001b[0m\u001b[0m\n\u001b[1;32m      5\u001b[0m     \u001b[0;32mfor\u001b[0m \u001b[0mrow\u001b[0m \u001b[0;32min\u001b[0m \u001b[0mreader\u001b[0m\u001b[0;34m:\u001b[0m \u001b[0;31m# loop through rows\u001b[0m\u001b[0;34m\u001b[0m\u001b[0;34m\u001b[0m\u001b[0m\n",
            "\u001b[0;31mFileNotFoundError\u001b[0m: [Errno 2] No such file or directory: './data/survey_responses.csv'"
          ]
        }
      ]
    },
    {
      "cell_type": "code",
      "source": [
        "questions[:5] # what are the problems?"
      ],
      "metadata": {
        "colab": {
          "base_uri": "https://localhost:8080/"
        },
        "id": "SjG1AgpBhyCC",
        "outputId": "dcf973a0-1908-4be8-b86c-5a65418629e3"
      },
      "execution_count": null,
      "outputs": [
        {
          "output_type": "execute_result",
          "data": {
            "text/plain": [
              "[]"
            ]
          },
          "metadata": {},
          "execution_count": 36
        }
      ]
    },
    {
      "cell_type": "markdown",
      "source": [
        "Let's check the list of dictionaries of this untitled csv file."
      ],
      "metadata": {
        "id": "B9nmpF9Nhz7G"
      }
    },
    {
      "cell_type": "code",
      "source": [
        "# get the keys in each dictionary\n",
        "keys = questions[1].keys()\n",
        "keys"
      ],
      "metadata": {
        "colab": {
          "base_uri": "https://localhost:8080/",
          "height": 201
        },
        "id": "tfYUfgbGh1g1",
        "outputId": "3a4809f3-d0b9-4b52-b8e5-c4b622ec677b"
      },
      "execution_count": null,
      "outputs": [
        {
          "output_type": "error",
          "ename": "IndexError",
          "evalue": "ignored",
          "traceback": [
            "\u001b[0;31m---------------------------------------------------------------------------\u001b[0m",
            "\u001b[0;31mIndexError\u001b[0m                                Traceback (most recent call last)",
            "\u001b[0;32m<ipython-input-37-0567e6775032>\u001b[0m in \u001b[0;36m<module>\u001b[0;34m()\u001b[0m\n\u001b[1;32m      1\u001b[0m \u001b[0;31m# get the keys in each dictionary\u001b[0m\u001b[0;34m\u001b[0m\u001b[0;34m\u001b[0m\u001b[0;34m\u001b[0m\u001b[0m\n\u001b[0;32m----> 2\u001b[0;31m \u001b[0mkeys\u001b[0m \u001b[0;34m=\u001b[0m \u001b[0mquestions\u001b[0m\u001b[0;34m[\u001b[0m\u001b[0;36m1\u001b[0m\u001b[0;34m]\u001b[0m\u001b[0;34m.\u001b[0m\u001b[0mkeys\u001b[0m\u001b[0;34m(\u001b[0m\u001b[0;34m)\u001b[0m\u001b[0;34m\u001b[0m\u001b[0;34m\u001b[0m\u001b[0m\n\u001b[0m\u001b[1;32m      3\u001b[0m \u001b[0mkeys\u001b[0m\u001b[0;34m\u001b[0m\u001b[0;34m\u001b[0m\u001b[0m\n",
            "\u001b[0;31mIndexError\u001b[0m: list index out of range"
          ]
        }
      ]
    }
  ]
}